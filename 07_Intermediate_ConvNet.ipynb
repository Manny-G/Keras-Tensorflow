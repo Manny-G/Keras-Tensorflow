{
 "cells": [
  {
   "cell_type": "markdown",
   "metadata": {},
   "source": [
    "<a id='Title-Intermediate-ConvNet'></a>\n",
    "<h1 style=\"color:SlateGray;\">Intermdiate ConvNet</h1>\n",
    "\n",
    "**Input dataset**\n",
    "\n",
    "Kaggle Cats and Dogs: a set of evenly split cat and dog images.\n",
    "\n",
    "**Output classification**\n",
    "\n",
    "Predict whether an image contains a cat or a dog.\n",
    "\n",
    "<h2 style=\"color:SlateGray;\">Background</h2>\n",
    "\n",
    "**Layers**\n",
    "\n",
    "[*Dense*](1_Image_Classification.ipynb#Layers-Dense)\n",
    "\n",
    "[*Conv2D*](6_Basic_ConvNet.ipynb#Layers-Conv2D)\n",
    "\n",
    "[*MaxPooling2D*](6_Basic_ConvNet.ipynb#Layers-MaxPooling2D)\n",
    "\n",
    "[*Flatten*](6_Basic_ConvNet.ipynb#Layers-Flatten)\n",
    "\n",
    "**Activations**\n",
    "\n",
    "[*relu*](1_Image_Classification.ipynb#Activations-relu)\n",
    "\n",
    "[*sigmoid*](2_Binary_Classification.ipynb#Activations-sigmoid)\n",
    "\t\t\n",
    "**Optimizers**\n",
    "\n",
    "[*rmsprop*](1_Image_Classification.ipynb#Optimizers-rmsprop)\n",
    "\t\t\n",
    "**Loss functions**\n",
    "\n",
    "[*binary_crossentropy*](2_Binary_Classification.ipynb#Loss-functions-binary_crossentropy)\n",
    "\n",
    "<h2 style=\"color:SlateGray;\">Overview</h2>\n",
    "\n",
    "Explore built-in image data augmentation utilities.\n",
    "\n",
    "This example leverages the ImageDataGenerator class to flow in data from structured directories serving as labeled containers. ImageDataGenerators can distort images creating the illusion of having more unique data than what is actually available yielding better generalization performance."
   ]
  },
  {
   "cell_type": "code",
   "execution_count": 1,
   "metadata": {},
   "outputs": [
    {
     "name": "stderr",
     "output_type": "stream",
     "text": [
      "Using TensorFlow backend.\n"
     ]
    },
    {
     "data": {
      "text/plain": [
       "'2.2.2'"
      ]
     },
     "execution_count": 1,
     "metadata": {},
     "output_type": "execute_result"
    }
   ],
   "source": [
    "import keras\n",
    "keras.__version__"
   ]
  },
  {
   "cell_type": "code",
   "execution_count": 2,
   "metadata": {},
   "outputs": [],
   "source": [
    "import os, shutil\n",
    "\n",
    "original_dataset_dir = r'./kaggle_original_data'\n",
    "\n",
    "base_dir = r'./cats_and_dogs_small'\n",
    "if not os.path.isdir(base_dir):\n",
    "    os.mkdir(base_dir)\n",
    "\n",
    "train_dir = os.path.join(base_dir, 'train')\n",
    "if not os.path.isdir(train_dir):\n",
    "    os.mkdir(train_dir)\n",
    "\n",
    "validation_dir = os.path.join(base_dir, 'validation')\n",
    "if not os.path.isdir(validation_dir):\n",
    "    os.mkdir(validation_dir)\n",
    "    \n",
    "test_dir = os.path.join(base_dir, 'test')\n",
    "if not os.path.isdir(test_dir):\n",
    "    os.mkdir(test_dir)\n",
    "\n",
    "train_cats_dir = os.path.join(train_dir, 'cats')\n",
    "if not os.path.isdir(train_cats_dir):\n",
    "    os.mkdir(train_cats_dir)\n",
    "\n",
    "train_dogs_dir = os.path.join(train_dir, 'dogs')\n",
    "if not os.path.isdir(train_dogs_dir):\n",
    "    os.mkdir(train_dogs_dir)\n",
    "\n",
    "validation_cats_dir = os.path.join(validation_dir, 'cats')\n",
    "if not os.path.isdir(validation_cats_dir):\n",
    "    os.mkdir(validation_cats_dir)\n",
    "\n",
    "validation_dogs_dir = os.path.join(validation_dir, 'dogs')\n",
    "if not os.path.isdir(validation_dogs_dir):\n",
    "    os.mkdir(validation_dogs_dir)\n",
    "\n",
    "test_cats_dir = os.path.join(test_dir, 'cats')\n",
    "if not os.path.isdir(test_cats_dir):\n",
    "    os.mkdir(test_cats_dir)\n",
    "\n",
    "test_dogs_dir = os.path.join(test_dir, 'dogs')\n",
    "if not os.path.isdir(test_dogs_dir):\n",
    "    os.mkdir(test_dogs_dir)\n",
    "\n",
    "fnames = ['cat.{}.jpg'.format(i) for i in range(1000)]\n",
    "for fname in fnames:\n",
    "    src = os.path.join(original_dataset_dir, fname)\n",
    "    dst = os.path.join(train_cats_dir, fname)\n",
    "    shutil.copyfile(src, dst)\n",
    "\n",
    "fnames = ['cat.{}.jpg'.format(i) for i in range(1000, 1500)]\n",
    "for fname in fnames:\n",
    "    src = os.path.join(original_dataset_dir, fname)\n",
    "    dst = os.path.join(validation_cats_dir, fname)\n",
    "    shutil.copyfile(src, dst)\n",
    "    \n",
    "fnames = ['cat.{}.jpg'.format(i) for i in range(1500, 2000)]\n",
    "for fname in fnames:\n",
    "    src = os.path.join(original_dataset_dir, fname)\n",
    "    dst = os.path.join(test_cats_dir, fname)\n",
    "    shutil.copyfile(src, dst)\n",
    "    \n",
    "fnames = ['dog.{}.jpg'.format(i) for i in range(1000)]\n",
    "for fname in fnames:\n",
    "    src = os.path.join(original_dataset_dir, fname)\n",
    "    dst = os.path.join(train_dogs_dir, fname)\n",
    "    shutil.copyfile(src, dst)\n",
    "    \n",
    "fnames = ['dog.{}.jpg'.format(i) for i in range(1000, 1500)]\n",
    "for fname in fnames:\n",
    "    src = os.path.join(original_dataset_dir, fname)\n",
    "    dst = os.path.join(validation_dogs_dir, fname)\n",
    "    shutil.copyfile(src, dst)\n",
    "    \n",
    "fnames = ['dog.{}.jpg'.format(i) for i in range(1500, 2000)]\n",
    "for fname in fnames:\n",
    "    src = os.path.join(original_dataset_dir, fname)\n",
    "    dst = os.path.join(test_dogs_dir, fname)\n",
    "    shutil.copyfile(src, dst)"
   ]
  },
  {
   "cell_type": "code",
   "execution_count": 3,
   "metadata": {},
   "outputs": [
    {
     "name": "stdout",
     "output_type": "stream",
     "text": [
      "Found 2000 images belonging to 2 classes.\n",
      "Found 1000 images belonging to 2 classes.\n"
     ]
    }
   ],
   "source": [
    "from keras.preprocessing.image import ImageDataGenerator\n",
    "\n",
    "train_datagen = ImageDataGenerator(rescale=1./255)\n",
    "test_datagen = ImageDataGenerator(rescale=1./255)\n",
    "\n",
    "train_generator = train_datagen.flow_from_directory(train_dir,\n",
    "                                                  target_size=(150, 150),\n",
    "                                                  batch_size=20,\n",
    "                                                  class_mode='binary')\n",
    "\n",
    "validation_generator = test_datagen.flow_from_directory(validation_dir,\n",
    "                                                       target_size=(150, 150),\n",
    "                                                       batch_size=20,\n",
    "                                                       class_mode='binary')"
   ]
  },
  {
   "cell_type": "code",
   "execution_count": 4,
   "metadata": {},
   "outputs": [
    {
     "name": "stdout",
     "output_type": "stream",
     "text": [
      "_________________________________________________________________\n",
      "Layer (type)                 Output Shape              Param #   \n",
      "=================================================================\n",
      "conv2d_1 (Conv2D)            (None, 148, 148, 32)      896       \n",
      "_________________________________________________________________\n",
      "max_pooling2d_1 (MaxPooling2 (None, 74, 74, 32)        0         \n",
      "_________________________________________________________________\n",
      "conv2d_2 (Conv2D)            (None, 72, 72, 64)        18496     \n",
      "_________________________________________________________________\n",
      "max_pooling2d_2 (MaxPooling2 (None, 36, 36, 64)        0         \n",
      "_________________________________________________________________\n",
      "conv2d_3 (Conv2D)            (None, 34, 34, 128)       73856     \n",
      "_________________________________________________________________\n",
      "max_pooling2d_3 (MaxPooling2 (None, 17, 17, 128)       0         \n",
      "_________________________________________________________________\n",
      "flatten_1 (Flatten)          (None, 36992)             0         \n",
      "_________________________________________________________________\n",
      "dense_1 (Dense)              (None, 512)               18940416  \n",
      "_________________________________________________________________\n",
      "dense_2 (Dense)              (None, 1)                 513       \n",
      "=================================================================\n",
      "Total params: 19,034,177\n",
      "Trainable params: 19,034,177\n",
      "Non-trainable params: 0\n",
      "_________________________________________________________________\n"
     ]
    }
   ],
   "source": [
    "from keras import layers\n",
    "from keras import models\n",
    "\n",
    "model1 = models.Sequential()\n",
    "model1.add(layers.Conv2D(32, (3, 3), activation='relu', input_shape=(150, 150, 3)))\n",
    "model1.add(layers.MaxPooling2D((2, 2)))\n",
    "model1.add(layers.Conv2D(64, (3, 3), activation='relu'))\n",
    "model1.add(layers.MaxPooling2D((2, 2)))\n",
    "model1.add(layers.Conv2D(128, (3, 3), activation='relu'))\n",
    "model1.add(layers.MaxPooling2D((2, 2)))\n",
    "model1.add(layers.Flatten())\n",
    "model1.add(layers.Dense(512, activation='relu'))\n",
    "model1.add(layers.Dense(1, activation='sigmoid'))\n",
    "model1.summary()"
   ]
  },
  {
   "cell_type": "code",
   "execution_count": 5,
   "metadata": {
    "scrolled": true
   },
   "outputs": [
    {
     "name": "stdout",
     "output_type": "stream",
     "text": [
      "Epoch 1/30\n",
      "100/100 [==============================] - 15s 151ms/step - loss: 0.6928 - acc: 0.5640 - val_loss: 0.6673 - val_acc: 0.5840\n",
      "Epoch 2/30\n",
      "100/100 [==============================] - 9s 85ms/step - loss: 0.6150 - acc: 0.6650 - val_loss: 0.6052 - val_acc: 0.6710\n",
      "Epoch 3/30\n",
      "100/100 [==============================] - 9s 86ms/step - loss: 0.5539 - acc: 0.7205 - val_loss: 0.6046 - val_acc: 0.6700\n",
      "Epoch 4/30\n",
      "100/100 [==============================] - 8s 79ms/step - loss: 0.5025 - acc: 0.7570 - val_loss: 0.5758 - val_acc: 0.7010\n",
      "Epoch 5/30\n",
      "100/100 [==============================] - 7s 72ms/step - loss: 0.4615 - acc: 0.7780 - val_loss: 0.5700 - val_acc: 0.6920\n",
      "Epoch 6/30\n",
      "100/100 [==============================] - 7s 72ms/step - loss: 0.4174 - acc: 0.8075 - val_loss: 0.5742 - val_acc: 0.6950\n",
      "Epoch 7/30\n",
      "100/100 [==============================] - 7s 72ms/step - loss: 0.3841 - acc: 0.8365 - val_loss: 0.6057 - val_acc: 0.6980\n",
      "Epoch 8/30\n",
      "100/100 [==============================] - 7s 73ms/step - loss: 0.3466 - acc: 0.8550 - val_loss: 0.5651 - val_acc: 0.7260\n",
      "Epoch 9/30\n",
      "100/100 [==============================] - 8s 77ms/step - loss: 0.3224 - acc: 0.8700 - val_loss: 0.5971 - val_acc: 0.6990\n",
      "Epoch 10/30\n",
      "100/100 [==============================] - 8s 77ms/step - loss: 0.2795 - acc: 0.8940 - val_loss: 0.5844 - val_acc: 0.7190\n",
      "Epoch 11/30\n",
      "100/100 [==============================] - 7s 74ms/step - loss: 0.2458 - acc: 0.9055 - val_loss: 0.5943 - val_acc: 0.7340\n",
      "Epoch 12/30\n",
      "100/100 [==============================] - 7s 71ms/step - loss: 0.2187 - acc: 0.9235 - val_loss: 0.6536 - val_acc: 0.7280\n",
      "Epoch 13/30\n",
      "100/100 [==============================] - 7s 73ms/step - loss: 0.1947 - acc: 0.9345 - val_loss: 0.6592 - val_acc: 0.7410\n",
      "Epoch 14/30\n",
      "100/100 [==============================] - 8s 82ms/step - loss: 0.1735 - acc: 0.9405 - val_loss: 0.6673 - val_acc: 0.7120\n",
      "Epoch 15/30\n",
      "100/100 [==============================] - 8s 84ms/step - loss: 0.1451 - acc: 0.9515 - val_loss: 0.6657 - val_acc: 0.7160\n",
      "Epoch 16/30\n",
      "100/100 [==============================] - 9s 88ms/step - loss: 0.1223 - acc: 0.9600 - val_loss: 0.7041 - val_acc: 0.7280\n",
      "Epoch 17/30\n",
      "100/100 [==============================] - 8s 83ms/step - loss: 0.0990 - acc: 0.9705 - val_loss: 0.7717 - val_acc: 0.7120\n",
      "Epoch 18/30\n",
      "100/100 [==============================] - 7s 74ms/step - loss: 0.0887 - acc: 0.9785 - val_loss: 0.8107 - val_acc: 0.7160\n",
      "Epoch 19/30\n",
      "100/100 [==============================] - 9s 91ms/step - loss: 0.0713 - acc: 0.9820 - val_loss: 0.8701 - val_acc: 0.7180\n",
      "Epoch 20/30\n",
      "100/100 [==============================] - 8s 81ms/step - loss: 0.0579 - acc: 0.9865 - val_loss: 0.8876 - val_acc: 0.7130\n",
      "Epoch 21/30\n",
      "100/100 [==============================] - 7s 74ms/step - loss: 0.0539 - acc: 0.9875 - val_loss: 0.9515 - val_acc: 0.7190\n",
      "Epoch 22/30\n",
      "100/100 [==============================] - 8s 82ms/step - loss: 0.0384 - acc: 0.9945 - val_loss: 0.9859 - val_acc: 0.7200\n",
      "Epoch 23/30\n",
      "100/100 [==============================] - 8s 77ms/step - loss: 0.0332 - acc: 0.9930 - val_loss: 1.0803 - val_acc: 0.7060\n",
      "Epoch 24/30\n",
      "100/100 [==============================] - 7s 72ms/step - loss: 0.0283 - acc: 0.9945 - val_loss: 1.0669 - val_acc: 0.7320\n",
      "Epoch 25/30\n",
      "100/100 [==============================] - 7s 72ms/step - loss: 0.0219 - acc: 0.9955 - val_loss: 1.0791 - val_acc: 0.7230\n",
      "Epoch 26/30\n",
      "100/100 [==============================] - 7s 72ms/step - loss: 0.0216 - acc: 0.9940 - val_loss: 1.1002 - val_acc: 0.7180\n",
      "Epoch 27/30\n",
      "100/100 [==============================] - 8s 79ms/step - loss: 0.0172 - acc: 0.9960 - val_loss: 1.2435 - val_acc: 0.7160\n",
      "Epoch 28/30\n",
      "100/100 [==============================] - 7s 72ms/step - loss: 0.0152 - acc: 0.9965 - val_loss: 1.2256 - val_acc: 0.7330\n",
      "Epoch 29/30\n",
      "100/100 [==============================] - 8s 80ms/step - loss: 0.0181 - acc: 0.9945 - val_loss: 1.2453 - val_acc: 0.7140\n",
      "Epoch 30/30\n",
      "100/100 [==============================] - 8s 76ms/step - loss: 0.0125 - acc: 0.9980 - val_loss: 1.3238 - val_acc: 0.7140\n"
     ]
    }
   ],
   "source": [
    "from keras import optimizers\n",
    "\n",
    "model1.compile(optimizer=optimizers.RMSprop(lr=1e-4),\n",
    "              loss='binary_crossentropy',\n",
    "              metrics=['acc'])\n",
    "\n",
    "history1 = model1.fit_generator(train_generator,\n",
    "                              steps_per_epoch=100,\n",
    "                              epochs=30,\n",
    "                              validation_data=(validation_generator),\n",
    "                              validation_steps=50)\n",
    "\n",
    "model1.save('cats_and_dogs_small_1.h5')"
   ]
  },
  {
   "cell_type": "code",
   "execution_count": 7,
   "metadata": {},
   "outputs": [
    {
     "data": {
      "image/png": "[encoded data removed]",
      "text/plain": [
       "<Figure size 432x288 with 1 Axes>"
      ]
     },
     "metadata": {},
     "output_type": "display_data"
    },
    {
     "data": {
      "image/png": "[encoded data removed]",
      "text/plain": [
       "<Figure size 432x288 with 1 Axes>"
      ]
     },
     "metadata": {},
     "output_type": "display_data"
    }
   ],
   "source": [
    "import matplotlib.pyplot as plt\n",
    "\n",
    "acc = history1.history['acc']\n",
    "val_acc = history1.history['val_acc']\n",
    "loss = history1.history['loss']\n",
    "val_loss = history1.history['val_loss']\n",
    "\n",
    "epochs = range(len(acc))\n",
    "\n",
    "plt.plot(epochs, acc, 'b', label='Training accuracy')\n",
    "plt.plot(epochs, val_acc, 'r', label='Validation accuracy')\n",
    "plt.xlabel('Epochs')\n",
    "plt.ylabel('Accuracy')\n",
    "plt.legend()\n",
    "plt.grid()\n",
    "\n",
    "plt.figure()\n",
    "\n",
    "plt.plot(epochs, loss, 'b', label='Training loss')\n",
    "plt.plot(epochs, val_loss, 'r', label='Validation loss')\n",
    "plt.xlabel('Epochs')\n",
    "plt.title('Loss')\n",
    "plt.legend()\n",
    "plt.grid()\n",
    "\n",
    "plt.show()"
   ]
  },
  {
   "cell_type": "code",
   "execution_count": 8,
   "metadata": {},
   "outputs": [
    {
     "name": "stdout",
     "output_type": "stream",
     "text": [
      "Found 2000 images belonging to 2 classes.\n",
      "Found 1000 images belonging to 2 classes.\n"
     ]
    }
   ],
   "source": [
    "train_datagen = ImageDataGenerator(rescale=1./255,\n",
    "                                   rotation_range=40,\n",
    "                                   width_shift_range=0.2,\n",
    "                                   height_shift_range=0.2,\n",
    "                                   shear_range=0.2,\n",
    "                                   zoom_range=0.2,\n",
    "                                   horizontal_flip=True)\n",
    "\n",
    "test_datagen = ImageDataGenerator(rescale=1./255)\n",
    "\n",
    "train_generator = train_datagen.flow_from_directory(train_dir,\n",
    "                                                    target_size=(150, 150),\n",
    "                                                    batch_size=32,\n",
    "                                                    class_mode='binary')\n",
    "\n",
    "validation_generator = test_datagen.flow_from_directory(validation_dir,\n",
    "                                                        target_size=(150, 150),\n",
    "                                                        batch_size=32,\n",
    "                                                        class_mode='binary')\n"
   ]
  },
  {
   "cell_type": "code",
   "execution_count": 9,
   "metadata": {},
   "outputs": [
    {
     "name": "stdout",
     "output_type": "stream",
     "text": [
      "_________________________________________________________________\n",
      "Layer (type)                 Output Shape              Param #   \n",
      "=================================================================\n",
      "conv2d_1 (Conv2D)            (None, 148, 148, 32)      896       \n",
      "_________________________________________________________________\n",
      "max_pooling2d_1 (MaxPooling2 (None, 74, 74, 32)        0         \n",
      "_________________________________________________________________\n",
      "conv2d_2 (Conv2D)            (None, 72, 72, 64)        18496     \n",
      "_________________________________________________________________\n",
      "max_pooling2d_2 (MaxPooling2 (None, 36, 36, 64)        0         \n",
      "_________________________________________________________________\n",
      "conv2d_3 (Conv2D)            (None, 34, 34, 128)       73856     \n",
      "_________________________________________________________________\n",
      "max_pooling2d_3 (MaxPooling2 (None, 17, 17, 128)       0         \n",
      "_________________________________________________________________\n",
      "flatten_1 (Flatten)          (None, 36992)             0         \n",
      "_________________________________________________________________\n",
      "dense_1 (Dense)              (None, 512)               18940416  \n",
      "_________________________________________________________________\n",
      "dense_2 (Dense)              (None, 1)                 513       \n",
      "=================================================================\n",
      "Total params: 19,034,177\n",
      "Trainable params: 19,034,177\n",
      "Non-trainable params: 0\n",
      "_________________________________________________________________\n"
     ]
    }
   ],
   "source": [
    "model2 = models.Sequential()\n",
    "model2.add(layers.Conv2D(32, (3, 3), activation='relu', input_shape=(150, 150, 3)))\n",
    "model2.add(layers.MaxPooling2D((2, 2)))\n",
    "model2.add(layers.Conv2D(64, (3, 3), activation='relu'))\n",
    "model2.add(layers.MaxPooling2D((2, 2)))\n",
    "model2.add(layers.Conv2D(128, (3, 3), activation='relu'))\n",
    "model2.add(layers.MaxPooling2D((2, 2)))\n",
    "model2.add(layers.Conv2D(128, (3, 3), activation='relu'))\n",
    "model2.add(layers.MaxPooling2D((2, 2)))\n",
    "model2.add(layers.Flatten())\n",
    "model2.add(layers.Dropout(0.5))\n",
    "model2.add(layers.Dense(512, activation='relu'))\n",
    "model2.add(layers.Dense(1, activation='sigmoid'))\n",
    "model1.summary()\n",
    "\n",
    "model2.compile(loss='binary_crossentropy',\n",
    "              optimizer=optimizers.RMSprop(lr=1e-4),\n",
    "              metrics=['acc'])"
   ]
  },
  {
   "cell_type": "code",
   "execution_count": 10,
   "metadata": {
    "scrolled": true
   },
   "outputs": [
    {
     "name": "stdout",
     "output_type": "stream",
     "text": [
      "Epoch 1/30\n",
      "100/100 [==============================] - 26s 256ms/step - loss: 0.6888 - acc: 0.5250 - val_loss: 0.6735 - val_acc: 0.5890\n",
      "Epoch 2/30\n",
      "100/100 [==============================] - 21s 214ms/step - loss: 0.6710 - acc: 0.5809 - val_loss: 0.6461 - val_acc: 0.6110\n",
      "Epoch 3/30\n",
      "100/100 [==============================] - 21s 212ms/step - loss: 0.6531 - acc: 0.6122 - val_loss: 0.6404 - val_acc: 0.6190\n",
      "Epoch 4/30\n",
      "100/100 [==============================] - 20s 200ms/step - loss: 0.6317 - acc: 0.6344 - val_loss: 0.6125 - val_acc: 0.6590\n",
      "Epoch 5/30\n",
      "100/100 [==============================] - 21s 209ms/step - loss: 0.6175 - acc: 0.6513 - val_loss: 0.6056 - val_acc: 0.6780\n",
      "Epoch 6/30\n",
      "100/100 [==============================] - 23s 226ms/step - loss: 0.6007 - acc: 0.6731 - val_loss: 0.5858 - val_acc: 0.6820\n",
      "Epoch 7/30\n",
      "100/100 [==============================] - 20s 197ms/step - loss: 0.5950 - acc: 0.6672 - val_loss: 0.5746 - val_acc: 0.6940\n",
      "Epoch 8/30\n",
      "100/100 [==============================] - 20s 200ms/step - loss: 0.5848 - acc: 0.6872 - val_loss: 0.5510 - val_acc: 0.7210\n",
      "Epoch 9/30\n",
      "100/100 [==============================] - 21s 207ms/step - loss: 0.5765 - acc: 0.6984 - val_loss: 0.5756 - val_acc: 0.6990\n",
      "Epoch 10/30\n",
      "100/100 [==============================] - 21s 213ms/step - loss: 0.5744 - acc: 0.7078 - val_loss: 0.5977 - val_acc: 0.6880\n",
      "Epoch 11/30\n",
      "100/100 [==============================] - 21s 208ms/step - loss: 0.5595 - acc: 0.7059 - val_loss: 0.5229 - val_acc: 0.7240\n",
      "Epoch 12/30\n",
      "100/100 [==============================] - 21s 213ms/step - loss: 0.5565 - acc: 0.7160 - val_loss: 0.5308 - val_acc: 0.7410\n",
      "Epoch 13/30\n",
      "100/100 [==============================] - 21s 209ms/step - loss: 0.5477 - acc: 0.7159 - val_loss: 0.5618 - val_acc: 0.7170\n",
      "Epoch 14/30\n",
      "100/100 [==============================] - 21s 209ms/step - loss: 0.5428 - acc: 0.7328 - val_loss: 0.5935 - val_acc: 0.6850\n",
      "Epoch 15/30\n",
      "100/100 [==============================] - 21s 206ms/step - loss: 0.5390 - acc: 0.7228 - val_loss: 0.5566 - val_acc: 0.7140\n",
      "Epoch 16/30\n",
      "100/100 [==============================] - 22s 220ms/step - loss: 0.5345 - acc: 0.7272 - val_loss: 0.5375 - val_acc: 0.7260\n",
      "Epoch 17/30\n",
      "100/100 [==============================] - 21s 213ms/step - loss: 0.5364 - acc: 0.7272 - val_loss: 0.5114 - val_acc: 0.7400\n",
      "Epoch 18/30\n",
      "100/100 [==============================] - 23s 231ms/step - loss: 0.5271 - acc: 0.7306 - val_loss: 0.5185 - val_acc: 0.7430\n",
      "Epoch 19/30\n",
      "100/100 [==============================] - 24s 238ms/step - loss: 0.5197 - acc: 0.7366 - val_loss: 0.5102 - val_acc: 0.7330\n",
      "Epoch 20/30\n",
      "100/100 [==============================] - 22s 223ms/step - loss: 0.5185 - acc: 0.7413 - val_loss: 0.5689 - val_acc: 0.7110\n",
      "Epoch 21/30\n",
      "100/100 [==============================] - 22s 223ms/step - loss: 0.5122 - acc: 0.7481 - val_loss: 0.4814 - val_acc: 0.7660\n",
      "Epoch 22/30\n",
      "100/100 [==============================] - 22s 224ms/step - loss: 0.5075 - acc: 0.7444 - val_loss: 0.5116 - val_acc: 0.7460\n",
      "Epoch 23/30\n",
      "100/100 [==============================] - 23s 230ms/step - loss: 0.4987 - acc: 0.7562 - val_loss: 0.5784 - val_acc: 0.7160\n",
      "Epoch 24/30\n",
      "100/100 [==============================] - 23s 227ms/step - loss: 0.5063 - acc: 0.7534 - val_loss: 0.5012 - val_acc: 0.7520\n",
      "Epoch 25/30\n",
      "100/100 [==============================] - 22s 224ms/step - loss: 0.5030 - acc: 0.7450 - val_loss: 0.5274 - val_acc: 0.7410\n",
      "Epoch 26/30\n",
      "100/100 [==============================] - 23s 227ms/step - loss: 0.4940 - acc: 0.7678 - val_loss: 0.4675 - val_acc: 0.7830\n",
      "Epoch 27/30\n",
      "100/100 [==============================] - 24s 236ms/step - loss: 0.4945 - acc: 0.7522 - val_loss: 0.5384 - val_acc: 0.7460\n",
      "Epoch 28/30\n",
      "100/100 [==============================] - 23s 230ms/step - loss: 0.4774 - acc: 0.7703 - val_loss: 0.4591 - val_acc: 0.7880\n",
      "Epoch 29/30\n",
      "100/100 [==============================] - 23s 234ms/step - loss: 0.4958 - acc: 0.7559 - val_loss: 0.4831 - val_acc: 0.7660\n",
      "Epoch 30/30\n",
      "100/100 [==============================] - 23s 235ms/step - loss: 0.4869 - acc: 0.7669 - val_loss: 0.4716 - val_acc: 0.7720\n"
     ]
    }
   ],
   "source": [
    "history2 = model2.fit_generator(train_generator,\n",
    "                              steps_per_epoch=100,\n",
    "                              epochs=30,\n",
    "                              validation_data=validation_generator,\n",
    "                              validation_steps=50)\n",
    "\n",
    "model2.save('cats_and_dogs_small_2.h5')"
   ]
  },
  {
   "cell_type": "code",
   "execution_count": 11,
   "metadata": {
    "scrolled": false
   },
   "outputs": [
    {
     "data": {
      "image/png": "[encoded data removed]",
      "text/plain": [
       "<Figure size 432x288 with 1 Axes>"
      ]
     },
     "metadata": {},
     "output_type": "display_data"
    },
    {
     "data": {
      "image/png": "[encoded data removed]",
      "text/plain": [
       "<Figure size 432x288 with 1 Axes>"
      ]
     },
     "metadata": {},
     "output_type": "display_data"
    }
   ],
   "source": [
    "acc = history2.history['acc']\n",
    "val_acc = history2.history['val_acc']\n",
    "loss = history2.history['loss']\n",
    "val_loss = history2.history['val_loss']\n",
    "\n",
    "epochs = range(len(acc))\n",
    "\n",
    "plt.plot(epochs, acc, 'b', label='Training accuracy')\n",
    "plt.plot(epochs, val_acc, 'r', label='Validation accuracy')\n",
    "plt.xlabel('Epochs')\n",
    "plt.ylabel('Accuracy')\n",
    "plt.legend()\n",
    "plt.grid()\n",
    "\n",
    "plt.figure()\n",
    "\n",
    "plt.plot(epochs, loss, 'b', label='Training loss')\n",
    "plt.plot(epochs, val_loss, 'r', label='Validation loss')\n",
    "plt.xlabel('Epochs')\n",
    "plt.title('Loss')\n",
    "plt.legend()\n",
    "plt.grid()\n",
    "\n",
    "plt.show()"
   ]
  }
 ],
 "metadata": {
  "kernelspec": {
   "display_name": "Python 3",
   "language": "python",
   "name": "python3"
  },
  "language_info": {
   "codemirror_mode": {
    "name": "ipython",
    "version": 3
   },
   "file_extension": ".py",
   "mimetype": "text/x-python",
   "name": "python",
   "nbconvert_exporter": "python",
   "pygments_lexer": "ipython3",
   "version": "3.6.5"
  }
 },
 "nbformat": 4,
 "nbformat_minor": 2
}
