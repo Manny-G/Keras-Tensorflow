{
 "cells": [
  {
   "cell_type": "markdown",
   "metadata": {},
   "source": [
    "<a id='Title-Language-Model'></a>\n",
    "<h1 style=\"color:SlateGray;\">Language Model</h1>\n",
    "\n",
    "**Input dataset**\n",
    "\n",
    "Beyond Good and Evil: the plain text form of Friedrich Nietzsche's book.\n",
    "\n",
    "**Output classification**\n",
    "\n",
    "Set of the 400 most likely characters to proceed a random sample from the text.\n",
    "\n",
    "<h2 style=\"color:SlateGray;\">Background</h2>\n",
    "\n",
    "**Layers**\n",
    "\n",
    "[*Dense*](01_Image_Classification.ipynb#Layers-Dense)\n",
    "\n",
    "[*LSTM*](12_Basic_NLP_RNN.ipynb#Layers-LSTM)\n",
    "\n",
    "**Activations**\n",
    "\n",
    "[*softmax*](01_Image_Classification.ipynb#Activations-softmax)\n",
    "\t\t\n",
    "**Optimizers**\n",
    "\n",
    "[*rmsprop*](01_Image_Classification.ipynb#Optimizers-rmsprop)\n",
    "\t\t\n",
    "**Loss functions**\n",
    "\n",
    "[*categorical_crossentropy*](01_Image_Classification.ipynb#Loss-functions-categorical_crossentropy)\n",
    "\n",
    "<h2 style=\"color:SlateGray;\">Overview</h2>\n",
    "\n",
    "*What is it for, conceptually?*\n",
    "\n",
    "Demonstrates the capabilities of text-generation with RNN-based models.\n",
    "\n",
    "*How does it work, mechanically?*\n",
    "\n",
    "Uses a random snippet of text from the dataset as a seed to produce the initial probability distribution of possible next characters. This distribution is rescaled by a temperature, which indicates the amount of randomness-padding desired from the distribution, a next character is then selected and appended to the seed which will be used as the new seed for generating a .\n"
   ]
  },
  {
   "cell_type": "code",
   "execution_count": 1,
   "metadata": {},
   "outputs": [
    {
     "name": "stderr",
     "output_type": "stream",
     "text": [
      "Using TensorFlow backend.\n"
     ]
    },
    {
     "data": {
      "text/plain": [
       "'2.2.2'"
      ]
     },
     "execution_count": 1,
     "metadata": {},
     "output_type": "execute_result"
    }
   ],
   "source": [
    "import keras\n",
    "keras.__version__"
   ]
  },
  {
   "cell_type": "code",
   "execution_count": 2,
   "metadata": {},
   "outputs": [
    {
     "name": "stdout",
     "output_type": "stream",
     "text": [
      "Downloading data from https://s3.amazonaws.com/text-datasets/nietzsche.txt\n",
      "606208/600901 [==============================] - 1s 1us/step\n",
      "Corpus length: 600901\n"
     ]
    }
   ],
   "source": [
    "import keras\n",
    "import numpy as np\n",
    "\n",
    "path = keras.utils.get_file(\n",
    "    'nietzsche.txt',\n",
    "    origin='https://s3.amazonaws.com/text-datasets/nietzsche.txt')\n",
    "text = open(path).read().lower()\n",
    "print('Corpus length:', len(text))"
   ]
  },
  {
   "cell_type": "code",
   "execution_count": 3,
   "metadata": {},
   "outputs": [
    {
     "name": "stdout",
     "output_type": "stream",
     "text": [
      "Number of sequences: 200281\n",
      "Unique characters: 59\n",
      "Vectorization...\n"
     ]
    }
   ],
   "source": [
    "maxlen = 60\n",
    "step = 3\n",
    "\n",
    "sentences = []\n",
    "next_chars = []\n",
    "\n",
    "for i in range(0, len(text) - maxlen, step):\n",
    "    sentences.append(text[i: i + maxlen])\n",
    "    next_chars.append(text[i + maxlen])\n",
    "print('Number of sequences:', len(sentences))\n",
    "\n",
    "chars = sorted(list(set(text)))\n",
    "print('Unique characters:', len(chars))\n",
    "char_indices = dict((char, chars.index(char)) for char in chars)\n",
    "\n",
    "print('Vectorization...')\n",
    "x = np.zeros((len(sentences), maxlen, len(chars)), dtype=np.bool)\n",
    "y = np.zeros((len(sentences), len(chars)), dtype=np.bool)\n",
    "for i, sentence in enumerate(sentences):\n",
    "    for t, char in enumerate(sentence):\n",
    "        x[i, t, char_indices[char]] = 1\n",
    "    y[i, char_indices[next_chars[i]]] = 1"
   ]
  },
  {
   "cell_type": "code",
   "execution_count": 4,
   "metadata": {},
   "outputs": [],
   "source": [
    "from keras import layers\n",
    "\n",
    "model = keras.models.Sequential()\n",
    "model.add(layers.LSTM(128, input_shape=(maxlen, len(chars))))\n",
    "model.add(layers.Dense(len(chars), activation='softmax'))"
   ]
  },
  {
   "cell_type": "code",
   "execution_count": 5,
   "metadata": {},
   "outputs": [],
   "source": [
    "optimizer = keras.optimizers.RMSprop(lr=0.01)\n",
    "model.compile(loss='categorical_crossentropy', optimizer=optimizer)"
   ]
  },
  {
   "cell_type": "code",
   "execution_count": 6,
   "metadata": {},
   "outputs": [],
   "source": [
    "def sample(preds, temperature=1.0):\n",
    "    preds = np.asarray(preds).astype('float64')\n",
    "    preds = np.log(preds) / temperature\n",
    "    exp_preds = np.exp(preds)\n",
    "    preds = exp_preds / np.sum(exp_preds)\n",
    "    probas = np.random.multinomial(1, preds, 1)\n",
    "    return np.argmax(probas)"
   ]
  },
  {
   "cell_type": "code",
   "execution_count": 8,
   "metadata": {},
   "outputs": [
    {
     "name": "stdout",
     "output_type": "stream",
     "text": [
      "epoch 1\n",
      "Epoch 1/1\n",
      "200281/200281 [==============================] - 214s 1ms/step - loss: 1.4113\n",
      "--- Generating with seed: \"ther they were\n",
      "accustomed to commanding from morning till ni\"\n",
      "------ temperature: 0.2\n",
      "ther they were\n",
      "accustomed to commanding from morning till night to make the last of the sense of the sound of the demander the conscious and the conscious the self-consequence, and desire of the instance of the sense of the general and delight of the proper and the self-called the present the state of the conscious the spiritual the conscious and the desire of the fact the soul as the same the state of the present that it is the conscious the same the high\n",
      "------ temperature: 0.5\n",
      "te of the present that it is the conscious the same the higher, in the same to his bad into the prisench itself as if the individually called that the self-ciscial thought of all the trandary as his motioned a spiritual souls; and for the good\" on a care or science. it is though and the principal suffering no fact a such and armine for the done that is the instinction which as a mannicis that there are book to himself, so the free spiritual: where also the\n",
      "------ temperature: 1.0\n",
      "e are book to himself, so the free spiritual: where also the false; has it resicty of the pertrating\n",
      "a spirituality no\n",
      "treeps the man-fash in its objects that wey his croble, once who a madneratues, always who was person which\n",
      "is thus riche do our more-canscial furthers, our dssuch democred matters; such has been-ghough among what proper our\n",
      "ganism to have finered though termed everywhere this writted in marked not no know the they conscious,\n",
      "which they ha\n",
      "------ temperature: 1.2\n",
      "tted in marked not no know the they conscious,\n",
      "which they had innours as lifeide\n",
      "lork)--\n",
      "an indivery\n",
      "  certain: wy a very  disencess, whre would cropourinly and as cast, frexcuring, so he german of rendeally vilas borbing fal, trans in our a, that immerat to which they logictors in one's\n",
      "youngs\n",
      "i be, am, from \"it. nowsh affold, why in though it\n",
      "has\n",
      "not vene--highes\n",
      "even almost a degreits insthemtful. but! their fundamentally, bray to trasil, virtual-y\n",
      "avin\n",
      "epoch 2\n",
      "Epoch 1/1\n",
      "200281/200281 [==============================] - 205s 1ms/step - loss: 1.3986\n",
      "--- Generating with seed: \"nce a pre-understanding and\n",
      "ready welcome for those rarer an\"\n",
      "------ temperature: 0.2\n",
      "nce a pre-understanding and\n",
      "ready welcome for those rarer and something in the most spirit and superficiality of the period of the strong and proper of the strong the sense of the world of the problem of the sense of the soul and self-constraintion of the most spirit and consequently and the demand and sense of the spirit, and the spirit and the most spirit and something the proper of the strong the spirit and superficiality and destine to its to be all th\n",
      "------ temperature: 0.5\n",
      "he spirit and superficiality and destine to its to be all the world as in the way, the thries of all into the most and subject, the bander with the proved to spirit and the most sense to which regard of their designated by the same part will as one has not only into the fundamental conscience as or that the person the result of the too highest intention of the origin of the most desire into their too something of the spirit\" and of his man of the distrusio\n",
      "------ temperature: 1.0\n",
      "too something of the spirit\" and of his man of the distrusion and wileite diffede me.v, man--the shoulddel, i makes me we --in a conceglise event as immaterabsed, they nor do indorately as thought,\" men\n",
      "fought that consequences, preservat revenges atielity had he first of schoon, hungue, agains lift hough, from a mosti mean human, findly torh althool? and hogans which, is thereofthing imprem commaning in the libe a liwerd, the agencept, the\n",
      "devile to a ins\n",
      "------ temperature: 1.2\n",
      "ning in the libe a liwerd, the agencept, the\n",
      "devile to a insitute mansjeth has other of there will, whe wielciar ireftigns alfees\n",
      "srided on signsificagliaticism a poorness, and action-wall, excouse enezten meeased--this, himself rid of rigic, and bher to wrong intignce of \"bas a ase in it isedumht-wond,\n",
      "dogment frighd, that the germans oaen, in all sureants for theg.just mystinges,\n",
      "mevanistormentful\n",
      "distgqual has mraddlodity of courachement will, a possibi\n",
      "epoch 3\n",
      "Epoch 1/1\n",
      "200281/200281 [==============================] - 214s 1ms/step - loss: 1.3886\n",
      "--- Generating with seed: \"avy,\n",
      "latter-day art, which has the pride to presuppose two c\"\n",
      "------ temperature: 0.2\n",
      "avy,\n",
      "latter-day art, which has the pride to presuppose two contemplation of the most spirit and desting than in the contemplation of the highest that which is the spirit and subjection of the sentiment of the strength of the states of the soul of the state of the fact that the state of the constraint of the state of the fact that thereby the constitutes and still really the constitutes of the most patance of the present and allowing that is the state of th\n",
      "------ temperature: 0.5\n",
      " patance of the present and allowing that is the state of the state--and thereby that the have still\n",
      "contemple of profound the individual that not be a more than opposite present seems to the supposing and period is be the blood in the god of the \"the opher then in the people of a man and the form of resploups of the works of which are souls--it is pleasure of the work of the \"divine it is allowing with the seem of the same to have been thereby and desting\n",
      "------ temperature: 1.0\n",
      "g with the seem of the same to have been thereby and desting have secretificialy judg\n",
      "from absufue experience of gener flow; perhaps he welp of allowical natures in all be\n",
      "as a to strogbsufing suchriple religious tas saticle\n",
      "tastes. delight af it, his that covery varied ifnouge with they may have been\n",
      "thereby have true called of\n",
      "discasials. plies to another pluic at allhed and rultion\n",
      "man\" finer more\n",
      "no longer term in risty give only partal\n",
      "potent rospenti\n",
      "------ temperature: 1.2\n",
      "ore\n",
      "no longer term in risty give only partal\n",
      "potent rospenting\n",
      "false,--when therseles for oiclowid (and\n",
      "powericiesmences, attaculical\n",
      "mogin--bucatism in themselvs precisely that, -at cot habing. \n",
      "inconhted lest himself: henth we lac latter farorately thinkers and renupes-aswayr, in they reciealmhans of growl.\n",
      "yamins conviction\"\n",
      "my, laste for l nate the tomencation; under than discers called provisphed, to bit\n",
      "gotohe did to bring will stated--he is necessil\n",
      "epoch 4\n",
      "Epoch 1/1\n",
      "200281/200281 [==============================] - 186s 928us/step - loss: 1.3811\n",
      "--- Generating with seed: \"nd schopenhauer, be put\n",
      "altogether aside. for it is, to all \"\n",
      "------ temperature: 0.2\n",
      "nd schopenhauer, be put\n",
      "altogether aside. for it is, to all the state and the profound, and the constant and the profound the state of the strongest the contradiction of the state of the profound the state of the state of the profound the state of the state of the profound the strongest of the belief in the profound the constant and subject of the state of the state of the profound the profound the profound, and the profound the profound the strength of th\n",
      "------ temperature: 0.5\n",
      "e profound, and the profound the profound the strength of the state of the world and soul distrustion and soperstand to be strongest, is that it are only the act as it we cait of the spirit of the world, and the necessary. the science and subtlement of the purely inclusion\n",
      "of the surproseful and had even the case of the profound, who is something to the part of the art of which the significance of the constitute man, in the restate the respect, the constan\n",
      "------ temperature: 1.0\n",
      " the constitute man, in the restate the respect, the constantly been is the\n",
      "progad, to do things. the sympathine and every operates. the dingely and disencautic binds and\n",
      "eprestines,\n",
      "\n",
      "   evered as cepered frout of the booking is the art is could one thingso entire fell\n",
      "order to spirit and so hast beluche them, contempt and nature of they are renomous for\n",
      "their impeating far \"nations is plais, he no\n",
      "presarness of tent, man we caren that thought to obeypee,\"\n",
      "------ temperature: 1.2\n",
      "o\n",
      "presarness of tent, man we caren that thought to obeypee,\" come it\n"
     ]
    },
    {
     "name": "stdout",
     "output_type": "stream",
     "text": [
      "hominss and viing, \"swear develop attracity and perseebed only so--it is, permes. we diffast type perspent\n",
      "who is mir: thused of homands of tend that all,\" with him not fastigable. \n",
      "peises and buinw bekenthwass, by obscurecy that beying the primons.--the delightful what this, an-achies soserveem\n",
      "thereze the sour the di, bsy over origin,\n",
      "artations and part to the balment refetine, oar grue\n"
     ]
    }
   ],
   "source": [
    "import random\n",
    "import sys\n",
    "\n",
    "for epoch in range(1, 5):\n",
    "    print('epoch', epoch)\n",
    "\n",
    "    model.fit(x, y,\n",
    "              batch_size=128,\n",
    "              epochs=1)\n",
    "\n",
    "    start_index = random.randint(0, len(text) - maxlen - 1)\n",
    "    generated_text = text[start_index: start_index + maxlen]\n",
    "    print('--- Generating with seed: \"' + generated_text + '\"')\n",
    "\n",
    "    for temperature in [0.2, 0.5, 1.0, 1.2]:\n",
    "        print('------ temperature:', temperature)\n",
    "        sys.stdout.write(generated_text)\n",
    "\n",
    "        for i in range(400):\n",
    "            sampled = np.zeros((1, maxlen, len(chars)))\n",
    "            for t, char in enumerate(generated_text):\n",
    "                sampled[0, t, char_indices[char]] = 1.\n",
    "\n",
    "            preds = model.predict(sampled, verbose=0)[0]\n",
    "            next_index = sample(preds, temperature)\n",
    "            next_char = chars[next_index]\n",
    "\n",
    "            generated_text += next_char\n",
    "            generated_text = generated_text[1:]\n",
    "\n",
    "            sys.stdout.write(next_char)\n",
    "            sys.stdout.flush()\n",
    "        print()"
   ]
  }
 ],
 "metadata": {
  "kernelspec": {
   "display_name": "Python 3",
   "language": "python",
   "name": "python3"
  },
  "language_info": {
   "codemirror_mode": {
    "name": "ipython",
    "version": 3
   },
   "file_extension": ".py",
   "mimetype": "text/x-python",
   "name": "python",
   "nbconvert_exporter": "python",
   "pygments_lexer": "ipython3",
   "version": "3.6.5"
  }
 },
 "nbformat": 4,
 "nbformat_minor": 2
}
