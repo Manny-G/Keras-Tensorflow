{
 "cells": [
  {
   "cell_type": "markdown",
   "metadata": {},
   "source": [
    "<a id='Title-Feature-Extraction-Unified'></a>\n",
    "<h1 style=\"color:SlateGray;\">Feature Extraction (Unified)</h1>\n",
    "\n",
    "**Input dataset**\n",
    "\n",
    "Kaggle Cats and Dogs: a set of evenly split cat and dog images.\n",
    "\n",
    "**Output classification**\n",
    "\n",
    "Predict whether an image contains a cat or a dog.\n",
    "\n",
    "<h2 style=\"color:SlateGray;\">Background</h2>\n",
    "\n",
    "**Pre-trained models**\n",
    "\n",
    "[*VGG16*](8_Feature_Extraction_Separated.ipynb#Pre-trained-models-VGG16)\n",
    "\n",
    "**Layers**\n",
    "\n",
    "[*Dense*](1_Image_Classification.ipynb#Layers-Dense)\n",
    "\n",
    "[*Dropout*](5_Overfitting_And_Underfitting.ipynb#Layers-Dropout)\n",
    "\n",
    "**Activations**\n",
    "\n",
    "[*relu*](1_Image_Classification.ipynb#Activations-relu)\n",
    "\n",
    "[*sigmoid*](2_Binary_Classification.ipynb#Activations-sigmoid)\n",
    "\t\t\n",
    "**Optimizers**\n",
    "\n",
    "[*rmsprop*](1_Image_Classification.ipynb#Optimizers-rmsprop)\n",
    "\t\t\n",
    "**Loss functions**\n",
    "\n",
    "[*binary_crossentropy*](2_Binary_Classification.ipynb#Loss-functions-binary_crossentropy)\n",
    "\n",
    "<h2 style=\"color:SlateGray;\">Overview</h2>\n"
   ]
  },
  {
   "cell_type": "code",
   "execution_count": 1,
   "metadata": {
    "scrolled": true
   },
   "outputs": [
    {
     "name": "stderr",
     "output_type": "stream",
     "text": [
      "Using TensorFlow backend.\n"
     ]
    },
    {
     "data": {
      "text/plain": [
       "'2.2.2'"
      ]
     },
     "execution_count": 1,
     "metadata": {},
     "output_type": "execute_result"
    }
   ],
   "source": [
    "import keras\n",
    "keras.__version__"
   ]
  },
  {
   "cell_type": "code",
   "execution_count": 2,
   "metadata": {
    "scrolled": true
   },
   "outputs": [],
   "source": [
    "import os\n",
    "\n",
    "base_dir = r'./cats_and_dogs_small'\n",
    "train_dir = os.path.join(base_dir, 'train')\n",
    "validation_dir = os.path.join(base_dir, 'validation')\n",
    "test_dir = os.path.join(base_dir, 'test')"
   ]
  },
  {
   "cell_type": "code",
   "execution_count": 3,
   "metadata": {},
   "outputs": [
    {
     "name": "stdout",
     "output_type": "stream",
     "text": [
      "Found 2000 images belonging to 2 classes.\n",
      "Found 1000 images belonging to 2 classes.\n"
     ]
    }
   ],
   "source": [
    "from keras.preprocessing.image import ImageDataGenerator\n",
    "\n",
    "train_datagen = ImageDataGenerator(\n",
    "      rescale=1./255,\n",
    "      rotation_range=40,\n",
    "      width_shift_range=0.2,\n",
    "      height_shift_range=0.2,\n",
    "      shear_range=0.2,\n",
    "      zoom_range=0.2,\n",
    "      horizontal_flip=True,\n",
    "      fill_mode='nearest')\n",
    "\n",
    "test_datagen = ImageDataGenerator(rescale=1./255)\n",
    "\n",
    "train_generator = train_datagen.flow_from_directory(\n",
    "        train_dir,\n",
    "        target_size=(150, 150),\n",
    "        batch_size=20,\n",
    "        class_mode='binary')\n",
    "\n",
    "validation_generator = test_datagen.flow_from_directory(\n",
    "        validation_dir,\n",
    "        target_size=(150, 150),\n",
    "        batch_size=20,\n",
    "        class_mode='binary')"
   ]
  },
  {
   "cell_type": "code",
   "execution_count": 4,
   "metadata": {
    "scrolled": true
   },
   "outputs": [
    {
     "name": "stdout",
     "output_type": "stream",
     "text": [
      "_________________________________________________________________\n",
      "Layer (type)                 Output Shape              Param #   \n",
      "=================================================================\n",
      "vgg16 (Model)                (None, 4, 4, 512)         14714688  \n",
      "_________________________________________________________________\n",
      "flatten_1 (Flatten)          (None, 8192)              0         \n",
      "_________________________________________________________________\n",
      "dense_1 (Dense)              (None, 256)               2097408   \n",
      "_________________________________________________________________\n",
      "dense_2 (Dense)              (None, 1)                 257       \n",
      "=================================================================\n",
      "Total params: 16,812,353\n",
      "Trainable params: 2,097,665\n",
      "Non-trainable params: 14,714,688\n",
      "_________________________________________________________________\n"
     ]
    }
   ],
   "source": [
    "from keras.applications import VGG16\n",
    "from keras import models\n",
    "from keras import layers\n",
    "\n",
    "conv_base = VGG16(weights='imagenet',\n",
    "                 include_top=False,\n",
    "                 input_shape=(150, 150, 3))\n",
    "conv_base.trainable = False\n",
    "\n",
    "model = models.Sequential()\n",
    "model.add(conv_base)\n",
    "model.add(layers.Flatten())\n",
    "model.add(layers.Dense(256, activation='relu'))\n",
    "model.add(layers.Dense(1, activation='sigmoid'))\n",
    "model.summary()"
   ]
  },
  {
   "cell_type": "code",
   "execution_count": 5,
   "metadata": {
    "scrolled": true
   },
   "outputs": [
    {
     "name": "stdout",
     "output_type": "stream",
     "text": [
      "Epoch 1/30\n",
      " - 19s - loss: 0.6048 - acc: 0.6800 - val_loss: 0.4600 - val_acc: 0.8310\n",
      "Epoch 2/30\n",
      " - 16s - loss: 0.4857 - acc: 0.7810 - val_loss: 0.3754 - val_acc: 0.8550\n",
      "Epoch 3/30\n",
      " - 16s - loss: 0.4313 - acc: 0.8090 - val_loss: 0.3338 - val_acc: 0.8600\n",
      "Epoch 4/30\n",
      " - 17s - loss: 0.4148 - acc: 0.8115 - val_loss: 0.3118 - val_acc: 0.8780\n",
      "Epoch 5/30\n",
      " - 17s - loss: 0.3899 - acc: 0.8280 - val_loss: 0.2971 - val_acc: 0.8810\n",
      "Epoch 6/30\n",
      " - 17s - loss: 0.3842 - acc: 0.8365 - val_loss: 0.2885 - val_acc: 0.8850\n",
      "Epoch 7/30\n",
      " - 18s - loss: 0.3700 - acc: 0.8375 - val_loss: 0.2768 - val_acc: 0.8950\n",
      "Epoch 8/30\n",
      " - 17s - loss: 0.3541 - acc: 0.8545 - val_loss: 0.2809 - val_acc: 0.8760\n",
      "Epoch 9/30\n",
      " - 18s - loss: 0.3528 - acc: 0.8510 - val_loss: 0.2741 - val_acc: 0.8820\n",
      "Epoch 10/30\n",
      " - 18s - loss: 0.3418 - acc: 0.8485 - val_loss: 0.2616 - val_acc: 0.8940\n",
      "Epoch 11/30\n",
      " - 18s - loss: 0.3365 - acc: 0.8540 - val_loss: 0.2617 - val_acc: 0.8900\n",
      "Epoch 12/30\n",
      " - 18s - loss: 0.3279 - acc: 0.8710 - val_loss: 0.2545 - val_acc: 0.8950\n",
      "Epoch 13/30\n",
      " - 19s - loss: 0.3307 - acc: 0.8580 - val_loss: 0.2638 - val_acc: 0.8860\n",
      "Epoch 14/30\n",
      " - 19s - loss: 0.3219 - acc: 0.8645 - val_loss: 0.2502 - val_acc: 0.9020\n",
      "Epoch 15/30\n",
      " - 19s - loss: 0.3175 - acc: 0.8595 - val_loss: 0.2476 - val_acc: 0.8970\n",
      "Epoch 16/30\n",
      " - 19s - loss: 0.3241 - acc: 0.8525 - val_loss: 0.2501 - val_acc: 0.8950\n",
      "Epoch 17/30\n",
      " - 18s - loss: 0.3167 - acc: 0.8630 - val_loss: 0.2486 - val_acc: 0.8970\n",
      "Epoch 18/30\n",
      " - 18s - loss: 0.3154 - acc: 0.8625 - val_loss: 0.2428 - val_acc: 0.8970\n",
      "Epoch 19/30\n",
      " - 18s - loss: 0.3076 - acc: 0.8650 - val_loss: 0.2457 - val_acc: 0.8980\n",
      "Epoch 20/30\n",
      " - 18s - loss: 0.3126 - acc: 0.8610 - val_loss: 0.2460 - val_acc: 0.8970\n",
      "Epoch 21/30\n",
      " - 18s - loss: 0.3032 - acc: 0.8635 - val_loss: 0.2431 - val_acc: 0.9040\n",
      "Epoch 22/30\n",
      " - 18s - loss: 0.2968 - acc: 0.8725 - val_loss: 0.2396 - val_acc: 0.9010\n",
      "Epoch 23/30\n",
      " - 19s - loss: 0.3143 - acc: 0.8560 - val_loss: 0.2388 - val_acc: 0.8980\n",
      "Epoch 24/30\n",
      " - 21s - loss: 0.2950 - acc: 0.8750 - val_loss: 0.2355 - val_acc: 0.8950\n",
      "Epoch 25/30\n",
      " - 17s - loss: 0.3099 - acc: 0.8660 - val_loss: 0.2412 - val_acc: 0.9050\n",
      "Epoch 26/30\n",
      " - 17s - loss: 0.2806 - acc: 0.8740 - val_loss: 0.2391 - val_acc: 0.9020\n",
      "Epoch 27/30\n",
      " - 17s - loss: 0.2900 - acc: 0.8785 - val_loss: 0.2372 - val_acc: 0.8960\n",
      "Epoch 28/30\n",
      " - 18s - loss: 0.2790 - acc: 0.8755 - val_loss: 0.2506 - val_acc: 0.8890\n",
      "Epoch 29/30\n",
      " - 17s - loss: 0.2879 - acc: 0.8820 - val_loss: 0.2392 - val_acc: 0.8990\n",
      "Epoch 30/30\n",
      " - 17s - loss: 0.2864 - acc: 0.8710 - val_loss: 0.2325 - val_acc: 0.9060\n"
     ]
    }
   ],
   "source": [
    "from keras import optimizers\n",
    "\n",
    "model.compile(loss='binary_crossentropy',\n",
    "              optimizer=optimizers.RMSprop(lr=2e-5),\n",
    "              metrics=['acc'])\n",
    "\n",
    "history = model.fit_generator(\n",
    "      train_generator,\n",
    "      steps_per_epoch=100,\n",
    "      epochs=30,\n",
    "      validation_data=validation_generator,\n",
    "      validation_steps=50,\n",
    "      verbose=2)\n",
    "\n",
    "model.save('cats_and_dogs_small_3.h5')"
   ]
  },
  {
   "cell_type": "code",
   "execution_count": 7,
   "metadata": {},
   "outputs": [
    {
     "data": {
      "image/png": "[encoded data removed]",
      "text/plain": [
       "<Figure size 432x288 with 1 Axes>"
      ]
     },
     "metadata": {},
     "output_type": "display_data"
    },
    {
     "data": {
      "image/png": "[encoded data removed]",
      "text/plain": [
       "<Figure size 432x288 with 1 Axes>"
      ]
     },
     "metadata": {},
     "output_type": "display_data"
    }
   ],
   "source": [
    "import matplotlib.pyplot as plt\n",
    "\n",
    "acc = history.history['acc']\n",
    "val_acc = history.history['val_acc']\n",
    "loss = history.history['loss']\n",
    "val_loss = history.history['val_loss']\n",
    "\n",
    "epochs = range(len(acc))\n",
    "\n",
    "plt.plot(epochs, acc, 'b', label='Training acc')\n",
    "plt.plot(epochs, val_acc, 'r', label='Validation acc')\n",
    "plt.title('Training and validation accuracy')\n",
    "plt.legend()\n",
    "plt.grid()\n",
    "\n",
    "plt.figure()\n",
    "\n",
    "plt.plot(epochs, loss, 'b', label='Training loss')\n",
    "plt.plot(epochs, val_loss, 'r', label='Validation loss')\n",
    "plt.title('Training and validation loss')\n",
    "plt.legend()\n",
    "plt.grid()\n",
    "\n",
    "plt.show()"
   ]
  }
 ],
 "metadata": {
  "kernelspec": {
   "display_name": "Python 3",
   "language": "python",
   "name": "python3"
  },
  "language_info": {
   "codemirror_mode": {
    "name": "ipython",
    "version": 3
   },
   "file_extension": ".py",
   "mimetype": "text/x-python",
   "name": "python",
   "nbconvert_exporter": "python",
   "pygments_lexer": "ipython3",
   "version": "3.6.5"
  }
 },
 "nbformat": 4,
 "nbformat_minor": 2
}
