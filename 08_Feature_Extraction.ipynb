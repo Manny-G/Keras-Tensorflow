{
 "cells": [
  {
   "cell_type": "markdown",
   "metadata": {},
   "source": [
    "<a id='Title-Feature-Extraction'></a>\n",
    "<h1 style=\"color:SlateGray;\">Feature Extraction</h1>\n",
    "\n",
    "**Input dataset**\n",
    "\n",
    "Kaggle Cats and Dogs: a set of evenly split cat and dog images.\n",
    "\n",
    "**Output classification**\n",
    "\n",
    "Predict whether an image contains a cat or a dog.\n",
    "\n",
    "<h2 style=\"color:SlateGray;\">Background</h2>\n",
    "\n",
    "**Pre-trained models**\n",
    "\n",
    "<a id='Pre-trained-models-VGG16'></a>\n",
    "*VGG16*\n",
    "\n",
    "A general purpose image classification model.\n",
    "\n",
    "Implemented as a sequence of Conv2D and MaxPooling2D layers - this model was trained on the Image Net dataset for strong localization and image classification capabilities.\n",
    "\n",
    "**Layers**\n",
    "\n",
    "[*Dense*](01_Image_Classification.ipynb#Layers-Dense)\n",
    "\n",
    "[*Dropout*](05_Overfitting_And_Underfitting.ipynb#Layers-Dropout)\n",
    "\n",
    "**Activations**\n",
    "\n",
    "[*relu*](01_Image_Classification.ipynb#Activations-relu)\n",
    "\n",
    "[*sigmoid*](02_Binary_Classification.ipynb#Activations-sigmoid)\n",
    "\t\t\n",
    "**Optimizers**\n",
    "\n",
    "[*rmsprop*](01_Image_Classification.ipynb#Optimizers-rmsprop)\n",
    "\t\t\n",
    "**Loss functions**\n",
    "\n",
    "[*binary_crossentropy*](02_Binary_Classification.ipynb#Loss-functions-binary_crossentropy)\n",
    "\n",
    "<h2 style=\"color:SlateGray;\">Overview</h2>\n",
    "\n",
    "Implementation of the feature extraction without data augmentation technique using a pre-trained convNet. As no training is done in the feature extraction step, this implementation is very computationally light and therefore fast.\n",
    "\n",
    "Instantiates two separate models - a VGG16 model as a convolutional base and a simple Dense classifier. A data generator feeds in data from a structured directory to the convolutional base, which then outputs a tuple of extracted features and labels. That tuple is then used as input to the classifier producing the final prediction.\n"
   ]
  },
  {
   "cell_type": "code",
   "execution_count": 1,
   "metadata": {},
   "outputs": [
    {
     "name": "stderr",
     "output_type": "stream",
     "text": [
      "Using TensorFlow backend.\n"
     ]
    },
    {
     "data": {
      "text/plain": [
       "'2.2.2'"
      ]
     },
     "execution_count": 1,
     "metadata": {},
     "output_type": "execute_result"
    }
   ],
   "source": [
    "import keras\n",
    "keras.__version__"
   ]
  },
  {
   "cell_type": "code",
   "execution_count": 2,
   "metadata": {
    "scrolled": true
   },
   "outputs": [],
   "source": [
    "import os\n",
    "\n",
    "base_dir = r'./cats_and_dogs_small'\n",
    "train_dir = os.path.join(base_dir, 'train')\n",
    "validation_dir = os.path.join(base_dir, 'validation')\n",
    "test_dir = os.path.join(base_dir, 'test')"
   ]
  },
  {
   "cell_type": "code",
   "execution_count": 3,
   "metadata": {
    "scrolled": true
   },
   "outputs": [
    {
     "name": "stdout",
     "output_type": "stream",
     "text": [
      "_________________________________________________________________\n",
      "Layer (type)                 Output Shape              Param #   \n",
      "=================================================================\n",
      "input_1 (InputLayer)         (None, 150, 150, 3)       0         \n",
      "_________________________________________________________________\n",
      "block1_conv1 (Conv2D)        (None, 150, 150, 64)      1792      \n",
      "_________________________________________________________________\n",
      "block1_conv2 (Conv2D)        (None, 150, 150, 64)      36928     \n",
      "_________________________________________________________________\n",
      "block1_pool (MaxPooling2D)   (None, 75, 75, 64)        0         \n",
      "_________________________________________________________________\n",
      "block2_conv1 (Conv2D)        (None, 75, 75, 128)       73856     \n",
      "_________________________________________________________________\n",
      "block2_conv2 (Conv2D)        (None, 75, 75, 128)       147584    \n",
      "_________________________________________________________________\n",
      "block2_pool (MaxPooling2D)   (None, 37, 37, 128)       0         \n",
      "_________________________________________________________________\n",
      "block3_conv1 (Conv2D)        (None, 37, 37, 256)       295168    \n",
      "_________________________________________________________________\n",
      "block3_conv2 (Conv2D)        (None, 37, 37, 256)       590080    \n",
      "_________________________________________________________________\n",
      "block3_conv3 (Conv2D)        (None, 37, 37, 256)       590080    \n",
      "_________________________________________________________________\n",
      "block3_pool (MaxPooling2D)   (None, 18, 18, 256)       0         \n",
      "_________________________________________________________________\n",
      "block4_conv1 (Conv2D)        (None, 18, 18, 512)       1180160   \n",
      "_________________________________________________________________\n",
      "block4_conv2 (Conv2D)        (None, 18, 18, 512)       2359808   \n",
      "_________________________________________________________________\n",
      "block4_conv3 (Conv2D)        (None, 18, 18, 512)       2359808   \n",
      "_________________________________________________________________\n",
      "block4_pool (MaxPooling2D)   (None, 9, 9, 512)         0         \n",
      "_________________________________________________________________\n",
      "block5_conv1 (Conv2D)        (None, 9, 9, 512)         2359808   \n",
      "_________________________________________________________________\n",
      "block5_conv2 (Conv2D)        (None, 9, 9, 512)         2359808   \n",
      "_________________________________________________________________\n",
      "block5_conv3 (Conv2D)        (None, 9, 9, 512)         2359808   \n",
      "_________________________________________________________________\n",
      "block5_pool (MaxPooling2D)   (None, 4, 4, 512)         0         \n",
      "=================================================================\n",
      "Total params: 14,714,688\n",
      "Trainable params: 14,714,688\n",
      "Non-trainable params: 0\n",
      "_________________________________________________________________\n"
     ]
    }
   ],
   "source": [
    "from keras.applications import VGG16\n",
    "\n",
    "conv_base = VGG16(weights='imagenet',\n",
    "                 include_top=False,\n",
    "                 input_shape=(150, 150, 3))\n",
    "\n",
    "conv_base.summary()"
   ]
  },
  {
   "cell_type": "code",
   "execution_count": 4,
   "metadata": {},
   "outputs": [],
   "source": [
    "import numpy as np\n",
    "from keras.preprocessing.image import ImageDataGenerator\n",
    "\n",
    "datagen = ImageDataGenerator(rescale=1./255)\n",
    "batch_size = 20\n",
    "\n",
    "def extract_features(directory, sample_count):\n",
    "    features = np.zeros(shape=(sample_count, 4, 4, 512))\n",
    "    labels = np.zeros(shape=(sample_count))\n",
    "    generator = datagen.flow_from_directory(directory,\n",
    "                                           target_size=(150, 150),\n",
    "                                           batch_size=batch_size,\n",
    "                                           class_mode='binary')\n",
    "    i = 0\n",
    "    for inputs_batch, labels_batch in generator:\n",
    "        features_batch = conv_base.predict(inputs_batch)\n",
    "        features[i * batch_size : (i + 1) * batch_size] = features_batch\n",
    "        labels[i * batch_size : (i + 1) * batch_size] = labels_batch\n",
    "        i += 1\n",
    "        if i * batch_size >= sample_count:\n",
    "            break;\n",
    "    return features, labels"
   ]
  },
  {
   "cell_type": "code",
   "execution_count": 5,
   "metadata": {},
   "outputs": [
    {
     "name": "stdout",
     "output_type": "stream",
     "text": [
      "Found 2000 images belonging to 2 classes.\n",
      "Found 1000 images belonging to 2 classes.\n",
      "Found 1000 images belonging to 2 classes.\n"
     ]
    }
   ],
   "source": [
    "train_features, train_labels = extract_features(train_dir, 2000)\n",
    "validation_features, validation_labels = extract_features(validation_dir, 1000)\n",
    "test_features, test_labels = extract_features(test_dir, 1000)\n",
    "\n",
    "train_features = np.reshape(train_features, (2000, 4 * 4 * 512))\n",
    "validation_features = np.reshape(validation_features, (1000, 4 * 4 * 512))\n",
    "test_features = np.reshape(test_features, (1000, 4 * 4 * 512))"
   ]
  },
  {
   "cell_type": "code",
   "execution_count": 6,
   "metadata": {
    "scrolled": true
   },
   "outputs": [
    {
     "name": "stdout",
     "output_type": "stream",
     "text": [
      "Train on 2000 samples, validate on 1000 samples\n",
      "Epoch 1/30\n",
      " - 2s - loss: 0.5947 - acc: 0.6825 - val_loss: 0.4249 - val_acc: 0.8520\n",
      "Epoch 2/30\n",
      " - 1s - loss: 0.4264 - acc: 0.8195 - val_loss: 0.3530 - val_acc: 0.8640\n",
      "Epoch 3/30\n",
      " - 1s - loss: 0.3601 - acc: 0.8435 - val_loss: 0.3141 - val_acc: 0.8810\n",
      "Epoch 4/30\n",
      " - 1s - loss: 0.3151 - acc: 0.8700 - val_loss: 0.2972 - val_acc: 0.8850\n",
      "Epoch 5/30\n",
      " - 1s - loss: 0.2799 - acc: 0.8855 - val_loss: 0.2806 - val_acc: 0.8920\n",
      "Epoch 6/30\n",
      " - 1s - loss: 0.2548 - acc: 0.8995 - val_loss: 0.2682 - val_acc: 0.8920\n",
      "Epoch 7/30\n",
      " - 1s - loss: 0.2429 - acc: 0.9050 - val_loss: 0.2651 - val_acc: 0.8960\n",
      "Epoch 8/30\n",
      " - 1s - loss: 0.2326 - acc: 0.9060 - val_loss: 0.2672 - val_acc: 0.8890\n",
      "Epoch 9/30\n",
      " - 1s - loss: 0.2146 - acc: 0.9175 - val_loss: 0.2630 - val_acc: 0.8850\n",
      "Epoch 10/30\n",
      " - 1s - loss: 0.2005 - acc: 0.9255 - val_loss: 0.2449 - val_acc: 0.9020\n",
      "Epoch 11/30\n",
      " - 1s - loss: 0.1916 - acc: 0.9305 - val_loss: 0.2446 - val_acc: 0.9040\n",
      "Epoch 12/30\n",
      " - 1s - loss: 0.1799 - acc: 0.9385 - val_loss: 0.2418 - val_acc: 0.9060\n",
      "Epoch 13/30\n",
      " - 1s - loss: 0.1801 - acc: 0.9375 - val_loss: 0.2424 - val_acc: 0.9040\n",
      "Epoch 14/30\n",
      " - 1s - loss: 0.1696 - acc: 0.9425 - val_loss: 0.2368 - val_acc: 0.9040\n",
      "Epoch 15/30\n",
      " - 1s - loss: 0.1608 - acc: 0.9400 - val_loss: 0.2350 - val_acc: 0.9080\n",
      "Epoch 16/30\n",
      " - 1s - loss: 0.1498 - acc: 0.9485 - val_loss: 0.2382 - val_acc: 0.9030\n",
      "Epoch 17/30\n",
      " - 1s - loss: 0.1497 - acc: 0.9480 - val_loss: 0.2389 - val_acc: 0.9040\n",
      "Epoch 18/30\n",
      " - 1s - loss: 0.1439 - acc: 0.9500 - val_loss: 0.2423 - val_acc: 0.9020\n",
      "Epoch 19/30\n",
      " - 1s - loss: 0.1380 - acc: 0.9550 - val_loss: 0.2351 - val_acc: 0.9060\n",
      "Epoch 20/30\n",
      " - 1s - loss: 0.1311 - acc: 0.9540 - val_loss: 0.2440 - val_acc: 0.9010\n",
      "Epoch 21/30\n",
      " - 1s - loss: 0.1279 - acc: 0.9630 - val_loss: 0.2357 - val_acc: 0.9060\n",
      "Epoch 22/30\n",
      " - 1s - loss: 0.1193 - acc: 0.9615 - val_loss: 0.2418 - val_acc: 0.9050\n",
      "Epoch 23/30\n",
      " - 1s - loss: 0.1207 - acc: 0.9580 - val_loss: 0.2478 - val_acc: 0.9020\n",
      "Epoch 24/30\n",
      " - 1s - loss: 0.1096 - acc: 0.9660 - val_loss: 0.2352 - val_acc: 0.9040\n",
      "Epoch 25/30\n",
      " - 1s - loss: 0.1074 - acc: 0.9675 - val_loss: 0.2348 - val_acc: 0.9050\n",
      "Epoch 26/30\n",
      " - 1s - loss: 0.1022 - acc: 0.9640 - val_loss: 0.2339 - val_acc: 0.9040\n",
      "Epoch 27/30\n",
      " - 1s - loss: 0.0993 - acc: 0.9690 - val_loss: 0.2401 - val_acc: 0.9020\n",
      "Epoch 28/30\n",
      " - 1s - loss: 0.0935 - acc: 0.9700 - val_loss: 0.2373 - val_acc: 0.9040\n",
      "Epoch 29/30\n",
      " - 1s - loss: 0.0876 - acc: 0.9735 - val_loss: 0.2437 - val_acc: 0.9000\n",
      "Epoch 30/30\n",
      " - 1s - loss: 0.0850 - acc: 0.9760 - val_loss: 0.2370 - val_acc: 0.9030\n"
     ]
    }
   ],
   "source": [
    "from keras import models\n",
    "from keras import layers\n",
    "from keras import optimizers\n",
    "\n",
    "model = models.Sequential()\n",
    "model.add(layers.Dense(256, activation='relu', input_dim=4*4*512))\n",
    "model.add(layers.Dropout(0.5))\n",
    "model.add(layers.Dense(1, activation='sigmoid'))\n",
    "\n",
    "model.compile(optimizer=optimizers.RMSprop(lr=2e-5),\n",
    "             loss='binary_crossentropy',\n",
    "             metrics=['acc'])\n",
    "\n",
    "history = model.fit(train_features, train_labels,\n",
    "                   epochs=30,\n",
    "                   batch_size=20,\n",
    "                   verbose=2,\n",
    "                   validation_data=(validation_features, validation_labels))"
   ]
  },
  {
   "cell_type": "code",
   "execution_count": 8,
   "metadata": {},
   "outputs": [
    {
     "data": {
      "image/png": "[encoded data removed]",
      "text/plain": [
       "<Figure size 432x288 with 1 Axes>"
      ]
     },
     "metadata": {},
     "output_type": "display_data"
    },
    {
     "data": {
      "image/png": "[encoded data removed]",
      "text/plain": [
       "<Figure size 432x288 with 1 Axes>"
      ]
     },
     "metadata": {},
     "output_type": "display_data"
    }
   ],
   "source": [
    "import matplotlib.pyplot as plt\n",
    "\n",
    "acc = history.history['acc']\n",
    "val_acc = history.history['val_acc']\n",
    "loss = history.history['loss']\n",
    "val_loss = history.history['val_loss']\n",
    "\n",
    "epochs = range(len(acc))\n",
    "\n",
    "plt.plot(epochs, acc, 'b', label='Training accuracy')\n",
    "plt.plot(epochs, val_acc, 'r', label='Validation accuracy')\n",
    "plt.title('Training and validation accuracy')\n",
    "plt.legend()\n",
    "plt.grid()\n",
    "\n",
    "plt.figure()\n",
    "\n",
    "plt.plot(epochs, loss, 'b', label='Training loss')\n",
    "plt.plot(epochs, val_loss, 'r', label='Validation loss')\n",
    "plt.title('Training and validation loss')\n",
    "plt.legend()\n",
    "plt.grid()\n",
    "plt.show()"
   ]
  }
 ],
 "metadata": {
  "kernelspec": {
   "display_name": "Python 3",
   "language": "python",
   "name": "python3"
  },
  "language_info": {
   "codemirror_mode": {
    "name": "ipython",
    "version": 3
   },
   "file_extension": ".py",
   "mimetype": "text/x-python",
   "name": "python",
   "nbconvert_exporter": "python",
   "pygments_lexer": "ipython3",
   "version": "3.6.5"
  }
 },
 "nbformat": 4,
 "nbformat_minor": 2
}
