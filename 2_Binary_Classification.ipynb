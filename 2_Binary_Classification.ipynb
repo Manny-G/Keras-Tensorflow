{
 "cells": [
  {
   "cell_type": "markdown",
   "metadata": {},
   "source": [
    "<a id='Title-Binary-Classification'></a>\n",
    "<h1 style=\"color:SlateGray;\">Binary Classification</h1>\n",
    "\n",
    "**Input dataset**\n",
    "\n",
    "IMBD: set of movie reviews with adjustable limit on max word count.\n",
    "\n",
    "**Output classification**\n",
    "\n",
    "Binary categorization (positive/negative) of a movie review.\n",
    "\n",
    "<h2 style=\"color:SlateGray;\">Background</h2>\n",
    "\n",
    "**Layers**\n",
    "\n",
    "[*Dense*](1_Image_Classification.ipynb#Layers-Dense)\n",
    "\t\t\n",
    "**Activations**\n",
    "\n",
    "[*relu*](1_Image_Classification.ipynb#Activations-relu)\n",
    "\n",
    "<a id='Activations-sigmoid'></a>\n",
    "*sigmoid*\n",
    "\n",
    "Used to return a probability of binary classes.\n",
    "\n",
    "Derived from the [softmax](1_Image_Classification.ipynb#Activations-softmax) function when the number of classes is 2.\n",
    "\t\t\n",
    "**Optimizers**\n",
    "\n",
    "[*rmsprop*](1_Image_Classification.ipynb#Optimizers-rmsprop)\n",
    "\t\t\n",
    "**Loss functions**\n",
    "\n",
    "<a id='Loss-functions-binary_crossentropy'></a>\n",
    "*binary_crossentropy*\n",
    "\n",
    "Used to measure the predictive performance of binary classification models.\n",
    "\n",
    "Derived from the [categorical_crossentropy](1_Image_Classification.ipynb#Loss-functions-categorical_crossentropy) function when the number of classes is 2.\n",
    "\n",
    "<h2 style=\"color:SlateGray;\">Overview</h2>\n",
    "\n",
    "Predict whether a written movie review is overall positive or negative.\n",
    "\n",
    "The input data set consists of 25,000 training samples and 25,000 test samples, the associated labels contain either 0 or 1 (positive or negative). This example encodes each review by the 10,000 most frequently used words. The training samples are partitioned to be 15,000 training and 10,000 validation, each sample is one-hot encoded."
   ]
  },
  {
   "cell_type": "code",
   "execution_count": 1,
   "metadata": {},
   "outputs": [
    {
     "name": "stderr",
     "output_type": "stream",
     "text": [
      "Using TensorFlow backend.\n"
     ]
    },
    {
     "name": "stdout",
     "output_type": "stream",
     "text": [
      "2.2.2\n"
     ]
    }
   ],
   "source": [
    "import keras\n",
    "print(keras.__version__)"
   ]
  },
  {
   "cell_type": "code",
   "execution_count": 2,
   "metadata": {},
   "outputs": [],
   "source": [
    "from keras.datasets import imdb\n",
    "\n",
    "(train_data, train_labels), (test_data, test_labels) = imdb.load_data(num_words=10000)"
   ]
  },
  {
   "cell_type": "code",
   "execution_count": 3,
   "metadata": {},
   "outputs": [],
   "source": [
    "import numpy as np\n",
    "def vectorize_sequences(sequences, dimension=10000):\n",
    "    results = np.zeros( ( len(sequences), dimension ) )\n",
    "    for i, sequence in enumerate(sequences):\n",
    "        results[i, sequence] = 1.\n",
    "    return results"
   ]
  },
  {
   "cell_type": "code",
   "execution_count": 4,
   "metadata": {},
   "outputs": [],
   "source": [
    "x_train = vectorize_sequences(train_data)\n",
    "x_test = vectorize_sequences(test_data)\n",
    "\n",
    "y_train = np.asarray(train_labels).astype(\"float32\")\n",
    "y_test = np.asarray(test_labels).astype(\"float32\")\n",
    "\n",
    "x_val = x_train[:10000]\n",
    "partial_x_train = x_train[10000:]\n",
    "\n",
    "y_val = y_train[:10000]\n",
    "partial_y_train = y_train[10000:]"
   ]
  },
  {
   "cell_type": "code",
   "execution_count": 5,
   "metadata": {},
   "outputs": [
    {
     "name": "stdout",
     "output_type": "stream",
     "text": [
      "_________________________________________________________________\n",
      "Layer (type)                 Output Shape              Param #   \n",
      "=================================================================\n",
      "dense_1 (Dense)              (None, 16)                160016    \n",
      "_________________________________________________________________\n",
      "dense_2 (Dense)              (None, 16)                272       \n",
      "_________________________________________________________________\n",
      "dense_3 (Dense)              (None, 1)                 17        \n",
      "=================================================================\n",
      "Total params: 160,305\n",
      "Trainable params: 160,305\n",
      "Non-trainable params: 0\n",
      "_________________________________________________________________\n"
     ]
    }
   ],
   "source": [
    "from keras import models\n",
    "from keras import layers\n",
    "\n",
    "model1 = models.Sequential()\n",
    "model1.add(layers.Dense(16, activation=\"relu\", input_shape=(10000,)))\n",
    "model1.add(layers.Dense(16, activation=\"relu\"))\n",
    "model1.add(layers.Dense(1, activation=\"sigmoid\"))\n",
    "model1.summary()"
   ]
  },
  {
   "cell_type": "code",
   "execution_count": 6,
   "metadata": {},
   "outputs": [],
   "source": [
    "from keras import optimizers\n",
    "from keras import losses\n",
    "from keras import metrics\n",
    "\n",
    "model1.compile(optimizer=optimizers.RMSprop(lr=0.001),\n",
    "              loss=losses.binary_crossentropy,\n",
    "              metrics=[metrics.binary_accuracy])"
   ]
  },
  {
   "cell_type": "code",
   "execution_count": 7,
   "metadata": {},
   "outputs": [
    {
     "name": "stdout",
     "output_type": "stream",
     "text": [
      "Train on 15000 samples, validate on 10000 samples\n",
      "Epoch 1/20\n",
      "15000/15000 [==============================] - 5s 341us/step - loss: 0.5084 - binary_accuracy: 0.7813 - val_loss: 0.3797 - val_binary_accuracy: 0.8684\n",
      "Epoch 2/20\n",
      "15000/15000 [==============================] - 2s 148us/step - loss: 0.3004 - binary_accuracy: 0.9047 - val_loss: 0.3004 - val_binary_accuracy: 0.8897\n",
      "Epoch 3/20\n",
      "15000/15000 [==============================] - 2s 153us/step - loss: 0.2179 - binary_accuracy: 0.9285 - val_loss: 0.3085 - val_binary_accuracy: 0.8711\n",
      "Epoch 4/20\n",
      "15000/15000 [==============================] - 2s 156us/step - loss: 0.1750 - binary_accuracy: 0.9437 - val_loss: 0.2840 - val_binary_accuracy: 0.8832\n",
      "Epoch 5/20\n",
      "15000/15000 [==============================] - 2s 155us/step - loss: 0.1427 - binary_accuracy: 0.9543 - val_loss: 0.2841 - val_binary_accuracy: 0.8872\n",
      "Epoch 6/20\n",
      "15000/15000 [==============================] - 2s 156us/step - loss: 0.1150 - binary_accuracy: 0.9650 - val_loss: 0.3166 - val_binary_accuracy: 0.8772\n",
      "Epoch 7/20\n",
      "15000/15000 [==============================] - 2s 158us/step - loss: 0.0980 - binary_accuracy: 0.9705 - val_loss: 0.3127 - val_binary_accuracy: 0.8846\n",
      "Epoch 8/20\n",
      "15000/15000 [==============================] - 2s 154us/step - loss: 0.0807 - binary_accuracy: 0.9763 - val_loss: 0.3859 - val_binary_accuracy: 0.8649\n",
      "Epoch 9/20\n",
      "15000/15000 [==============================] - 2s 157us/step - loss: 0.0661 - binary_accuracy: 0.9821 - val_loss: 0.3635 - val_binary_accuracy: 0.8782\n",
      "Epoch 10/20\n",
      "15000/15000 [==============================] - 2s 155us/step - loss: 0.0561 - binary_accuracy: 0.9853 - val_loss: 0.3843 - val_binary_accuracy: 0.8792\n",
      "Epoch 11/20\n",
      "15000/15000 [==============================] - 2s 163us/step - loss: 0.0439 - binary_accuracy: 0.9893 - val_loss: 0.4153 - val_binary_accuracy: 0.8779\n",
      "Epoch 12/20\n",
      "15000/15000 [==============================] - 2s 155us/step - loss: 0.0381 - binary_accuracy: 0.9921 - val_loss: 0.4525 - val_binary_accuracy: 0.8690\n",
      "Epoch 13/20\n",
      "15000/15000 [==============================] - 2s 157us/step - loss: 0.0300 - binary_accuracy: 0.9928 - val_loss: 0.4698 - val_binary_accuracy: 0.8729\n",
      "Epoch 14/20\n",
      "15000/15000 [==============================] - 2s 157us/step - loss: 0.0247 - binary_accuracy: 0.9945 - val_loss: 0.5023 - val_binary_accuracy: 0.8726\n",
      "Epoch 15/20\n",
      "15000/15000 [==============================] - 2s 160us/step - loss: 0.0175 - binary_accuracy: 0.9979 - val_loss: 0.5342 - val_binary_accuracy: 0.8693\n",
      "Epoch 16/20\n",
      "15000/15000 [==============================] - 2s 160us/step - loss: 0.0149 - binary_accuracy: 0.9983 - val_loss: 0.5710 - val_binary_accuracy: 0.8699\n",
      "Epoch 17/20\n",
      "15000/15000 [==============================] - 2s 162us/step - loss: 0.0151 - binary_accuracy: 0.9971 - val_loss: 0.6024 - val_binary_accuracy: 0.8697\n",
      "Epoch 18/20\n",
      "15000/15000 [==============================] - 3s 168us/step - loss: 0.0075 - binary_accuracy: 0.9996 - val_loss: 0.6822 - val_binary_accuracy: 0.8632\n",
      "Epoch 19/20\n",
      "15000/15000 [==============================] - 2s 166us/step - loss: 0.0121 - binary_accuracy: 0.9971 - val_loss: 0.6771 - val_binary_accuracy: 0.8652\n",
      "Epoch 20/20\n",
      "15000/15000 [==============================] - 3s 167us/step - loss: 0.0041 - binary_accuracy: 0.9999 - val_loss: 0.6900 - val_binary_accuracy: 0.8657\n"
     ]
    },
    {
     "data": {
      "text/plain": [
       "dict_keys(['val_loss', 'val_binary_accuracy', 'loss', 'binary_accuracy'])"
      ]
     },
     "execution_count": 7,
     "metadata": {},
     "output_type": "execute_result"
    }
   ],
   "source": [
    "history1 = model1.fit(partial_x_train,\n",
    "                    partial_y_train,\n",
    "                    epochs=20,\n",
    "                    batch_size=512,\n",
    "                    validation_data=(x_val, y_val))\n",
    "\n",
    "history_dict1 = history1.history\n",
    "history_dict1.keys()"
   ]
  },
  {
   "cell_type": "code",
   "execution_count": 9,
   "metadata": {},
   "outputs": [
    {
     "data": {
      "image/png": "[encoded data removed]",
      "text/plain": [
       "<Figure size 432x288 with 1 Axes>"
      ]
     },
     "metadata": {},
     "output_type": "display_data"
    }
   ],
   "source": [
    "import matplotlib.pyplot as plt\n",
    "\n",
    "acc = history1.history[\"binary_accuracy\"]\n",
    "val_acc = history1.history[\"val_binary_accuracy\"]\n",
    "loss = history1.history[\"loss\"]\n",
    "val_loss = history1.history[\"val_loss\"]\n",
    "\n",
    "epochs = range(1, len(acc) + 1)\n",
    "\n",
    "plt.plot(epochs, acc, \"b\", label=\"Training accuracy\")\n",
    "plt.plot(epochs, val_acc, \"r\", label=\"Validation accuracy\")\n",
    "plt.title(\"Training and validation accuracy\")\n",
    "plt.xlabel(\"Epochs\")\n",
    "plt.ylabel(\"Accuracy\")\n",
    "plt.legend()\n",
    "plt.grid()\n",
    "plt.show()"
   ]
  },
  {
   "cell_type": "code",
   "execution_count": 10,
   "metadata": {},
   "outputs": [
    {
     "data": {
      "image/png": "[encoded data removed]",
      "text/plain": [
       "<Figure size 432x288 with 1 Axes>"
      ]
     },
     "metadata": {},
     "output_type": "display_data"
    }
   ],
   "source": [
    "plt.clf()\n",
    "\n",
    "plt.plot(epochs, loss, \"b\", label=\"Training loss\")\n",
    "plt.plot(epochs, val_loss, \"r\", label=\"Validation loss\")\n",
    "plt.title(\"Training and validation loss\")\n",
    "plt.xlabel(\"Epochs\")\n",
    "plt.ylabel(\"Loss\")\n",
    "plt.legend()\n",
    "plt.grid()\n",
    "plt.show()"
   ]
  },
  {
   "cell_type": "code",
   "execution_count": 11,
   "metadata": {},
   "outputs": [
    {
     "name": "stdout",
     "output_type": "stream",
     "text": [
      "Epoch 1/10\n",
      "25000/25000 [==============================] - 3s 125us/step - loss: 0.4577 - acc: 0.8291\n",
      "Epoch 2/10\n",
      "25000/25000 [==============================] - 2s 100us/step - loss: 0.2886 - acc: 0.9052\n",
      "Epoch 3/10\n",
      "25000/25000 [==============================] - 2s 100us/step - loss: 0.2295 - acc: 0.9234\n",
      "Epoch 4/10\n",
      "25000/25000 [==============================] - 3s 122us/step - loss: 0.1964 - acc: 0.9335\n",
      "Epoch 5/10\n",
      "25000/25000 [==============================] - 3s 110us/step - loss: 0.1738 - acc: 0.9422\n",
      "Epoch 6/10\n",
      "25000/25000 [==============================] - 3s 104us/step - loss: 0.1570 - acc: 0.9476\n",
      "Epoch 7/10\n",
      "25000/25000 [==============================] - 3s 109us/step - loss: 0.1428 - acc: 0.9533\n",
      "Epoch 8/10\n",
      "25000/25000 [==============================] - 3s 102us/step - loss: 0.1316 - acc: 0.9570\n",
      "Epoch 9/10\n",
      "25000/25000 [==============================] - 2s 96us/step - loss: 0.1212 - acc: 0.9610\n",
      "Epoch 10/10\n",
      "25000/25000 [==============================] - 2s 99us/step - loss: 0.1135 - acc: 0.9642\n"
     ]
    },
    {
     "data": {
      "text/plain": [
       "dict_keys(['loss', 'acc'])"
      ]
     },
     "execution_count": 11,
     "metadata": {},
     "output_type": "execute_result"
    }
   ],
   "source": [
    "model2 = models.Sequential()\n",
    "model2.add(layers.Dense(10, activation=\"relu\", input_shape=(10000,)))\n",
    "model2.add(layers.Dense(1, activation=\"sigmoid\"))\n",
    "\n",
    "model2.compile(optimizer=\"rmsprop\",\n",
    "              loss=\"binary_crossentropy\",\n",
    "              metrics=[\"accuracy\"])\n",
    "\n",
    "history2 = model2.fit(x_train, y_train, \n",
    "                      epochs=10, \n",
    "                      batch_size=512)\n",
    "\n",
    "history2_dict = history2.history\n",
    "history2_dict.keys()"
   ]
  },
  {
   "cell_type": "code",
   "execution_count": 12,
   "metadata": {},
   "outputs": [
    {
     "data": {
      "image/png": "[encoded data removed]",
      "text/plain": [
       "<Figure size 432x288 with 1 Axes>"
      ]
     },
     "metadata": {},
     "output_type": "display_data"
    }
   ],
   "source": [
    "import matplotlib.pyplot as plt\n",
    "\n",
    "acc = history2.history[\"acc\"]\n",
    "loss = history2.history[\"loss\"]\n",
    "\n",
    "epochs = range(len(acc))\n",
    "\n",
    "plt.plot(epochs, acc, \"b\", label=\"Training accuracy\")\n",
    "plt.title(\"Training accuracy\")\n",
    "plt.xlabel(\"Epochs\")\n",
    "plt.ylabel(\"Accuracy\")\n",
    "plt.legend()\n",
    "plt.grid()\n",
    "plt.show()"
   ]
  },
  {
   "cell_type": "code",
   "execution_count": 13,
   "metadata": {},
   "outputs": [
    {
     "data": {
      "image/png": "[encoded data removed]",
      "text/plain": [
       "<Figure size 432x288 with 1 Axes>"
      ]
     },
     "metadata": {},
     "output_type": "display_data"
    }
   ],
   "source": [
    "plt.clf()\n",
    "\n",
    "plt.plot(epochs, loss, \"b\", label=\"Training loss\")\n",
    "plt.title(\"Training loss\")\n",
    "plt.xlabel(\"Epochs\")\n",
    "plt.ylabel(\"Loss\")\n",
    "plt.legend()\n",
    "plt.grid()\n",
    "plt.show()"
   ]
  },
  {
   "cell_type": "code",
   "execution_count": 14,
   "metadata": {},
   "outputs": [
    {
     "name": "stdout",
     "output_type": "stream",
     "text": [
      "<<< model1 >>>\n",
      "25000/25000 [==============================] - 4s 162us/step\n",
      "[0.7630399031662941, 0.85064]\n",
      "<<< model2 >>>\n",
      "25000/25000 [==============================] - 4s 149us/step\n",
      "[0.3431195530128479, 0.87216]\n"
     ]
    }
   ],
   "source": [
    "print('<<< model1 >>>')\n",
    "results = model1.evaluate(x_test, y_test)\n",
    "print(results) # (loss, accuracy)\n",
    "\n",
    "print('<<< model2 >>>')\n",
    "results = model2.evaluate(x_test, y_test)\n",
    "print(results) # (loss, accuracy)"
   ]
  },
  {
   "cell_type": "code",
   "execution_count": 15,
   "metadata": {},
   "outputs": [
    {
     "name": "stdout",
     "output_type": "stream",
     "text": [
      "<<< model1 >>>\n",
      "[[0.00700265]\n",
      " [0.9999999 ]\n",
      " [0.8997707 ]\n",
      " ...\n",
      " [0.0017704 ]\n",
      " [0.00568429]\n",
      " [0.5428282 ]]\n",
      "<<< model2 >>>\n",
      "[[0.11949197]\n",
      " [0.9999844 ]\n",
      " [0.44763622]\n",
      " ...\n",
      " [0.10883356]\n",
      " [0.03314958]\n",
      " [0.586233  ]]\n"
     ]
    }
   ],
   "source": [
    "print('<<< model1 >>>')\n",
    "prediction = model1.predict(x_test)\n",
    "print(prediction)\n",
    "\n",
    "print('<<< model2 >>>')\n",
    "prediction = model2.predict(x_test)\n",
    "print(prediction)"
   ]
  }
 ],
 "metadata": {
  "kernelspec": {
   "display_name": "Python 3",
   "language": "python",
   "name": "python3"
  },
  "language_info": {
   "codemirror_mode": {
    "name": "ipython",
    "version": 3
   },
   "file_extension": ".py",
   "mimetype": "text/x-python",
   "name": "python",
   "nbconvert_exporter": "python",
   "pygments_lexer": "ipython3",
   "version": "3.6.5"
  }
 },
 "nbformat": 4,
 "nbformat_minor": 2
}
