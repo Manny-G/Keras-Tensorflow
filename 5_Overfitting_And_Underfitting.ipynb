{
 "cells": [
  {
   "cell_type": "markdown",
   "metadata": {},
   "source": [
    "<a id='Title-Binary-Classification'></a>\n",
    "<h1 style=\"color:SlateGray;\">4_Overfitting_And_Underfitting</h1>\n",
    "\n",
    "**Input dataset**\n",
    "\n",
    "IMBD: set of movie reviews with adjustable limit on max word count.\n",
    "\n",
    "**Output classification**\n",
    "\n",
    "Binary categorization (positive/negative) of a movie review.\n",
    "\n",
    "<h2 style=\"color:SlateGray;\">Background</h2>\n",
    "\n",
    "**Layers**\n",
    "\n",
    "[*Dense*](1_Image_Classification.ipynb#Layers-Dense)\n",
    "\t\t\n",
    "**Activations**\n",
    "\n",
    "[*relu*](1_Image_Classification.ipynb#Activations-relu)\n",
    "\n",
    "[*sigmoid*](2_Binary_Classification.ipynb#Activations-sigmoid)\n",
    "\t\t\n",
    "**Optimizers**\n",
    "\n",
    "[*rmsprop*](1_Image_Classification.ipynb#Optimizers-rmsprop)\n",
    "\t\t\n",
    "**Loss functions**\n",
    "\n",
    "[*binary_crossentropy*](2_Binary_Classification.ipynb#Loss-functions-binary_crossentropy)\n",
    "\n",
    "<h2 style=\"color:SlateGray;\">Overview</h2>\n",
    "\n",
    "Predict whether a written movie review is overall positive or negative.\n",
    "\n",
    "The input data set consists of 25,000 training samples and 25,000 test samples, the associated labels contain either 0 or 1 (positive or negative). This example encodes each review by the 10,000 most frequently used words. The training samples are partitioned to be 15,000 training and 10,000 validation, each sample is one-hot encoded."
   ]
  },
  {
   "cell_type": "code",
   "execution_count": 1,
   "metadata": {},
   "outputs": [
    {
     "name": "stderr",
     "output_type": "stream",
     "text": [
      "Using TensorFlow backend.\n"
     ]
    },
    {
     "data": {
      "text/plain": [
       "'2.2.2'"
      ]
     },
     "execution_count": 1,
     "metadata": {},
     "output_type": "execute_result"
    }
   ],
   "source": [
    "import keras\n",
    "keras.__version__"
   ]
  },
  {
   "cell_type": "code",
   "execution_count": 2,
   "metadata": {
    "scrolled": true
   },
   "outputs": [],
   "source": [
    "from keras.datasets import imdb\n",
    "import numpy as np\n",
    "\n",
    "(train_data, train_labels), (test_data, test_labels) = imdb.load_data(num_words=10000)\n",
    "\n",
    "def vectorize_sequences(sequences, dimension=10000):\n",
    "    results = np.zeros((len(sequences), dimension))\n",
    "    for i, sequence in enumerate(sequences):\n",
    "        results[i, sequence] = 1.\n",
    "    return results\n",
    "\n",
    "x_train = vectorize_sequences(train_data)\n",
    "x_test = vectorize_sequences(test_data)\n",
    "\n",
    "y_train = np.asarray(train_labels).astype('float32')\n",
    "y_test = np.asarray(test_labels).astype('float32')"
   ]
  },
  {
   "cell_type": "code",
   "execution_count": 3,
   "metadata": {},
   "outputs": [
    {
     "name": "stdout",
     "output_type": "stream",
     "text": [
      "_________________________________________________________________\n",
      "Layer (type)                 Output Shape              Param #   \n",
      "=================================================================\n",
      "dense_1 (Dense)              (None, 16)                160016    \n",
      "_________________________________________________________________\n",
      "dense_2 (Dense)              (None, 16)                272       \n",
      "_________________________________________________________________\n",
      "dense_3 (Dense)              (None, 1)                 17        \n",
      "=================================================================\n",
      "Total params: 160,305\n",
      "Trainable params: 160,305\n",
      "Non-trainable params: 0\n",
      "_________________________________________________________________\n"
     ]
    }
   ],
   "source": [
    "from keras import models\n",
    "from keras import layers\n",
    "\n",
    "original_model = models.Sequential()\n",
    "original_model.add(layers.Dense(16, activation='relu', input_shape=(10000,)))\n",
    "original_model.add(layers.Dense(16, activation='relu'))\n",
    "original_model.add(layers.Dense(1, activation='sigmoid'))\n",
    "original_model.summary()\n",
    "\n",
    "original_model.compile(optimizer='rmsprop',\n",
    "                       loss='binary_crossentropy',\n",
    "                       metrics=['acc'])"
   ]
  },
  {
   "cell_type": "code",
   "execution_count": 4,
   "metadata": {},
   "outputs": [
    {
     "name": "stdout",
     "output_type": "stream",
     "text": [
      "_________________________________________________________________\n",
      "Layer (type)                 Output Shape              Param #   \n",
      "=================================================================\n",
      "dense_4 (Dense)              (None, 4)                 40004     \n",
      "_________________________________________________________________\n",
      "dense_5 (Dense)              (None, 4)                 20        \n",
      "_________________________________________________________________\n",
      "dense_6 (Dense)              (None, 1)                 5         \n",
      "=================================================================\n",
      "Total params: 40,029\n",
      "Trainable params: 40,029\n",
      "Non-trainable params: 0\n",
      "_________________________________________________________________\n"
     ]
    }
   ],
   "source": [
    "smaller_model = models.Sequential()\n",
    "smaller_model.add(layers.Dense(4, activation='relu', input_shape=(10000,)))\n",
    "smaller_model.add(layers.Dense(4, activation='relu'))\n",
    "smaller_model.add(layers.Dense(1, activation='sigmoid'))\n",
    "smaller_model.summary()\n",
    "\n",
    "smaller_model.compile(optimizer='rmsprop',\n",
    "                      loss='binary_crossentropy',\n",
    "                      metrics=['acc'])"
   ]
  },
  {
   "cell_type": "code",
   "execution_count": 5,
   "metadata": {},
   "outputs": [
    {
     "name": "stdout",
     "output_type": "stream",
     "text": [
      "_________________________________________________________________\n",
      "Layer (type)                 Output Shape              Param #   \n",
      "=================================================================\n",
      "dense_7 (Dense)              (None, 512)               5120512   \n",
      "_________________________________________________________________\n",
      "dense_8 (Dense)              (None, 512)               262656    \n",
      "_________________________________________________________________\n",
      "dense_9 (Dense)              (None, 1)                 513       \n",
      "=================================================================\n",
      "Total params: 5,383,681\n",
      "Trainable params: 5,383,681\n",
      "Non-trainable params: 0\n",
      "_________________________________________________________________\n"
     ]
    }
   ],
   "source": [
    "bigger_model = models.Sequential()\n",
    "bigger_model.add(layers.Dense(512, activation='relu', input_shape=(10000,)))\n",
    "bigger_model.add(layers.Dense(512, activation='relu'))\n",
    "bigger_model.add(layers.Dense(1, activation='sigmoid'))\n",
    "bigger_model.summary()\n",
    "\n",
    "bigger_model.compile(optimizer='rmsprop',\n",
    "                      loss='binary_crossentropy',\n",
    "                      metrics=['acc'])"
   ]
  },
  {
   "cell_type": "code",
   "execution_count": 6,
   "metadata": {},
   "outputs": [
    {
     "name": "stdout",
     "output_type": "stream",
     "text": [
      "Train on 25000 samples, validate on 25000 samples\n",
      "Epoch 1/20\n",
      "25000/25000 [==============================] - 9s 360us/step - loss: 0.4523 - acc: 0.8201 - val_loss: 0.3374 - val_acc: 0.8769 - acc: 0\n",
      "Epoch 2/20\n",
      "25000/25000 [==============================] - 4s 173us/step - loss: 0.2530 - acc: 0.9102 - val_loss: 0.2877 - val_acc: 0.8864\n",
      "Epoch 3/20\n",
      "25000/25000 [==============================] - 4s 171us/step - loss: 0.1977 - acc: 0.9286 - val_loss: 0.2811 - val_acc: 0.8890\n",
      "Epoch 4/20\n",
      "25000/25000 [==============================] - 4s 172us/step - loss: 0.1657 - acc: 0.9416 - val_loss: 0.2961 - val_acc: 0.8826\n",
      "Epoch 5/20\n",
      "25000/25000 [==============================] - 4s 172us/step - loss: 0.1470 - acc: 0.9469 - val_loss: 0.3125 - val_acc: 0.8802\n",
      "Epoch 6/20\n",
      "25000/25000 [==============================] - 4s 171us/step - loss: 0.1275 - acc: 0.9558 - val_loss: 0.3383 - val_acc: 0.8749\n",
      "Epoch 7/20\n",
      "25000/25000 [==============================] - 4s 172us/step - loss: 0.1142 - acc: 0.9598 - val_loss: 0.3577 - val_acc: 0.8734\n",
      "Epoch 8/20\n",
      "25000/25000 [==============================] - 4s 176us/step - loss: 0.0985 - acc: 0.9680 - val_loss: 0.3917 - val_acc: 0.8671\n",
      "Epoch 9/20\n",
      "25000/25000 [==============================] - 4s 171us/step - loss: 0.0899 - acc: 0.9694 - val_loss: 0.4151 - val_acc: 0.8678\n",
      "Epoch 10/20\n",
      "25000/25000 [==============================] - 4s 172us/step - loss: 0.0792 - acc: 0.9737 - val_loss: 0.4462 - val_acc: 0.8639\n",
      "Epoch 11/20\n",
      "25000/25000 [==============================] - 4s 171us/step - loss: 0.0695 - acc: 0.9768 - val_loss: 0.4750 - val_acc: 0.8623\n",
      "Epoch 12/20\n",
      "25000/25000 [==============================] - 4s 173us/step - loss: 0.0644 - acc: 0.9784 - val_loss: 0.5008 - val_acc: 0.8602\n",
      "Epoch 13/20\n",
      "25000/25000 [==============================] - 4s 172us/step - loss: 0.0549 - acc: 0.9830 - val_loss: 0.5357 - val_acc: 0.8586\n",
      "Epoch 14/20\n",
      "25000/25000 [==============================] - 4s 173us/step - loss: 0.0485 - acc: 0.9856 - val_loss: 0.5676 - val_acc: 0.8561\n",
      "Epoch 15/20\n",
      "25000/25000 [==============================] - 4s 172us/step - loss: 0.0436 - acc: 0.9873 - val_loss: 0.6249 - val_acc: 0.8520\n",
      "Epoch 16/20\n",
      "25000/25000 [==============================] - 4s 172us/step - loss: 0.0381 - acc: 0.9884 - val_loss: 0.6427 - val_acc: 0.8536\n",
      "Epoch 17/20\n",
      "25000/25000 [==============================] - 4s 171us/step - loss: 0.0303 - acc: 0.9919 - val_loss: 0.6843 - val_acc: 0.8504\n",
      "Epoch 18/20\n",
      "25000/25000 [==============================] - 4s 172us/step - loss: 0.0293 - acc: 0.9914 - val_loss: 0.7317 - val_acc: 0.8493\n",
      "Epoch 19/20\n",
      "25000/25000 [==============================] - 4s 172us/step - loss: 0.0225 - acc: 0.9944 - val_loss: 0.7672 - val_acc: 0.8494\n",
      "Epoch 20/20\n",
      "25000/25000 [==============================] - 4s 173us/step - loss: 0.0208 - acc: 0.9946 - val_loss: 0.8076 - val_acc: 0.8484\n"
     ]
    }
   ],
   "source": [
    "original_hist = original_model.fit(x_train,\n",
    "                                   y_train,\n",
    "                                   epochs=20,\n",
    "                                   batch_size=512,\n",
    "                                   validation_data=(x_test, y_test))"
   ]
  },
  {
   "cell_type": "code",
   "execution_count": 7,
   "metadata": {},
   "outputs": [
    {
     "name": "stdout",
     "output_type": "stream",
     "text": [
      "Train on 25000 samples, validate on 25000 samples\n",
      "Epoch 1/20\n",
      "25000/25000 [==============================] - 5s 181us/step - loss: 0.5804 - acc: 0.7027 - val_loss: 0.5309 - val_acc: 0.7558\n",
      "Epoch 2/20\n",
      "25000/25000 [==============================] - 4s 171us/step - loss: 0.4843 - acc: 0.8455 - val_loss: 0.4876 - val_acc: 0.8280\n",
      "Epoch 3/20\n",
      "25000/25000 [==============================] - 4s 173us/step - loss: 0.4389 - acc: 0.8920 - val_loss: 0.4663 - val_acc: 0.8497\n",
      "Epoch 4/20\n",
      "25000/25000 [==============================] - 4s 173us/step - loss: 0.4077 - acc: 0.9154 - val_loss: 0.4526 - val_acc: 0.8663 0s - loss: 0.4088 - \n",
      "Epoch 5/20\n",
      "25000/25000 [==============================] - 4s 174us/step - loss: 0.3832 - acc: 0.9306 - val_loss: 0.4513 - val_acc: 0.8620\n",
      "Epoch 6/20\n",
      "25000/25000 [==============================] - 4s 173us/step - loss: 0.3620 - acc: 0.9415 - val_loss: 0.4424 - val_acc: 0.8728\n",
      "Epoch 7/20\n",
      "25000/25000 [==============================] - 4s 175us/step - loss: 0.3425 - acc: 0.9515 - val_loss: 0.4489 - val_acc: 0.8671\n",
      "Epoch 8/20\n",
      "25000/25000 [==============================] - 4s 178us/step - loss: 0.3261 - acc: 0.9560 - val_loss: 0.4515 - val_acc: 0.8675\n",
      "Epoch 9/20\n",
      "25000/25000 [==============================] - 4s 174us/step - loss: 0.3099 - acc: 0.9613 - val_loss: 0.4687 - val_acc: 0.8626\n",
      "Epoch 10/20\n",
      "25000/25000 [==============================] - 4s 175us/step - loss: 0.2961 - acc: 0.9649 - val_loss: 0.4632 - val_acc: 0.8649\n",
      "Epoch 11/20\n",
      "25000/25000 [==============================] - 4s 177us/step - loss: 0.2815 - acc: 0.9692 - val_loss: 0.4840 - val_acc: 0.8606\n",
      "Epoch 12/20\n",
      "25000/25000 [==============================] - 4s 178us/step - loss: 0.2684 - acc: 0.9718 - val_loss: 0.4873 - val_acc: 0.8626\n",
      "Epoch 13/20\n",
      "25000/25000 [==============================] - 5s 181us/step - loss: 0.2562 - acc: 0.9753 - val_loss: 0.5214 - val_acc: 0.8574\n",
      "Epoch 14/20\n",
      "25000/25000 [==============================] - 4s 178us/step - loss: 0.2454 - acc: 0.9760 - val_loss: 0.5507 - val_acc: 0.8540\n",
      "Epoch 15/20\n",
      "25000/25000 [==============================] - 5s 182us/step - loss: 0.2340 - acc: 0.9782 - val_loss: 0.5378 - val_acc: 0.8586\n",
      "Epoch 16/20\n",
      "25000/25000 [==============================] - 4s 178us/step - loss: 0.2235 - acc: 0.9802 - val_loss: 0.5300 - val_acc: 0.8582\n",
      "Epoch 17/20\n",
      "25000/25000 [==============================] - 4s 179us/step - loss: 0.2149 - acc: 0.9811 - val_loss: 0.5766 - val_acc: 0.8550\n",
      "Epoch 18/20\n",
      "25000/25000 [==============================] - 4s 178us/step - loss: 0.2052 - acc: 0.9822 - val_loss: 0.5430 - val_acc: 0.8571\n",
      "Epoch 19/20\n",
      "25000/25000 [==============================] - 4s 178us/step - loss: 0.1965 - acc: 0.9830 - val_loss: 0.6403 - val_acc: 0.8494\n",
      "Epoch 20/20\n",
      "25000/25000 [==============================] - 4s 179us/step - loss: 0.1888 - acc: 0.9837 - val_loss: 0.7073 - val_acc: 0.8467\n"
     ]
    }
   ],
   "source": [
    "smaller_hist = smaller_model.fit(x_train,\n",
    "                                 y_train,\n",
    "                                 epochs=20,\n",
    "                                 batch_size=512,\n",
    "                                 validation_data=(x_test, y_test))"
   ]
  },
  {
   "cell_type": "code",
   "execution_count": 8,
   "metadata": {},
   "outputs": [
    {
     "name": "stdout",
     "output_type": "stream",
     "text": [
      "Train on 25000 samples, validate on 25000 samples\n",
      "Epoch 1/20\n",
      "25000/25000 [==============================] - 5s 215us/step - loss: 0.4617 - acc: 0.8022 - val_loss: 0.2787 - val_acc: 0.8868\n",
      "Epoch 2/20\n",
      "25000/25000 [==============================] - 5s 198us/step - loss: 0.2216 - acc: 0.9111 - val_loss: 0.2886 - val_acc: 0.8816\n",
      "Epoch 3/20\n",
      "25000/25000 [==============================] - 5s 197us/step - loss: 0.1276 - acc: 0.9514 - val_loss: 0.3223 - val_acc: 0.8840\n",
      "Epoch 4/20\n",
      "25000/25000 [==============================] - 5s 213us/step - loss: 0.0668 - acc: 0.9818 - val_loss: 0.5999 - val_acc: 0.8396\n",
      "Epoch 5/20\n",
      "25000/25000 [==============================] - 5s 215us/step - loss: 0.0610 - acc: 0.9873 - val_loss: 0.4668 - val_acc: 0.8818\n",
      "Epoch 6/20\n",
      "25000/25000 [==============================] - 5s 200us/step - loss: 0.0565 - acc: 0.9884 - val_loss: 0.5015 - val_acc: 0.8802\n",
      "Epoch 7/20\n",
      "25000/25000 [==============================] - 5s 207us/step - loss: 0.0012 - acc: 1.0000 - val_loss: 0.7037 - val_acc: 0.8805 - loss: 0.0013 - acc: 1.\n",
      "Epoch 8/20\n",
      "25000/25000 [==============================] - 5s 198us/step - loss: 0.0768 - acc: 0.9899 - val_loss: 0.8295 - val_acc: 0.8554\n",
      "Epoch 9/20\n",
      "25000/25000 [==============================] - 5s 202us/step - loss: 4.5613e-04 - acc: 0.9999 - val_loss: 0.7571 - val_acc: 0.8800\n",
      "Epoch 10/20\n",
      "25000/25000 [==============================] - 5s 199us/step - loss: 3.6915e-05 - acc: 1.0000 - val_loss: 0.8477 - val_acc: 0.8808\n",
      "Epoch 11/20\n",
      "25000/25000 [==============================] - 5s 198us/step - loss: 0.0545 - acc: 0.9944 - val_loss: 2.2053 - val_acc: 0.7720\n",
      "Epoch 12/20\n",
      "25000/25000 [==============================] - 5s 199us/step - loss: 0.0116 - acc: 0.9980 - val_loss: 0.8615 - val_acc: 0.8697\n",
      "Epoch 13/20\n",
      "25000/25000 [==============================] - 5s 199us/step - loss: 0.0621 - acc: 0.9907 - val_loss: 0.8125 - val_acc: 0.8686\n",
      "Epoch 14/20\n",
      "25000/25000 [==============================] - 5s 201us/step - loss: 1.2113e-04 - acc: 1.0000 - val_loss: 0.8514 - val_acc: 0.8742\n",
      "Epoch 15/20\n",
      "25000/25000 [==============================] - 5s 208us/step - loss: 4.7614e-05 - acc: 1.0000 - val_loss: 2.4646 - val_acc: 0.7372\n",
      "Epoch 16/20\n",
      "25000/25000 [==============================] - 5s 202us/step - loss: 0.0537 - acc: 0.9913 - val_loss: 0.8198 - val_acc: 0.8789\n",
      "Epoch 17/20\n",
      "25000/25000 [==============================] - 5s 215us/step - loss: 1.3609e-05 - acc: 1.0000 - val_loss: 0.8845 - val_acc: 0.8782\n",
      "Epoch 18/20\n",
      "25000/25000 [==============================] - 5s 210us/step - loss: 4.0776e-06 - acc: 1.0000 - val_loss: 0.9524 - val_acc: 0.8780\n",
      "Epoch 19/20\n",
      "25000/25000 [==============================] - 5s 197us/step - loss: 0.0663 - acc: 0.9938 - val_loss: 1.5241 - val_acc: 0.8266\n",
      "Epoch 20/20\n",
      "25000/25000 [==============================] - 5s 200us/step - loss: 0.0046 - acc: 0.9994 - val_loss: 0.9203 - val_acc: 0.8792\n"
     ]
    }
   ],
   "source": [
    "bigger_hist = bigger_model.fit(x_train,\n",
    "                               y_train,\n",
    "                               epochs=20,\n",
    "                               batch_size=512,\n",
    "                               validation_data=(x_test, y_test))"
   ]
  },
  {
   "cell_type": "code",
   "execution_count": 10,
   "metadata": {
    "scrolled": true
   },
   "outputs": [
    {
     "data": {
      "image/png": "[encoded data removed]",
      "text/plain": [
       "<Figure size 432x288 with 1 Axes>"
      ]
     },
     "metadata": {},
     "output_type": "display_data"
    }
   ],
   "source": [
    "import matplotlib.pyplot as plt\n",
    "epochs = range(1, 21)\n",
    "\n",
    "original_train_loss = original_hist.history['loss']\n",
    "smaller_model_train_loss = smaller_hist.history['loss']\n",
    "bigger_model_train_loss = bigger_hist.history['loss']\n",
    "\n",
    "plt.plot(epochs, original_train_loss, 'b', label='Original model')\n",
    "plt.plot(epochs, smaller_model_train_loss, 'r', label='Smaller model')\n",
    "plt.plot(epochs, bigger_model_train_loss, 'g', label='Bigger model')\n",
    "\n",
    "plt.xlabel('Epochs')\n",
    "plt.ylabel('Training loss')\n",
    "plt.legend()\n",
    "plt.grid()\n",
    "\n",
    "\n",
    "plt.show()"
   ]
  },
  {
   "cell_type": "code",
   "execution_count": 11,
   "metadata": {},
   "outputs": [
    {
     "data": {
      "image/png": "[encoded data removed]",
      "text/plain": [
       "<Figure size 432x288 with 1 Axes>"
      ]
     },
     "metadata": {},
     "output_type": "display_data"
    }
   ],
   "source": [
    "original_val_loss = original_hist.history['val_loss']\n",
    "smaller_model_val_loss = smaller_hist.history['val_loss']\n",
    "bigger_model_val_loss = bigger_hist.history['val_loss']\n",
    "\n",
    "plt.plot(epochs, original_val_loss, 'b', label='Original model')\n",
    "plt.plot(epochs, smaller_model_val_loss, 'r', label='Smaller model')\n",
    "plt.plot(epochs, bigger_model_val_loss, 'g', label='Bigger model')\n",
    "\n",
    "plt.xlabel('Epochs')\n",
    "plt.ylabel('Validation loss')\n",
    "plt.legend()\n",
    "plt.grid()\n",
    "\n",
    "plt.show()"
   ]
  },
  {
   "cell_type": "code",
   "execution_count": 12,
   "metadata": {},
   "outputs": [
    {
     "name": "stdout",
     "output_type": "stream",
     "text": [
      "_________________________________________________________________\n",
      "Layer (type)                 Output Shape              Param #   \n",
      "=================================================================\n",
      "dense_10 (Dense)             (None, 16)                160016    \n",
      "_________________________________________________________________\n",
      "dense_11 (Dense)             (None, 16)                272       \n",
      "_________________________________________________________________\n",
      "dense_12 (Dense)             (None, 1)                 17        \n",
      "=================================================================\n",
      "Total params: 160,305\n",
      "Trainable params: 160,305\n",
      "Non-trainable params: 0\n",
      "_________________________________________________________________\n"
     ]
    }
   ],
   "source": [
    "from keras import regularizers\n",
    "\n",
    "original_model_l1 = models.Sequential()\n",
    "original_model_l1.add(layers.Dense(16, \n",
    "                                   kernel_regularizer=regularizers.l1(0.001),\n",
    "                                   activation='relu',\n",
    "                                   input_shape=(10000,)))\n",
    "original_model_l1.add(layers.Dense(16,\n",
    "                                   kernel_regularizer=regularizers.l1(0.001),\n",
    "                                   activation='relu'))\n",
    "original_model_l1.add(layers.Dense(1, activation='sigmoid'))\n",
    "original_model_l1.summary()\n",
    "\n",
    "original_model_l1.compile(optimizer='rmsprop',\n",
    "                       loss='binary_crossentropy',\n",
    "                       metrics=['acc'])"
   ]
  },
  {
   "cell_type": "code",
   "execution_count": 13,
   "metadata": {},
   "outputs": [
    {
     "name": "stdout",
     "output_type": "stream",
     "text": [
      "_________________________________________________________________\n",
      "Layer (type)                 Output Shape              Param #   \n",
      "=================================================================\n",
      "dense_13 (Dense)             (None, 16)                160016    \n",
      "_________________________________________________________________\n",
      "dense_14 (Dense)             (None, 16)                272       \n",
      "_________________________________________________________________\n",
      "dense_15 (Dense)             (None, 1)                 17        \n",
      "=================================================================\n",
      "Total params: 160,305\n",
      "Trainable params: 160,305\n",
      "Non-trainable params: 0\n",
      "_________________________________________________________________\n"
     ]
    }
   ],
   "source": [
    "original_model_l2 = models.Sequential()\n",
    "original_model_l2.add(layers.Dense(16, \n",
    "                                   kernel_regularizer=regularizers.l2(0.001),\n",
    "                                   activation='relu',\n",
    "                                   input_shape=(10000,)))\n",
    "original_model_l2.add(layers.Dense(16,\n",
    "                                   kernel_regularizer=regularizers.l2(0.001),\n",
    "                                   activation='relu'))\n",
    "original_model_l2.add(layers.Dense(1, activation='sigmoid'))\n",
    "original_model_l2.summary()\n",
    "\n",
    "original_model_l2.compile(optimizer='rmsprop',\n",
    "                       loss='binary_crossentropy',\n",
    "                       metrics=['acc'])"
   ]
  },
  {
   "cell_type": "code",
   "execution_count": 14,
   "metadata": {},
   "outputs": [
    {
     "name": "stdout",
     "output_type": "stream",
     "text": [
      "_________________________________________________________________\n",
      "Layer (type)                 Output Shape              Param #   \n",
      "=================================================================\n",
      "dense_16 (Dense)             (None, 16)                160016    \n",
      "_________________________________________________________________\n",
      "dense_17 (Dense)             (None, 16)                272       \n",
      "_________________________________________________________________\n",
      "dense_18 (Dense)             (None, 1)                 17        \n",
      "=================================================================\n",
      "Total params: 160,305\n",
      "Trainable params: 160,305\n",
      "Non-trainable params: 0\n",
      "_________________________________________________________________\n"
     ]
    }
   ],
   "source": [
    "original_model_l1_l2 = models.Sequential()\n",
    "original_model_l1_l2.add(layers.Dense(16, \n",
    "                                      kernel_regularizer=regularizers.l1_l2(l1=0.001, l2=0.001),\n",
    "                                      activation='relu',\n",
    "                                      input_shape=(10000,)))\n",
    "original_model_l1_l2.add(layers.Dense(16,\n",
    "                                      kernel_regularizer=regularizers.l1_l2(l1=0.001, l2=0.001),\n",
    "                                      activation='relu'))\n",
    "original_model_l1_l2.add(layers.Dense(1, activation='sigmoid'))\n",
    "original_model_l1_l2.summary()\n",
    "\n",
    "original_model_l1_l2.compile(optimizer='rmsprop',\n",
    "                             loss='binary_crossentropy',\n",
    "                             metrics=['acc'])"
   ]
  },
  {
   "cell_type": "code",
   "execution_count": 15,
   "metadata": {},
   "outputs": [
    {
     "name": "stdout",
     "output_type": "stream",
     "text": [
      "Train on 25000 samples, validate on 25000 samples\n",
      "Epoch 1/20\n",
      "25000/25000 [==============================] - 5s 200us/step - loss: 0.9069 - acc: 0.7896 - val_loss: 0.6434 - val_acc: 0.8458\n",
      "Epoch 2/20\n",
      "25000/25000 [==============================] - 4s 177us/step - loss: 0.5959 - acc: 0.8631 - val_loss: 0.5877 - val_acc: 0.8556\n",
      "Epoch 3/20\n",
      "25000/25000 [==============================] - 4s 172us/step - loss: 0.5511 - acc: 0.8728 - val_loss: 0.5645 - val_acc: 0.8590\n",
      "Epoch 4/20\n",
      "25000/25000 [==============================] - 4s 172us/step - loss: 0.5277 - acc: 0.8772 - val_loss: 0.5383 - val_acc: 0.8666\n",
      "Epoch 5/20\n",
      "25000/25000 [==============================] - 4s 179us/step - loss: 0.5149 - acc: 0.8792 - val_loss: 0.5163 - val_acc: 0.8750\n",
      "Epoch 6/20\n",
      "25000/25000 [==============================] - 4s 173us/step - loss: 0.5039 - acc: 0.8826 - val_loss: 0.5514 - val_acc: 0.8545\n",
      "Epoch 7/20\n",
      "25000/25000 [==============================] - 4s 172us/step - loss: 0.4995 - acc: 0.8802 - val_loss: 0.5381 - val_acc: 0.8601\n",
      "Epoch 8/20\n",
      "25000/25000 [==============================] - 4s 173us/step - loss: 0.4882 - acc: 0.8871 - val_loss: 0.5027 - val_acc: 0.8755\n",
      "Epoch 9/20\n",
      "25000/25000 [==============================] - 4s 172us/step - loss: 0.4890 - acc: 0.8828 - val_loss: 0.5165 - val_acc: 0.8658\n",
      "Epoch 10/20\n",
      "25000/25000 [==============================] - 4s 173us/step - loss: 0.4798 - acc: 0.8879 - val_loss: 0.4925 - val_acc: 0.8761\n",
      "Epoch 11/20\n",
      "25000/25000 [==============================] - 4s 171us/step - loss: 0.4741 - acc: 0.8883 - val_loss: 0.5276 - val_acc: 0.8636\n",
      "Epoch 12/20\n",
      "25000/25000 [==============================] - 4s 174us/step - loss: 0.4734 - acc: 0.8899 - val_loss: 0.4900 - val_acc: 0.8786\n",
      "Epoch 13/20\n",
      "25000/25000 [==============================] - 4s 175us/step - loss: 0.4700 - acc: 0.8896 - val_loss: 0.4902 - val_acc: 0.8794\n",
      "Epoch 14/20\n",
      "25000/25000 [==============================] - 4s 175us/step - loss: 0.4641 - acc: 0.8920 - val_loss: 0.4916 - val_acc: 0.8772\n",
      "Epoch 15/20\n",
      "25000/25000 [==============================] - 4s 174us/step - loss: 0.4601 - acc: 0.8925 - val_loss: 0.4860 - val_acc: 0.8798\n",
      "Epoch 16/20\n",
      "25000/25000 [==============================] - 4s 175us/step - loss: 0.4560 - acc: 0.8942 - val_loss: 0.4910 - val_acc: 0.8768\n",
      "Epoch 17/20\n",
      "25000/25000 [==============================] - 4s 175us/step - loss: 0.4525 - acc: 0.8965 - val_loss: 0.5465 - val_acc: 0.8521\n",
      "Epoch 18/20\n",
      "25000/25000 [==============================] - 4s 175us/step - loss: 0.4488 - acc: 0.8968 - val_loss: 0.4777 - val_acc: 0.8799\n",
      "Epoch 19/20\n",
      "25000/25000 [==============================] - 4s 176us/step - loss: 0.4447 - acc: 0.8984 - val_loss: 0.4846 - val_acc: 0.8788\n",
      "Epoch 20/20\n",
      "25000/25000 [==============================] - 4s 175us/step - loss: 0.4431 - acc: 0.8990 - val_loss: 0.5195 - val_acc: 0.8621\n"
     ]
    }
   ],
   "source": [
    "l1_model = original_model_l1.fit(x_train,\n",
    "                                 y_train,\n",
    "                                 epochs=20,\n",
    "                                 batch_size=512,\n",
    "                                 validation_data=(x_test, y_test))"
   ]
  },
  {
   "cell_type": "code",
   "execution_count": 16,
   "metadata": {},
   "outputs": [
    {
     "name": "stdout",
     "output_type": "stream",
     "text": [
      "Train on 25000 samples, validate on 25000 samples\n",
      "Epoch 1/20\n",
      "25000/25000 [==============================] - 5s 186us/step - loss: 0.4966 - acc: 0.8194 - val_loss: 0.3871 - val_acc: 0.8792\n",
      "Epoch 2/20\n",
      "25000/25000 [==============================] - 4s 179us/step - loss: 0.3213 - acc: 0.9042 - val_loss: 0.3504 - val_acc: 0.8811\n",
      "Epoch 3/20\n",
      "25000/25000 [==============================] - 4s 175us/step - loss: 0.2776 - acc: 0.9177 - val_loss: 0.3409 - val_acc: 0.8831\n",
      "Epoch 4/20\n",
      "25000/25000 [==============================] - 4s 174us/step - loss: 0.2558 - acc: 0.9260 - val_loss: 0.3370 - val_acc: 0.8858\n",
      "Epoch 5/20\n",
      "25000/25000 [==============================] - 4s 174us/step - loss: 0.2415 - acc: 0.9318 - val_loss: 0.3610 - val_acc: 0.8752\n",
      "Epoch 6/20\n",
      "25000/25000 [==============================] - 4s 174us/step - loss: 0.2326 - acc: 0.9363 - val_loss: 0.3711 - val_acc: 0.8737\n",
      "Epoch 7/20\n",
      "25000/25000 [==============================] - 4s 174us/step - loss: 0.2276 - acc: 0.9373 - val_loss: 0.3518 - val_acc: 0.8817\n",
      "Epoch 8/20\n",
      "25000/25000 [==============================] - 4s 174us/step - loss: 0.2176 - acc: 0.9433 - val_loss: 0.3763 - val_acc: 0.8730\n",
      "Epoch 9/20\n",
      "25000/25000 [==============================] - 4s 174us/step - loss: 0.2167 - acc: 0.9404 - val_loss: 0.3645 - val_acc: 0.8790\n",
      "Epoch 10/20\n",
      "25000/25000 [==============================] - 4s 176us/step - loss: 0.2151 - acc: 0.9432 - val_loss: 0.3765 - val_acc: 0.8756\n",
      "Epoch 11/20\n",
      "25000/25000 [==============================] - 4s 174us/step - loss: 0.2098 - acc: 0.9442 - val_loss: 0.4220 - val_acc: 0.8593\n",
      "Epoch 12/20\n",
      "25000/25000 [==============================] - 4s 177us/step - loss: 0.2072 - acc: 0.9456 - val_loss: 0.3827 - val_acc: 0.8742\n",
      "Epoch 13/20\n",
      "25000/25000 [==============================] - 4s 178us/step - loss: 0.2069 - acc: 0.9442 - val_loss: 0.4499 - val_acc: 0.8524\n",
      "Epoch 14/20\n",
      "25000/25000 [==============================] - 4s 173us/step - loss: 0.1994 - acc: 0.9486 - val_loss: 0.4281 - val_acc: 0.8601\n",
      "Epoch 15/20\n",
      "25000/25000 [==============================] - 4s 174us/step - loss: 0.2018 - acc: 0.9471 - val_loss: 0.3973 - val_acc: 0.8706\n",
      "Epoch 16/20\n",
      "25000/25000 [==============================] - 4s 177us/step - loss: 0.1975 - acc: 0.9479 - val_loss: 0.4021 - val_acc: 0.8690\n",
      "Epoch 17/20\n",
      "25000/25000 [==============================] - 4s 177us/step - loss: 0.1927 - acc: 0.9520 - val_loss: 0.4032 - val_acc: 0.8699\n",
      "Epoch 18/20\n",
      "25000/25000 [==============================] - 4s 176us/step - loss: 0.1955 - acc: 0.9482 - val_loss: 0.4114 - val_acc: 0.8690\n",
      "Epoch 19/20\n",
      "25000/25000 [==============================] - 4s 178us/step - loss: 0.1951 - acc: 0.9476 - val_loss: 0.4371 - val_acc: 0.8606\n",
      "Epoch 20/20\n",
      "25000/25000 [==============================] - 4s 175us/step - loss: 0.1889 - acc: 0.9520 - val_loss: 0.4804 - val_acc: 0.8466\n"
     ]
    }
   ],
   "source": [
    "l2_model = original_model_l2.fit(x_train, \n",
    "                                 y_train,\n",
    "                                 epochs=20,\n",
    "                                 batch_size=512,\n",
    "                                 validation_data=(x_test, y_test))"
   ]
  },
  {
   "cell_type": "code",
   "execution_count": 17,
   "metadata": {},
   "outputs": [
    {
     "name": "stdout",
     "output_type": "stream",
     "text": [
      "Train on 25000 samples, validate on 25000 samples\n",
      "Epoch 1/20\n",
      "25000/25000 [==============================] - 5s 187us/step - loss: 0.9380 - acc: 0.7790 - val_loss: 0.7300 - val_acc: 0.7773\n",
      "Epoch 2/20\n",
      "25000/25000 [==============================] - 4s 175us/step - loss: 0.6398 - acc: 0.8506 - val_loss: 0.6411 - val_acc: 0.8304\n",
      "Epoch 3/20\n",
      "25000/25000 [==============================] - 4s 177us/step - loss: 0.5980 - acc: 0.8555 - val_loss: 0.5912 - val_acc: 0.8558\n",
      "Epoch 4/20\n",
      "25000/25000 [==============================] - 5s 186us/step - loss: 0.5773 - acc: 0.8614 - val_loss: 0.5687 - val_acc: 0.8620\n",
      "Epoch 5/20\n",
      "25000/25000 [==============================] - 5s 201us/step - loss: 0.5640 - acc: 0.8618 - val_loss: 0.5692 - val_acc: 0.8582\n",
      "Epoch 6/20\n",
      "25000/25000 [==============================] - 5s 198us/step - loss: 0.5494 - acc: 0.8658 - val_loss: 0.5482 - val_acc: 0.8654\n",
      "Epoch 7/20\n",
      "25000/25000 [==============================] - 5s 203us/step - loss: 0.5359 - acc: 0.8690 - val_loss: 0.5641 - val_acc: 0.8538\n",
      "Epoch 8/20\n",
      "25000/25000 [==============================] - 4s 178us/step - loss: 0.5328 - acc: 0.8702 - val_loss: 0.5298 - val_acc: 0.8710\n",
      "Epoch 9/20\n",
      "25000/25000 [==============================] - 5s 182us/step - loss: 0.5233 - acc: 0.8720 - val_loss: 0.5461 - val_acc: 0.8612\n",
      "Epoch 10/20\n",
      "25000/25000 [==============================] - 5s 183us/step - loss: 0.5150 - acc: 0.8776 - val_loss: 0.5143 - val_acc: 0.8734\n",
      "Epoch 11/20\n",
      "25000/25000 [==============================] - 5s 184us/step - loss: 0.5079 - acc: 0.8770 - val_loss: 0.5377 - val_acc: 0.8604\n",
      "Epoch 12/20\n",
      "25000/25000 [==============================] - 5s 184us/step - loss: 0.5029 - acc: 0.8802 - val_loss: 0.5081 - val_acc: 0.8746\n",
      "Epoch 13/20\n",
      "25000/25000 [==============================] - 5s 193us/step - loss: 0.4995 - acc: 0.8783 - val_loss: 0.5221 - val_acc: 0.8667\n",
      "Epoch 14/20\n",
      "25000/25000 [==============================] - 5s 185us/step - loss: 0.4883 - acc: 0.8836 - val_loss: 0.5100 - val_acc: 0.8705\n",
      "Epoch 15/20\n",
      "25000/25000 [==============================] - 5s 185us/step - loss: 0.4820 - acc: 0.8859 - val_loss: 0.4973 - val_acc: 0.8773\n",
      "Epoch 16/20\n",
      "25000/25000 [==============================] - 5s 189us/step - loss: 0.4819 - acc: 0.8862 - val_loss: 0.5037 - val_acc: 0.8744\n",
      "Epoch 17/20\n",
      "25000/25000 [==============================] - 5s 188us/step - loss: 0.4737 - acc: 0.8888 - val_loss: 0.4917 - val_acc: 0.8775\n",
      "Epoch 18/20\n",
      "25000/25000 [==============================] - 5s 188us/step - loss: 0.4708 - acc: 0.8886 - val_loss: 0.5082 - val_acc: 0.8694\n",
      "Epoch 19/20\n",
      "25000/25000 [==============================] - 5s 187us/step - loss: 0.4682 - acc: 0.8908 - val_loss: 0.5156 - val_acc: 0.8649\n",
      "Epoch 20/20\n",
      "25000/25000 [==============================] - 5s 186us/step - loss: 0.4638 - acc: 0.8918 - val_loss: 0.5100 - val_acc: 0.8670\n"
     ]
    }
   ],
   "source": [
    "l1_l2_model = original_model_l1_l2.fit(x_train, \n",
    "                                       y_train, \n",
    "                                       epochs=20, \n",
    "                                       batch_size=512, \n",
    "                                       validation_data=(x_test, y_test))"
   ]
  },
  {
   "cell_type": "code",
   "execution_count": 18,
   "metadata": {},
   "outputs": [
    {
     "data": {
      "image/png": "[encoded data removed]",
      "text/plain": [
       "<Figure size 432x288 with 1 Axes>"
      ]
     },
     "metadata": {},
     "output_type": "display_data"
    }
   ],
   "source": [
    "l1_model_train_loss = l1_model.history['loss']\n",
    "l2_model_train_loss = l2_model.history['loss']\n",
    "l1_l2_model_train_lost = l1_l2_model.history['loss']\n",
    "\n",
    "plt.plot(epochs, original_train_loss, 'b', label='Original model')\n",
    "plt.plot(epochs, l1_model_train_loss, 'r', label='L1 model')\n",
    "plt.plot(epochs, l2_model_train_loss, 'g', label='L2 model')\n",
    "plt.plot(epochs, l1_l2_model_train_lost, 'm', label='L1/L2 model')\n",
    "\n",
    "plt.xlabel('Epochs')\n",
    "plt.ylabel('Training loss')\n",
    "plt.legend()\n",
    "plt.grid()\n",
    "\n",
    "plt.show()"
   ]
  },
  {
   "cell_type": "code",
   "execution_count": 20,
   "metadata": {},
   "outputs": [
    {
     "data": {
      "image/png": "[encoded data removed]",
      "text/plain": [
       "<Figure size 432x288 with 1 Axes>"
      ]
     },
     "metadata": {},
     "output_type": "display_data"
    }
   ],
   "source": [
    "l1_model_val_loss = l1_model.history['val_loss']\n",
    "l2_model_val_loss = l2_model.history['val_loss']\n",
    "l1_l2_model_val_lost = l1_l2_model.history['val_loss']\n",
    "\n",
    "plt.plot(epochs, original_val_loss, 'b', label='Original model')\n",
    "plt.plot(epochs, l1_model_val_loss, 'r', label='L1 model')\n",
    "plt.plot(epochs, l2_model_val_loss, 'g', label='L2 model')\n",
    "plt.plot(epochs, l1_l2_model_val_lost, 'm', label='L1/L2 model')\n",
    "\n",
    "plt.xlabel('Epochs')\n",
    "plt.ylabel('Validation loss')\n",
    "plt.legend()\n",
    "plt.grid()\n",
    "\n",
    "\n",
    "plt.show()"
   ]
  },
  {
   "cell_type": "code",
   "execution_count": 21,
   "metadata": {},
   "outputs": [
    {
     "name": "stdout",
     "output_type": "stream",
     "text": [
      "_________________________________________________________________\n",
      "Layer (type)                 Output Shape              Param #   \n",
      "=================================================================\n",
      "dense_19 (Dense)             (None, 16)                160016    \n",
      "_________________________________________________________________\n",
      "dropout_1 (Dropout)          (None, 16)                0         \n",
      "_________________________________________________________________\n",
      "dense_20 (Dense)             (None, 16)                272       \n",
      "_________________________________________________________________\n",
      "dropout_2 (Dropout)          (None, 16)                0         \n",
      "_________________________________________________________________\n",
      "dense_21 (Dense)             (None, 1)                 17        \n",
      "=================================================================\n",
      "Total params: 160,305\n",
      "Trainable params: 160,305\n",
      "Non-trainable params: 0\n",
      "_________________________________________________________________\n"
     ]
    }
   ],
   "source": [
    "dropout_model = models.Sequential()\n",
    "dropout_model.add(layers.Dense(16, activation='relu', input_shape=(10000,)))\n",
    "dropout_model.add(layers.Dropout(0.5))\n",
    "dropout_model.add(layers.Dense(16, activation='relu'))\n",
    "dropout_model.add(layers.Dropout(0.5))\n",
    "dropout_model.add(layers.Dense(1, activation='sigmoid'))\n",
    "dropout_model.summary()\n",
    "\n",
    "dropout_model.compile(optimizer='rmsprop',\n",
    "                      loss='binary_crossentropy',\n",
    "                      metrics=['acc'])"
   ]
  },
  {
   "cell_type": "code",
   "execution_count": 22,
   "metadata": {},
   "outputs": [
    {
     "name": "stdout",
     "output_type": "stream",
     "text": [
      "Train on 25000 samples, validate on 25000 samples\n",
      "Epoch 1/20\n",
      "25000/25000 [==============================] - 5s 201us/step - loss: 0.5963 - acc: 0.6720 - val_loss: 0.4509 - val_acc: 0.8563\n",
      "Epoch 2/20\n",
      "25000/25000 [==============================] - 4s 177us/step - loss: 0.4414 - acc: 0.8197 - val_loss: 0.3414 - val_acc: 0.8836\n",
      "Epoch 3/20\n",
      "25000/25000 [==============================] - 5s 182us/step - loss: 0.3557 - acc: 0.8696 - val_loss: 0.2940 - val_acc: 0.8886\n",
      "Epoch 4/20\n",
      "25000/25000 [==============================] - 4s 179us/step - loss: 0.2968 - acc: 0.9008 - val_loss: 0.2823 - val_acc: 0.8896\n",
      "Epoch 5/20\n",
      "25000/25000 [==============================] - 5s 183us/step - loss: 0.2575 - acc: 0.9134 - val_loss: 0.2827 - val_acc: 0.8896\n",
      "Epoch 6/20\n",
      "25000/25000 [==============================] - 5s 202us/step - loss: 0.2298 - acc: 0.9246 - val_loss: 0.2863 - val_acc: 0.8879\n",
      "Epoch 7/20\n",
      "25000/25000 [==============================] - 4s 175us/step - loss: 0.2074 - acc: 0.9341 - val_loss: 0.3184 - val_acc: 0.8852\n",
      "Epoch 8/20\n",
      "25000/25000 [==============================] - 4s 176us/step - loss: 0.1865 - acc: 0.9402 - val_loss: 0.3234 - val_acc: 0.8853\n",
      "Epoch 9/20\n",
      "25000/25000 [==============================] - 4s 177us/step - loss: 0.1707 - acc: 0.9458 - val_loss: 0.3448 - val_acc: 0.8830\n",
      "Epoch 10/20\n",
      "25000/25000 [==============================] - 4s 177us/step - loss: 0.1571 - acc: 0.9505 - val_loss: 0.3783 - val_acc: 0.8831\n",
      "Epoch 11/20\n",
      "25000/25000 [==============================] - 4s 177us/step - loss: 0.1479 - acc: 0.9538 - val_loss: 0.3823 - val_acc: 0.8810\n",
      "Epoch 12/20\n",
      "25000/25000 [==============================] - 4s 178us/step - loss: 0.1394 - acc: 0.9564 - val_loss: 0.4180 - val_acc: 0.8813\n",
      "Epoch 13/20\n",
      "25000/25000 [==============================] - 5s 180us/step - loss: 0.1348 - acc: 0.9578 - val_loss: 0.4437 - val_acc: 0.8778\n",
      "Epoch 14/20\n",
      "25000/25000 [==============================] - 4s 177us/step - loss: 0.1209 - acc: 0.9628 - val_loss: 0.4697 - val_acc: 0.8800\n",
      "Epoch 15/20\n",
      "25000/25000 [==============================] - 4s 179us/step - loss: 0.1239 - acc: 0.9619 - val_loss: 0.4898 - val_acc: 0.8774\n",
      "Epoch 16/20\n",
      "25000/25000 [==============================] - 4s 178us/step - loss: 0.1164 - acc: 0.9654 - val_loss: 0.5106 - val_acc: 0.8778\n",
      "Epoch 17/20\n",
      "25000/25000 [==============================] - 4s 177us/step - loss: 0.1152 - acc: 0.9654 - val_loss: 0.4856 - val_acc: 0.8714\n",
      "Epoch 18/20\n",
      "25000/25000 [==============================] - 4s 178us/step - loss: 0.1098 - acc: 0.9680 - val_loss: 0.5342 - val_acc: 0.8743\n",
      "Epoch 19/20\n",
      "25000/25000 [==============================] - 5s 181us/step - loss: 0.1031 - acc: 0.9686 - val_loss: 0.5763 - val_acc: 0.8750\n",
      "Epoch 20/20\n",
      "25000/25000 [==============================] - 5s 183us/step - loss: 0.1040 - acc: 0.9685 - val_loss: 0.5902 - val_acc: 0.8755\n"
     ]
    }
   ],
   "source": [
    "dropout_model_hist = dropout_model.fit(x_train,\n",
    "                                       y_train,\n",
    "                                       epochs=20,\n",
    "                                       batch_size=512,\n",
    "                                       validation_data=(x_test, y_test))"
   ]
  },
  {
   "cell_type": "code",
   "execution_count": 23,
   "metadata": {},
   "outputs": [
    {
     "data": {
      "image/png": "[encoded data removed]",
      "text/plain": [
       "<Figure size 432x288 with 1 Axes>"
      ]
     },
     "metadata": {},
     "output_type": "display_data"
    }
   ],
   "source": [
    "dropout_model_train_loss = dropout_model_hist.history['loss']\n",
    "\n",
    "plt.plot(epochs, original_train_loss, 'b', label='Original model')\n",
    "plt.plot(epochs, dropout_model_train_loss, 'r', label='Dropout model')\n",
    "plt.xlabel('Epochs')\n",
    "plt.ylabel('Training loss')\n",
    "plt.legend()\n",
    "plt.grid()\n",
    "\n",
    "plt.show()"
   ]
  },
  {
   "cell_type": "code",
   "execution_count": 24,
   "metadata": {},
   "outputs": [
    {
     "data": {
      "image/png": "[encoded data removed]",
      "text/plain": [
       "<Figure size 432x288 with 1 Axes>"
      ]
     },
     "metadata": {},
     "output_type": "display_data"
    }
   ],
   "source": [
    "dropout_model_val_loss = dropout_model_hist.history['val_loss']\n",
    "\n",
    "plt.plot(epochs, original_val_loss, 'b', label='Original model')\n",
    "plt.plot(epochs, dropout_model_val_loss, 'r', label='Dropout model')\n",
    "plt.xlabel('Epochs')\n",
    "plt.ylabel('Validation loss')\n",
    "plt.legend()\n",
    "plt.grid()\n",
    "\n",
    "plt.show()"
   ]
  }
 ],
 "metadata": {
  "kernelspec": {
   "display_name": "Python 3",
   "language": "python",
   "name": "python3"
  },
  "language_info": {
   "codemirror_mode": {
    "name": "ipython",
    "version": 3
   },
   "file_extension": ".py",
   "mimetype": "text/x-python",
   "name": "python",
   "nbconvert_exporter": "python",
   "pygments_lexer": "ipython3",
   "version": "3.6.5"
  }
 },
 "nbformat": 4,
 "nbformat_minor": 2
}
