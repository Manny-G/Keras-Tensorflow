{
 "cells": [
  {
   "cell_type": "markdown",
   "metadata": {},
   "source": [
    "<a id='Title-Intermediate-ConvNet'></a>\n",
    "<h1 style=\"color:SlateGray;\">Intermdiate ConvNet</h1>\n",
    "\n",
    "**Input dataset**\n",
    "\n",
    "Kaggle Cats and Dogs:\n",
    "\n",
    "**Output classification**\n",
    "\n",
    "\n",
    "\n",
    "<h2 style=\"color:SlateGray;\">Background</h2>\n",
    "\n",
    "**Layers**\n",
    "\n",
    "[*Dense*](1_Image_Classification.ipynb#Layers-Dense)\n",
    "\n",
    "[*Conv2D*](6_Basic_ConvNet.ipynb#Layers-Conv2D)\n",
    "\n",
    "[*MaxPooling2D*](6_Basic_ConvNet.ipynb#Layers-MaxPooling2D)\n",
    "\n",
    "[*Flatten*](6_Basic_ConvNet.ipynb#Layers-Flatten)\n",
    "\n",
    "**Activations**\n",
    "\n",
    "[*relu*](1_Image_Classification.ipynb#Activations-relu)\n",
    "\n",
    "[*sigmoid*](2_Binary_Classification.ipynb#Activations-sigmoid)\n",
    "\t\t\n",
    "**Optimizers**\n",
    "\n",
    "[*rmsprop*](1_Image_Classification.ipynb#Optimizers-rmsprop)\n",
    "\t\t\n",
    "**Loss functions**\n",
    "\n",
    "[*binary_crossentropy*](2_Binary_Classification.ipynb#Loss-functions-binary_crossentropy)\n",
    "\n",
    "<h2 style=\"color:SlateGray;\">Overview</h2>\n",
    "\n",
    "Explore built-in image prepocessing classes.\n"
   ]
  },
  {
   "cell_type": "code",
   "execution_count": 1,
   "metadata": {},
   "outputs": [
    {
     "name": "stderr",
     "output_type": "stream",
     "text": [
      "Using TensorFlow backend.\n"
     ]
    },
    {
     "data": {
      "text/plain": [
       "'2.2.2'"
      ]
     },
     "execution_count": 1,
     "metadata": {},
     "output_type": "execute_result"
    }
   ],
   "source": [
    "import keras\n",
    "keras.__version__"
   ]
  },
  {
   "cell_type": "code",
   "execution_count": 3,
   "metadata": {},
   "outputs": [],
   "source": [
    "import os, shutil\n",
    "\n",
    "original_dataset_dir = r'./kaggle_original_data'\n",
    "\n",
    "base_dir = r'./cats_and_dogs_small'\n",
    "if not os.path.isdir(base_dir):\n",
    "    os.mkdir(base_dir)\n",
    "\n",
    "train_dir = os.path.join(base_dir, 'train')\n",
    "if not os.path.isdir(train_dir):\n",
    "    os.mkdir(train_dir)\n",
    "\n",
    "validation_dir = os.path.join(base_dir, 'validation')\n",
    "if not os.path.isdir(validation_dir):\n",
    "    os.mkdir(validation_dir)\n",
    "    \n",
    "test_dir = os.path.join(base_dir, 'test')\n",
    "if not os.path.isdir(test_dir):\n",
    "    os.mkdir(test_dir)\n",
    "\n",
    "train_cats_dir = os.path.join(train_dir, 'cats')\n",
    "if not os.path.isdir(train_cats_dir):\n",
    "    os.mkdir(train_cats_dir)\n",
    "\n",
    "train_dogs_dir = os.path.join(train_dir, 'dogs')\n",
    "if not os.path.isdir(train_dogs_dir):\n",
    "    os.mkdir(train_dogs_dir)\n",
    "\n",
    "validation_cats_dir = os.path.join(validation_dir, 'cats')\n",
    "if not os.path.isdir(validation_cats_dir):\n",
    "    os.mkdir(validation_cats_dir)\n",
    "\n",
    "validation_dogs_dir = os.path.join(validation_dir, 'dogs')\n",
    "if not os.path.isdir(validation_dogs_dir):\n",
    "    os.mkdir(validation_dogs_dir)\n",
    "\n",
    "test_cats_dir = os.path.join(test_dir, 'cats')\n",
    "if not os.path.isdir(test_cats_dir):\n",
    "    os.mkdir(test_cats_dir)\n",
    "\n",
    "test_dogs_dir = os.path.join(test_dir, 'dogs')\n",
    "if not os.path.isdir(test_dogs_dir):\n",
    "    os.mkdir(test_dogs_dir)\n",
    "\n",
    "fnames = ['cat.{}.jpg'.format(i) for i in range(1000)]\n",
    "for fname in fnames:\n",
    "    src = os.path.join(original_dataset_dir, fname)\n",
    "    dst = os.path.join(train_cats_dir, fname)\n",
    "    shutil.copyfile(src, dst)\n",
    "\n",
    "fnames = ['cat.{}.jpg'.format(i) for i in range(1000, 1500)]\n",
    "for fname in fnames:\n",
    "    src = os.path.join(original_dataset_dir, fname)\n",
    "    dst = os.path.join(validation_cats_dir, fname)\n",
    "    shutil.copyfile(src, dst)\n",
    "    \n",
    "fnames = ['cat.{}.jpg'.format(i) for i in range(1500, 2000)]\n",
    "for fname in fnames:\n",
    "    src = os.path.join(original_dataset_dir, fname)\n",
    "    dst = os.path.join(test_cats_dir, fname)\n",
    "    shutil.copyfile(src, dst)\n",
    "    \n",
    "fnames = ['dog.{}.jpg'.format(i) for i in range(1000)]\n",
    "for fname in fnames:\n",
    "    src = os.path.join(original_dataset_dir, fname)\n",
    "    dst = os.path.join(train_dogs_dir, fname)\n",
    "    shutil.copyfile(src, dst)\n",
    "    \n",
    "fnames = ['dog.{}.jpg'.format(i) for i in range(1000, 1500)]\n",
    "for fname in fnames:\n",
    "    src = os.path.join(original_dataset_dir, fname)\n",
    "    dst = os.path.join(validation_dogs_dir, fname)\n",
    "    shutil.copyfile(src, dst)\n",
    "    \n",
    "fnames = ['dog.{}.jpg'.format(i) for i in range(1500, 2000)]\n",
    "for fname in fnames:\n",
    "    src = os.path.join(original_dataset_dir, fname)\n",
    "    dst = os.path.join(test_dogs_dir, fname)\n",
    "    shutil.copyfile(src, dst)"
   ]
  },
  {
   "cell_type": "code",
   "execution_count": 4,
   "metadata": {},
   "outputs": [
    {
     "name": "stdout",
     "output_type": "stream",
     "text": [
      "Found 2000 images belonging to 2 classes.\n",
      "Found 1000 images belonging to 2 classes.\n"
     ]
    }
   ],
   "source": [
    "from keras.preprocessing.image import ImageDataGenerator\n",
    "\n",
    "train_datagen = ImageDataGenerator(rescale=1./255)\n",
    "test_datagen = ImageDataGenerator(rescale=1./255)\n",
    "\n",
    "train_generator = train_datagen.flow_from_directory(train_dir,\n",
    "                                                  target_size=(150, 150),\n",
    "                                                  batch_size=20,\n",
    "                                                  class_mode='binary')\n",
    "\n",
    "validation_generator = test_datagen.flow_from_directory(validation_dir,\n",
    "                                                       target_size=(150, 150),\n",
    "                                                       batch_size=20,\n",
    "                                                       class_mode='binary')"
   ]
  },
  {
   "cell_type": "code",
   "execution_count": 5,
   "metadata": {},
   "outputs": [
    {
     "name": "stdout",
     "output_type": "stream",
     "text": [
      "_________________________________________________________________\n",
      "Layer (type)                 Output Shape              Param #   \n",
      "=================================================================\n",
      "conv2d_1 (Conv2D)            (None, 148, 148, 32)      896       \n",
      "_________________________________________________________________\n",
      "max_pooling2d_1 (MaxPooling2 (None, 74, 74, 32)        0         \n",
      "_________________________________________________________________\n",
      "conv2d_2 (Conv2D)            (None, 72, 72, 64)        18496     \n",
      "_________________________________________________________________\n",
      "max_pooling2d_2 (MaxPooling2 (None, 36, 36, 64)        0         \n",
      "_________________________________________________________________\n",
      "conv2d_3 (Conv2D)            (None, 34, 34, 128)       73856     \n",
      "_________________________________________________________________\n",
      "max_pooling2d_3 (MaxPooling2 (None, 17, 17, 128)       0         \n",
      "_________________________________________________________________\n",
      "flatten_1 (Flatten)          (None, 36992)             0         \n",
      "_________________________________________________________________\n",
      "dense_1 (Dense)              (None, 512)               18940416  \n",
      "_________________________________________________________________\n",
      "dense_2 (Dense)              (None, 1)                 513       \n",
      "=================================================================\n",
      "Total params: 19,034,177\n",
      "Trainable params: 19,034,177\n",
      "Non-trainable params: 0\n",
      "_________________________________________________________________\n"
     ]
    }
   ],
   "source": [
    "from keras import layers\n",
    "from keras import models\n",
    "\n",
    "model1 = models.Sequential()\n",
    "model1.add(layers.Conv2D(32, (3, 3), activation='relu', input_shape=(150, 150, 3)))\n",
    "model1.add(layers.MaxPooling2D((2, 2)))\n",
    "model1.add(layers.Conv2D(64, (3, 3), activation='relu'))\n",
    "model1.add(layers.MaxPooling2D((2, 2)))\n",
    "model1.add(layers.Conv2D(128, (3, 3), activation='relu'))\n",
    "model1.add(layers.MaxPooling2D((2, 2)))\n",
    "model1.add(layers.Flatten())\n",
    "model1.add(layers.Dense(512, activation='relu'))\n",
    "model1.add(layers.Dense(1, activation='sigmoid'))\n",
    "model1.summary()"
   ]
  },
  {
   "cell_type": "code",
   "execution_count": 11,
   "metadata": {},
   "outputs": [
    {
     "name": "stdout",
     "output_type": "stream",
     "text": [
      "_________________________________________________________________\n",
      "Layer (type)                 Output Shape              Param #   \n",
      "=================================================================\n",
      "conv2d_1 (Conv2D)            (None, 148, 148, 32)      896       \n",
      "_________________________________________________________________\n",
      "max_pooling2d_1 (MaxPooling2 (None, 74, 74, 32)        0         \n",
      "_________________________________________________________________\n",
      "conv2d_2 (Conv2D)            (None, 72, 72, 64)        18496     \n",
      "_________________________________________________________________\n",
      "max_pooling2d_2 (MaxPooling2 (None, 36, 36, 64)        0         \n",
      "_________________________________________________________________\n",
      "conv2d_3 (Conv2D)            (None, 34, 34, 128)       73856     \n",
      "_________________________________________________________________\n",
      "max_pooling2d_3 (MaxPooling2 (None, 17, 17, 128)       0         \n",
      "_________________________________________________________________\n",
      "flatten_1 (Flatten)          (None, 36992)             0         \n",
      "_________________________________________________________________\n",
      "dense_1 (Dense)              (None, 512)               18940416  \n",
      "_________________________________________________________________\n",
      "dense_2 (Dense)              (None, 1)                 513       \n",
      "=================================================================\n",
      "Total params: 19,034,177\n",
      "Trainable params: 19,034,177\n",
      "Non-trainable params: 0\n",
      "_________________________________________________________________\n"
     ]
    }
   ],
   "source": [
    "from keras import optimizers\n",
    "\n",
    "model1.compile(optimizer=optimizers.RMSprop(lr=1e-4),\n",
    "              loss='binary_crossentropy',\n",
    "              metrics=['acc'])\n",
    "\n",
    "history1 = model1.fit_generator(train_generator,\n",
    "                              steps_per_epoch=100,\n",
    "                              epochs=30,\n",
    "                              validation_data=(validation_generator),\n",
    "                              validation_steps=50)\n",
    "\n",
    "model1.save('cats_and_dogs_small_1.h5')"
   ]
  },
  {
   "cell_type": "code",
   "execution_count": 12,
   "metadata": {},
   "outputs": [],
   "source": [
    "import matplotlib.pyplot as plt\n",
    "\n",
    "acc = history1.history['acc']\n",
    "val_acc = history1.history['val_acc']\n",
    "loss = history1.history['loss']\n",
    "val_loss = history1.history['val_loss']\n",
    "\n",
    "epochs = range(len(acc))\n",
    "\n",
    "plt.plot(epochs, acc, 'b', label='Training accuracy')\n",
    "plt.plot(epochs, val_acc, 'r', label='Validation accuracy')\n",
    "plt.xlabel('Epochs')\n",
    "plt.ylabel('Accuracy')\n",
    "plt.legend()\n",
    "plt.grid()\n",
    "\n",
    "plt.figure()\n",
    "\n",
    "plt.plot(epochs, loss, 'b', label='Training loss')\n",
    "plt.plot(epochs, val_loss, 'r', label='Validation loss')\n",
    "plt.xlabel('Epochs')\n",
    "plt.title('Loss')\n",
    "plt.legend()\n",
    "plt.grid()\n",
    "\n",
    "plt.show()"
   ]
  },
  {
   "cell_type": "code",
   "execution_count": 13,
   "metadata": {},
   "outputs": [
    {
     "name": "stdout",
     "output_type": "stream",
     "text": [
      "Found 2000 images belonging to 2 classes.\n",
      "Found 1000 images belonging to 2 classes.\n"
     ]
    }
   ],
   "source": []
  },
  {
   "cell_type": "code",
   "execution_count": 14,
   "metadata": {},
   "outputs": [
    {
     "name": "stdout",
     "output_type": "stream",
     "text": [
      "data batch shape: (20, 150, 150, 3)\n",
      "labels batch shape: (20,)\n"
     ]
    }
   ],
   "source": []
  },
  {
   "cell_type": "code",
   "execution_count": 15,
   "metadata": {
    "scrolled": true
   },
   "outputs": [
    {
     "name": "stdout",
     "output_type": "stream",
     "text": [
      "Epoch 1/30\n",
      "100/100 [==============================] - 12s 117ms/step - loss: 0.6881 - acc: 0.5690 - val_loss: 0.6982 - val_acc: 0.5170\n",
      "Epoch 2/30\n",
      "100/100 [==============================] - 6s 62ms/step - loss: 0.6162 - acc: 0.6685 - val_loss: 0.6144 - val_acc: 0.6540\n",
      "Epoch 3/30\n",
      "100/100 [==============================] - 6s 63ms/step - loss: 0.5558 - acc: 0.7125 - val_loss: 0.5845 - val_acc: 0.7030\n",
      "Epoch 4/30\n",
      "100/100 [==============================] - 6s 63ms/step - loss: 0.4974 - acc: 0.7620 - val_loss: 0.5945 - val_acc: 0.6810\n",
      "Epoch 5/30\n",
      "100/100 [==============================] - 6s 62ms/step - loss: 0.4494 - acc: 0.7900 - val_loss: 0.6650 - val_acc: 0.6460\n",
      "Epoch 6/30\n",
      "100/100 [==============================] - 6s 62ms/step - loss: 0.4061 - acc: 0.8150 - val_loss: 0.5862 - val_acc: 0.7130\n",
      "Epoch 7/30\n",
      "100/100 [==============================] - 6s 62ms/step - loss: 0.3678 - acc: 0.8390 - val_loss: 0.6470 - val_acc: 0.6880\n",
      "Epoch 8/30\n",
      "100/100 [==============================] - 6s 64ms/step - loss: 0.3275 - acc: 0.8605 - val_loss: 0.5775 - val_acc: 0.7180\n",
      "Epoch 9/30\n",
      "100/100 [==============================] - 6s 63ms/step - loss: 0.2968 - acc: 0.8775 - val_loss: 0.6144 - val_acc: 0.7170\n",
      "Epoch 10/30\n",
      "100/100 [==============================] - 7s 67ms/step - loss: 0.2566 - acc: 0.8930 - val_loss: 0.6496 - val_acc: 0.7130\n",
      "Epoch 11/30\n",
      "100/100 [==============================] - 7s 67ms/step - loss: 0.2232 - acc: 0.9205 - val_loss: 0.6731 - val_acc: 0.7060\n",
      "Epoch 12/30\n",
      "100/100 [==============================] - 7s 69ms/step - loss: 0.1921 - acc: 0.9315 - val_loss: 0.6694 - val_acc: 0.7110\n",
      "Epoch 13/30\n",
      "100/100 [==============================] - 7s 68ms/step - loss: 0.1592 - acc: 0.9490 - val_loss: 0.8846 - val_acc: 0.6550\n",
      "Epoch 14/30\n",
      "100/100 [==============================] - 7s 67ms/step - loss: 0.1387 - acc: 0.9520 - val_loss: 0.7067 - val_acc: 0.7200\n",
      "Epoch 15/30\n",
      "100/100 [==============================] - 7s 67ms/step - loss: 0.1044 - acc: 0.9770 - val_loss: 0.8657 - val_acc: 0.7090\n",
      "Epoch 16/30\n",
      "100/100 [==============================] - 7s 67ms/step - loss: 0.0855 - acc: 0.9800 - val_loss: 0.9263 - val_acc: 0.7030\n",
      "Epoch 17/30\n",
      "100/100 [==============================] - 6s 64ms/step - loss: 0.0714 - acc: 0.9810 - val_loss: 0.8940 - val_acc: 0.7170\n",
      "Epoch 18/30\n",
      "100/100 [==============================] - 6s 64ms/step - loss: 0.0634 - acc: 0.9820 - val_loss: 0.9186 - val_acc: 0.7110\n",
      "Epoch 19/30\n",
      "100/100 [==============================] - 6s 64ms/step - loss: 0.0453 - acc: 0.9925 - val_loss: 0.9847 - val_acc: 0.7120\n",
      "Epoch 20/30\n",
      "100/100 [==============================] - 6s 64ms/step - loss: 0.0370 - acc: 0.9905 - val_loss: 1.0288 - val_acc: 0.7150\n",
      "Epoch 21/30\n",
      "100/100 [==============================] - 6s 64ms/step - loss: 0.0327 - acc: 0.9930 - val_loss: 1.0759 - val_acc: 0.7180\n",
      "Epoch 22/30\n",
      "100/100 [==============================] - 6s 61ms/step - loss: 0.0294 - acc: 0.9915 - val_loss: 1.6115 - val_acc: 0.6900\n",
      "Epoch 23/30\n",
      "100/100 [==============================] - 6s 63ms/step - loss: 0.0242 - acc: 0.9920 - val_loss: 1.2226 - val_acc: 0.7120\n",
      "Epoch 24/30\n",
      "100/100 [==============================] - 6s 61ms/step - loss: 0.0251 - acc: 0.9925 - val_loss: 1.1840 - val_acc: 0.7150\n",
      "Epoch 25/30\n",
      "100/100 [==============================] - 6s 64ms/step - loss: 0.0192 - acc: 0.9940 - val_loss: 1.2237 - val_acc: 0.7160\n",
      "Epoch 26/30\n",
      "100/100 [==============================] - 6s 62ms/step - loss: 0.0151 - acc: 0.9960 - val_loss: 1.2936 - val_acc: 0.7060\n",
      "Epoch 27/30\n",
      "100/100 [==============================] - 6s 64ms/step - loss: 0.0092 - acc: 0.9975 - val_loss: 1.4147 - val_acc: 0.7030\n",
      "Epoch 28/30\n",
      "100/100 [==============================] - 6s 65ms/step - loss: 0.0157 - acc: 0.9940 - val_loss: 1.3890 - val_acc: 0.7120\n",
      "Epoch 29/30\n",
      "100/100 [==============================] - 6s 64ms/step - loss: 0.0117 - acc: 0.9965 - val_loss: 1.4079 - val_acc: 0.7140\n",
      "Epoch 30/30\n",
      "100/100 [==============================] - 6s 65ms/step - loss: 0.0075 - acc: 0.9985 - val_loss: 1.5238 - val_acc: 0.7080\n"
     ]
    }
   ],
   "source": []
  },
  {
   "cell_type": "code",
   "execution_count": 16,
   "metadata": {},
   "outputs": [],
   "source": []
  },
  {
   "cell_type": "code",
   "execution_count": 17,
   "metadata": {},
   "outputs": [
    {
     "data": {
      "text/plain": [
       "<Figure size 640x480 with 1 Axes>"
      ]
     },
     "metadata": {},
     "output_type": "display_data"
    },
    {
     "data": {
      "text/plain": [
       "<Figure size 640x480 with 1 Axes>"
      ]
     },
     "metadata": {},
     "output_type": "display_data"
    }
   ],
   "source": [
    "train_datagen = ImageDataGenerator(rescale=1./255,\n",
    "                                   rotation_range=40,\n",
    "                                   width_shift_range=0.2,\n",
    "                                   height_shift_range=0.2,\n",
    "                                   shear_range=0.2,\n",
    "                                   zoom_range=0.2,\n",
    "                                   horizontal_flip=True)\n",
    "\n",
    "test_datagen = ImageDataGenerator(rescale=1./255)\n",
    "\n",
    "train_generator = train_datagen.flow_from_directory(train_dir,\n",
    "                                                    target_size=(150, 150),\n",
    "                                                    batch_size=32,\n",
    "                                                    class_mode='binary')\n",
    "\n",
    "validation_generator = test_datagen.flow_from_directory(validation_dir,\n",
    "                                                        target_size=(150, 150),\n",
    "                                                        batch_size=32,\n",
    "                                                        class_mode='binary')\n"
   ]
  },
  {
   "cell_type": "code",
   "execution_count": 20,
   "metadata": {},
   "outputs": [],
   "source": [
    "model2 = models.Sequential()\n",
    "model2.add(layers.Conv2D(32, (3, 3), activation='relu', input_shape=(150, 150, 3)))\n",
    "model2.add(layers.MaxPooling2D((2, 2)))\n",
    "model2.add(layers.Conv2D(64, (3, 3), activation='relu'))\n",
    "model2.add(layers.MaxPooling2D((2, 2)))\n",
    "model2.add(layers.Conv2D(128, (3, 3), activation='relu'))\n",
    "model2.add(layers.MaxPooling2D((2, 2)))\n",
    "model2.add(layers.Conv2D(128, (3, 3), activation='relu'))\n",
    "model2.add(layers.MaxPooling2D((2, 2)))\n",
    "model2.add(layers.Flatten())\n",
    "model2.add(layers.Dropout(0.5))\n",
    "model2.add(layers.Dense(512, activation='relu'))\n",
    "model2.add(layers.Dense(1, activation='sigmoid'))\n",
    "model1.summary()\n",
    "\n",
    "model2.compile(loss='binary_crossentropy',\n",
    "              optimizer=optimizers.RMSprop(lr=1e-4),\n",
    "              metrics=['acc'])"
   ]
  },
  {
   "cell_type": "code",
   "execution_count": 21,
   "metadata": {
    "scrolled": true
   },
   "outputs": [
    {
     "name": "stdout",
     "output_type": "stream",
     "text": [
      "Found 2000 images belonging to 2 classes.\n",
      "Found 1000 images belonging to 2 classes.\n",
      "Epoch 1/30\n",
      "100/100 [==============================] - 22s 222ms/step - loss: 0.6930 - acc: 0.5203 - val_loss: 0.7077 - val_acc: 0.5000\n",
      "Epoch 2/30\n",
      "100/100 [==============================] - 19s 193ms/step - loss: 0.6767 - acc: 0.5678 - val_loss: 0.6584 - val_acc: 0.5860\n",
      "Epoch 3/30\n",
      "100/100 [==============================] - 21s 214ms/step - loss: 0.6607 - acc: 0.6028 - val_loss: 0.6791 - val_acc: 0.5760\n",
      "Epoch 4/30\n",
      "100/100 [==============================] - 19s 186ms/step - loss: 0.6493 - acc: 0.6166 - val_loss: 0.6139 - val_acc: 0.6410\n",
      "Epoch 5/30\n",
      "100/100 [==============================] - 20s 199ms/step - loss: 0.6264 - acc: 0.6619 - val_loss: 0.8280 - val_acc: 0.5430\n",
      "Epoch 6/30\n",
      "100/100 [==============================] - 22s 218ms/step - loss: 0.6114 - acc: 0.6666 - val_loss: 0.5988 - val_acc: 0.6580\n",
      "Epoch 7/30\n",
      "100/100 [==============================] - 21s 206ms/step - loss: 0.5987 - acc: 0.6763 - val_loss: 0.5860 - val_acc: 0.6920\n",
      "Epoch 8/30\n",
      "100/100 [==============================] - 21s 206ms/step - loss: 0.5864 - acc: 0.6888 - val_loss: 0.5754 - val_acc: 0.6820\n",
      "Epoch 9/30\n",
      "100/100 [==============================] - 18s 184ms/step - loss: 0.5759 - acc: 0.6972 - val_loss: 0.5632 - val_acc: 0.7020\n",
      "Epoch 10/30\n",
      "100/100 [==============================] - 19s 188ms/step - loss: 0.5647 - acc: 0.7091 - val_loss: 0.5397 - val_acc: 0.7130\n",
      "Epoch 11/30\n",
      "100/100 [==============================] - 20s 198ms/step - loss: 0.5622 - acc: 0.7131 - val_loss: 0.5243 - val_acc: 0.7280\n",
      "Epoch 12/30\n",
      "100/100 [==============================] - 19s 185ms/step - loss: 0.5630 - acc: 0.7088 - val_loss: 0.5955 - val_acc: 0.6800\n",
      "Epoch 13/30\n",
      "100/100 [==============================] - 19s 186ms/step - loss: 0.5484 - acc: 0.7128 - val_loss: 0.5574 - val_acc: 0.6920\n",
      "Epoch 14/30\n",
      "100/100 [==============================] - 19s 187ms/step - loss: 0.5291 - acc: 0.7344 - val_loss: 0.5480 - val_acc: 0.7250\n",
      "Epoch 15/30\n",
      "100/100 [==============================] - 19s 186ms/step - loss: 0.5441 - acc: 0.7209 - val_loss: 0.5215 - val_acc: 0.7340\n",
      "Epoch 16/30\n",
      "100/100 [==============================] - 19s 186ms/step - loss: 0.5405 - acc: 0.7241 - val_loss: 0.4981 - val_acc: 0.7410\n",
      "Epoch 17/30\n",
      "100/100 [==============================] - 18s 184ms/step - loss: 0.5347 - acc: 0.7272 - val_loss: 0.5381 - val_acc: 0.7190\n",
      "Epoch 18/30\n",
      "100/100 [==============================] - 20s 197ms/step - loss: 0.5271 - acc: 0.7375 - val_loss: 0.4950 - val_acc: 0.7590\n",
      "Epoch 19/30\n",
      "100/100 [==============================] - 20s 201ms/step - loss: 0.5177 - acc: 0.7381 - val_loss: 0.5314 - val_acc: 0.7310\n",
      "Epoch 20/30\n",
      "100/100 [==============================] - 19s 187ms/step - loss: 0.5172 - acc: 0.7406 - val_loss: 0.4896 - val_acc: 0.7490\n",
      "Epoch 21/30\n",
      "100/100 [==============================] - 19s 193ms/step - loss: 0.5161 - acc: 0.7428 - val_loss: 0.4944 - val_acc: 0.7560\n",
      "Epoch 22/30\n",
      "100/100 [==============================] - 23s 231ms/step - loss: 0.5172 - acc: 0.7463 - val_loss: 0.5310 - val_acc: 0.7350\n",
      "Epoch 23/30\n",
      "100/100 [==============================] - 23s 228ms/step - loss: 0.5134 - acc: 0.7437 - val_loss: 0.4957 - val_acc: 0.7550\n",
      "Epoch 24/30\n",
      "100/100 [==============================] - 21s 210ms/step - loss: 0.4994 - acc: 0.7528 - val_loss: 0.5730 - val_acc: 0.7090\n",
      "Epoch 25/30\n",
      "100/100 [==============================] - 20s 202ms/step - loss: 0.5006 - acc: 0.7541 - val_loss: 0.4825 - val_acc: 0.7520\n",
      "Epoch 26/30\n",
      "100/100 [==============================] - 20s 199ms/step - loss: 0.4938 - acc: 0.7553 - val_loss: 0.4791 - val_acc: 0.7850\n",
      "Epoch 27/30\n",
      "100/100 [==============================] - 19s 192ms/step - loss: 0.4896 - acc: 0.7681 - val_loss: 0.4722 - val_acc: 0.7680\n",
      "Epoch 28/30\n",
      "100/100 [==============================] - 19s 194ms/step - loss: 0.4837 - acc: 0.7678 - val_loss: 0.4770 - val_acc: 0.7840\n",
      "Epoch 29/30\n",
      "100/100 [==============================] - 19s 193ms/step - loss: 0.4825 - acc: 0.7697 - val_loss: 0.4687 - val_acc: 0.7750s - loss: 0.4\n",
      "Epoch 30/30\n",
      "100/100 [==============================] - 19s 193ms/step - loss: 0.4914 - acc: 0.7644 - val_loss: 0.4935 - val_acc: 0.7570\n"
     ]
    }
   ],
   "source": [
    "history2 = model2.fit_generator(train_generator,\n",
    "                              steps_per_epoch=100,\n",
    "                              epochs=30,\n",
    "                              validation_data=validation_generator,\n",
    "                              validation_steps=50)\n",
    "\n",
    "model2.save('cats_and_dogs_small_2.h5')"
   ]
  },
  {
   "cell_type": "code",
   "execution_count": 23,
   "metadata": {
    "scrolled": true
   },
   "outputs": [
    {
     "data": {
      "image/png": "[encoded data removed]",
      "text/plain": [
       "<Figure size 432x288 with 1 Axes>"
      ]
     },
     "metadata": {},
     "output_type": "display_data"
    },
    {
     "data": {
      "image/png": "[encoded data removed]",
      "text/plain": [
       "<Figure size 432x288 with 1 Axes>"
      ]
     },
     "metadata": {},
     "output_type": "display_data"
    }
   ],
   "source": [
    "acc = history2.history['acc']\n",
    "val_acc = history2.history['val_acc']\n",
    "loss = history2.history['loss']\n",
    "val_loss = history2.history['val_loss']\n",
    "\n",
    "epochs = range(len(acc))\n",
    "\n",
    "plt.plot(epochs, acc, 'b', label='Training accuracy')\n",
    "plt.plot(epochs, val_acc, 'r', label='Validation accuracy')\n",
    "plt.xlabel('Epochs')\n",
    "plt.ylabel('Accuracy')\n",
    "plt.legend()\n",
    "plt.grid()\n",
    "\n",
    "plt.figure()\n",
    "\n",
    "plt.plot(epochs, loss, 'b', label='Training loss')\n",
    "plt.plot(epochs, val_loss, 'r', label='Validation loss')\n",
    "plt.xlabel('Epochs')\n",
    "plt.title('Loss')\n",
    "plt.legend()\n",
    "plt.grid()\n",
    "\n",
    "plt.show()"
   ]
  }
 ],
 "metadata": {
  "kernelspec": {
   "display_name": "Python 3",
   "language": "python",
   "name": "python3"
  },
  "language_info": {
   "codemirror_mode": {
    "name": "ipython",
    "version": 3
   },
   "file_extension": ".py",
   "mimetype": "text/x-python",
   "name": "python",
   "nbconvert_exporter": "python",
   "pygments_lexer": "ipython3",
   "version": "3.6.5"
  }
 },
 "nbformat": 4,
 "nbformat_minor": 2
}
