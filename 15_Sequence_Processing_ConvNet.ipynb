{
 "cells": [
  {
   "cell_type": "markdown",
   "metadata": {},
   "source": [
    "<a id='Title-Sequence-Processing-ConvNet'></a>\n",
    "<h1 style=\"color:SlateGray;\">Sequence Processing ConvNet</h1>\n",
    "\n",
    "**Input dataset**\n",
    "\n",
    "IMBD: a set of movie reviews with an adjustable limit on max word count.\n",
    "\n",
    "Max Plank Institute Weather Station Data: a set of 14 different weather quantities taken at 10-minute intervals from 2009-2016.\n",
    "\n",
    "**Output classification**\n",
    "\n",
    "Binary categorization (positive/negative) of a movie review.\n",
    "\n",
    "The weather 24 hours from the last data point seen by the network.\n",
    "\n",
    "<h2 style=\"color:SlateGray;\">Background</h2>\n",
    "\n",
    "**Layers**\n",
    "\n",
    "[*Dense*](01_Image_Classification.ipynb#Layers-Dense)\n",
    "\n",
    "[*Embedding*](11_Word_Embeddings.ipynb#Layers-Embedding)\n",
    "\n",
    "[*GRU*](13_Intermediate_Time_Series_RNN.ipynb#Layers-GRU)\n",
    "\n",
    "<a id='Layers-Conv1D'></a>\n",
    "*Conv1D*\n",
    "\n",
    "Applies convolution to a 1D tensor input.\n",
    "\n",
    "Uses a window of a specified length that slides through the indexes of the input tensor and performs a dot product on the values in the window with a weight matrix to extract features. Window can overlap, meaning values can be in multiple different windows.\n",
    "\n",
    "<a id='Layers-MaxPooling1D'></a>\n",
    "*MaxPooling1D*\n",
    "\n",
    "Downsamples a 1D tensor by retaining only its most prominent values.\n",
    "\n",
    "Filters out non-maximum values within a window on a 1D tensor input. The window is non-overlapping, meaning values cannot be in multiple windows.\n",
    "\n",
    "<a id='Layers-GlobalMaxPooling1D'></a>\n",
    "*GlobalMaxPooling1D*\n",
    "\n",
    "Used to distill the most important, highest-level feature learned by the model and classify on it.\n",
    "\n",
    "Effectively the same as [MaxPooling1D](#Layers-MaxPooling1D), except the window size is selected to be the length of the input tensor.\n",
    "\n",
    "**Activations**\n",
    "\n",
    "[*sigmoid*](02_Binary_Classification.ipynb#Activations-sigmoid)\n",
    "\t\t\n",
    "**Optimizers**\n",
    "\n",
    "[*rmsprop*](01_Image_Classification.ipynb#Optimizers-rmsprop)\n",
    "\t\t\n",
    "**Loss functions**\n",
    "\n",
    "[*binary_crossentropy*](02_Binary_Classification.ipynb#Loss-functions-binary_crossentropy)\n",
    "\n",
    "[*mae*](13_Intermediate_Time_Series_RNN.ipynb#Loss-functions-mae)\n",
    "\n",
    "<h2 style=\"color:SlateGray;\">Overview</h2>\n",
    "\n",
    "Validates the usage of 1D CNNs to perform classification and regression on sequence data.\n",
    "\n",
    "Instantiates a basic 1D CNN for NLP on 500 word sequences, followed by a slightly larger 1D CNN for predicting future temperatures based on the temperature data given for the previous ~3.8 years. The accuracy of the temperature predicting model is then improved by the inclusion of an RNN, against intuition this new model proves to be faster to train than a standalone RNN and just as accurate.\n"
   ]
  },
  {
   "cell_type": "code",
   "execution_count": 1,
   "metadata": {},
   "outputs": [
    {
     "name": "stderr",
     "output_type": "stream",
     "text": [
      "Using TensorFlow backend.\n"
     ]
    },
    {
     "data": {
      "text/plain": [
       "'2.2.2'"
      ]
     },
     "execution_count": 1,
     "metadata": {},
     "output_type": "execute_result"
    }
   ],
   "source": [
    "import keras\n",
    "keras.__version__"
   ]
  },
  {
   "cell_type": "code",
   "execution_count": 2,
   "metadata": {},
   "outputs": [
    {
     "name": "stdout",
     "output_type": "stream",
     "text": [
      "Loading data...\n",
      "25000 train sequences\n",
      "25000 test sequences\n",
      "Pad sequences (samples x time)\n",
      "x_train shape: (25000, 500)\n",
      "x_test shape: (25000, 500)\n"
     ]
    }
   ],
   "source": [
    "from keras.datasets import imdb\n",
    "from keras.preprocessing import sequence\n",
    "\n",
    "max_features = 10000\n",
    "max_len = 500\n",
    "\n",
    "print('Loading data...')\n",
    "(x_train, y_train), (x_test, y_test) = imdb.load_data(num_words=max_features)\n",
    "print(len(x_train), 'train sequences')\n",
    "print(len(x_test), 'test sequences')\n",
    "\n",
    "print('Pad sequences (samples x time)')\n",
    "x_train = sequence.pad_sequences(x_train, maxlen=max_len)\n",
    "x_test = sequence.pad_sequences(x_test, maxlen=max_len)\n",
    "print('x_train shape:', x_train.shape)\n",
    "print('x_test shape:', x_test.shape)"
   ]
  },
  {
   "cell_type": "code",
   "execution_count": 3,
   "metadata": {
    "scrolled": true
   },
   "outputs": [
    {
     "name": "stdout",
     "output_type": "stream",
     "text": [
      "_________________________________________________________________\n",
      "Layer (type)                 Output Shape              Param #   \n",
      "=================================================================\n",
      "embedding_1 (Embedding)      (None, 500, 128)          1280000   \n",
      "_________________________________________________________________\n",
      "conv1d_1 (Conv1D)            (None, 494, 32)           28704     \n",
      "_________________________________________________________________\n",
      "max_pooling1d_1 (MaxPooling1 (None, 98, 32)            0         \n",
      "_________________________________________________________________\n",
      "conv1d_2 (Conv1D)            (None, 92, 32)            7200      \n",
      "_________________________________________________________________\n",
      "global_max_pooling1d_1 (Glob (None, 32)                0         \n",
      "_________________________________________________________________\n",
      "dense_1 (Dense)              (None, 1)                 33        \n",
      "=================================================================\n",
      "Total params: 1,315,937\n",
      "Trainable params: 1,315,937\n",
      "Non-trainable params: 0\n",
      "_________________________________________________________________\n"
     ]
    }
   ],
   "source": [
    "from keras.models import Sequential\n",
    "from keras import layers\n",
    "from keras.optimizers import RMSprop\n",
    "\n",
    "model = Sequential()\n",
    "model.add(layers.Embedding(max_features, 128, input_length=max_len))\n",
    "model.add(layers.Conv1D(32, 7, activation='relu'))\n",
    "model.add(layers.MaxPooling1D(5))\n",
    "model.add(layers.Conv1D(32, 7, activation='relu'))\n",
    "model.add(layers.GlobalMaxPooling1D())\n",
    "model.add(layers.Dense(1))\n",
    "\n",
    "model.summary()"
   ]
  },
  {
   "cell_type": "code",
   "execution_count": 4,
   "metadata": {
    "scrolled": true
   },
   "outputs": [
    {
     "name": "stdout",
     "output_type": "stream",
     "text": [
      "Train on 20000 samples, validate on 5000 samples\n",
      "Epoch 1/10\n",
      "20000/20000 [==============================] - 9s 437us/step - loss: 0.8337 - acc: 0.5088 - val_loss: 0.6875 - val_acc: 0.5638\n",
      "Epoch 2/10\n",
      "20000/20000 [==============================] - 2s 119us/step - loss: 0.6700 - acc: 0.6401 - val_loss: 0.6642 - val_acc: 0.6582\n",
      "Epoch 3/10\n",
      "20000/20000 [==============================] - 2s 119us/step - loss: 0.6235 - acc: 0.7548 - val_loss: 0.6077 - val_acc: 0.7432\n",
      "Epoch 4/10\n",
      "20000/20000 [==============================] - 2s 120us/step - loss: 0.5257 - acc: 0.8092 - val_loss: 0.4850 - val_acc: 0.8068\n",
      "Epoch 5/10\n",
      "20000/20000 [==============================] - 2s 120us/step - loss: 0.4089 - acc: 0.8482 - val_loss: 0.4279 - val_acc: 0.8320\n",
      "Epoch 6/10\n",
      "20000/20000 [==============================] - 2s 125us/step - loss: 0.3492 - acc: 0.8669 - val_loss: 0.4221 - val_acc: 0.8362\n",
      "Epoch 7/10\n",
      "20000/20000 [==============================] - 2s 124us/step - loss: 0.3094 - acc: 0.8645 - val_loss: 0.4446 - val_acc: 0.8190\n",
      "Epoch 8/10\n",
      "20000/20000 [==============================] - 3s 132us/step - loss: 0.2798 - acc: 0.8470 - val_loss: 0.4398 - val_acc: 0.7988\n",
      "Epoch 9/10\n",
      "20000/20000 [==============================] - 2s 122us/step - loss: 0.2542 - acc: 0.8230 - val_loss: 0.4497 - val_acc: 0.7868\n",
      "Epoch 10/10\n",
      "20000/20000 [==============================] - 2s 122us/step - loss: 0.2299 - acc: 0.8150 - val_loss: 0.4881 - val_acc: 0.7620\n"
     ]
    }
   ],
   "source": [
    "model.compile(optimizer=RMSprop(lr=1e-4),\n",
    "              loss='binary_crossentropy',\n",
    "              metrics=['acc'])\n",
    "history = model.fit(x_train, y_train,\n",
    "                    epochs=10,\n",
    "                    batch_size=128,\n",
    "                    validation_split=0.2)"
   ]
  },
  {
   "cell_type": "code",
   "execution_count": 6,
   "metadata": {},
   "outputs": [
    {
     "data": {
      "image/png": "[encoded data removed]",
      "text/plain": [
       "<Figure size 432x288 with 1 Axes>"
      ]
     },
     "metadata": {},
     "output_type": "display_data"
    },
    {
     "data": {
      "image/png": "[encoded data removed]",
      "text/plain": [
       "<Figure size 432x288 with 1 Axes>"
      ]
     },
     "metadata": {},
     "output_type": "display_data"
    }
   ],
   "source": [
    "import matplotlib.pyplot as plt\n",
    "\n",
    "acc = history.history['acc']\n",
    "val_acc = history.history['val_acc']\n",
    "loss = history.history['loss']\n",
    "val_loss = history.history['val_loss']\n",
    "\n",
    "epochs = range(len(acc))\n",
    "\n",
    "plt.plot(epochs, acc, 'b', label='Training acc')\n",
    "plt.plot(epochs, val_acc, 'r', label='Validation acc')\n",
    "plt.title('Training and validation accuracy')\n",
    "plt.legend()\n",
    "plt.grid()\n",
    "\n",
    "plt.figure()\n",
    "\n",
    "plt.plot(epochs, loss, 'b', label='Training loss')\n",
    "plt.plot(epochs, val_loss, 'r', label='Validation loss')\n",
    "plt.title('Training and validation loss')\n",
    "plt.legend()\n",
    "plt.grid()\n",
    "\n",
    "plt.show()"
   ]
  },
  {
   "cell_type": "code",
   "execution_count": 10,
   "metadata": {},
   "outputs": [
    {
     "name": "stdout",
     "output_type": "stream",
     "text": [
      "25000/25000 [==============================] - 2s 66us/step\n",
      "evaluate_generator took 1.65\n",
      "eval_loss was 0.4874480315208435\n",
      "eval_acc was 0.7542\n"
     ]
    }
   ],
   "source": [
    "import time\n",
    "ti = time.time()\n",
    "retVal = model.evaluate(x_test, y_test)\n",
    "tf = time.time()\n",
    "print(f'evaluate_generator took {round(tf - ti, 2)}')\n",
    "print(f'eval_loss was {retVal[0]}')\n",
    "print(f'eval_acc was {retVal[1]}')"
   ]
  },
  {
   "cell_type": "code",
   "execution_count": 11,
   "metadata": {},
   "outputs": [],
   "source": [
    "import os\n",
    "import numpy as np\n",
    "\n",
    "fname = 'jena_climate_2009_2016.csv'\n",
    "\n",
    "f = open(fname)\n",
    "data = f.read()\n",
    "f.close()\n",
    "\n",
    "lines = data.split('\\n')\n",
    "header = lines[0].split(',')\n",
    "lines = lines[1:]\n",
    "\n",
    "float_data = np.zeros((len(lines), len(header) - 1))\n",
    "for i, line in enumerate(lines):\n",
    "    values = [float(x) for x in line.split(',')[1:]]\n",
    "    float_data[i, :] = values\n",
    "    \n",
    "mean = float_data[:200000].mean(axis=0)\n",
    "float_data -= mean\n",
    "std = float_data[:200000].std(axis=0)\n",
    "float_data /= std"
   ]
  },
  {
   "cell_type": "code",
   "execution_count": 12,
   "metadata": {},
   "outputs": [],
   "source": [
    "def generator(data, lookback, delay, min_index, max_index,\n",
    "              shuffle=False, batch_size=128, step=6):\n",
    "    if max_index is None:\n",
    "        max_index = len(data) - delay - 1\n",
    "    i = min_index + lookback\n",
    "    while 1:\n",
    "        if shuffle:\n",
    "            rows = np.random.randint(\n",
    "                min_index + lookback, max_index, size=batch_size)\n",
    "        else:\n",
    "            if i + batch_size >= max_index:\n",
    "                i = min_index + lookback\n",
    "            rows = np.arange(i, min(i + batch_size, max_index))\n",
    "            i += len(rows)\n",
    "\n",
    "        samples = np.zeros((len(rows),\n",
    "                           lookback // step,\n",
    "                           data.shape[-1]))\n",
    "        targets = np.zeros((len(rows),))\n",
    "        for j, row in enumerate(rows):\n",
    "            indices = range(rows[j] - lookback, rows[j], step)\n",
    "            samples[j] = data[indices]\n",
    "            targets[j] = data[rows[j] + delay][1]\n",
    "        yield samples, targets"
   ]
  },
  {
   "cell_type": "code",
   "execution_count": 13,
   "metadata": {},
   "outputs": [],
   "source": [
    "lookback = 1440\n",
    "step = 6\n",
    "delay = 144\n",
    "batch_size = 128\n",
    "\n",
    "train_gen = generator(float_data,\n",
    "                      lookback=lookback,\n",
    "                      delay=delay,\n",
    "                      min_index=0,\n",
    "                      max_index=200000,\n",
    "                      shuffle=True,\n",
    "                      step=step, \n",
    "                      batch_size=batch_size)\n",
    "val_gen = generator(float_data,\n",
    "                    lookback=lookback,\n",
    "                    delay=delay,\n",
    "                    min_index=200001,\n",
    "                    max_index=300000,\n",
    "                    step=step,\n",
    "                    batch_size=batch_size)\n",
    "test_gen = generator(float_data,\n",
    "                     lookback=lookback,\n",
    "                     delay=delay,\n",
    "                     min_index=300001,\n",
    "                     max_index=None,\n",
    "                     step=step,\n",
    "                     batch_size=batch_size)\n",
    "\n",
    "val_steps = (300000 - 200001 - lookback) // batch_size\n",
    "test_steps = (len(float_data) - 300001 - lookback) // batch_size"
   ]
  },
  {
   "cell_type": "code",
   "execution_count": 14,
   "metadata": {
    "scrolled": true
   },
   "outputs": [],
   "source": [
    "from keras.models import Sequential\n",
    "from keras import layers\n",
    "from keras.optimizers import RMSprop\n",
    "\n",
    "model = Sequential()\n",
    "model.add(layers.Conv1D(32, 5, activation='relu',\n",
    "                        input_shape=(None, float_data.shape[-1])))\n",
    "model.add(layers.MaxPooling1D(3))\n",
    "model.add(layers.Conv1D(32, 5, activation='relu'))\n",
    "model.add(layers.MaxPooling1D(3))\n",
    "model.add(layers.Conv1D(32, 5, activation='relu'))\n",
    "model.add(layers.GlobalMaxPooling1D())\n",
    "model.add(layers.Dense(1))"
   ]
  },
  {
   "cell_type": "code",
   "execution_count": 15,
   "metadata": {
    "scrolled": true
   },
   "outputs": [
    {
     "name": "stdout",
     "output_type": "stream",
     "text": [
      "Epoch 1/20\n",
      "500/500 [==============================] - 13s 26ms/step - loss: 0.4212 - val_loss: 0.4431\n",
      "Epoch 2/20\n",
      "500/500 [==============================] - 13s 25ms/step - loss: 0.3658 - val_loss: 0.4384\n",
      "Epoch 3/20\n",
      "500/500 [==============================] - 13s 25ms/step - loss: 0.3393 - val_loss: 0.4613\n",
      "Epoch 4/20\n",
      "500/500 [==============================] - 13s 26ms/step - loss: 0.3225 - val_loss: 0.4646\n",
      "Epoch 5/20\n",
      "500/500 [==============================] - 12s 24ms/step - loss: 0.3084 - val_loss: 0.4615\n",
      "Epoch 6/20\n",
      "500/500 [==============================] - 12s 24ms/step - loss: 0.3008 - val_loss: 0.4876\n",
      "Epoch 7/20\n",
      "500/500 [==============================] - 12s 24ms/step - loss: 0.2921 - val_loss: 0.5187\n",
      "Epoch 8/20\n",
      "500/500 [==============================] - 12s 23ms/step - loss: 0.2867 - val_loss: 0.4767\n",
      "Epoch 9/20\n",
      "500/500 [==============================] - 12s 24ms/step - loss: 0.2793 - val_loss: 0.4645\n",
      "Epoch 10/20\n",
      "500/500 [==============================] - 12s 23ms/step - loss: 0.2746 - val_loss: 0.4903\n",
      "Epoch 11/20\n",
      "500/500 [==============================] - 12s 24ms/step - loss: 0.2719 - val_loss: 0.5058\n",
      "Epoch 12/20\n",
      "500/500 [==============================] - 12s 24ms/step - loss: 0.2673 - val_loss: 0.4897\n",
      "Epoch 13/20\n",
      "500/500 [==============================] - 13s 26ms/step - loss: 0.2612 - val_loss: 0.4716\n",
      "Epoch 14/20\n",
      "500/500 [==============================] - 13s 26ms/step - loss: 0.2583 - val_loss: 0.5131\n",
      "Epoch 15/20\n",
      "500/500 [==============================] - 12s 24ms/step - loss: 0.2569 - val_loss: 0.4826\n",
      "Epoch 16/20\n",
      "500/500 [==============================] - 12s 25ms/step - loss: 0.2535 - val_loss: 0.4926\n",
      "Epoch 17/20\n",
      "500/500 [==============================] - 12s 25ms/step - loss: 0.2503 - val_loss: 0.5012\n",
      "Epoch 18/20\n",
      "500/500 [==============================] - 13s 25ms/step - loss: 0.2478 - val_loss: 0.4720\n",
      "Epoch 19/20\n",
      "500/500 [==============================] - 13s 25ms/step - loss: 0.2448 - val_loss: 0.4850\n",
      "Epoch 20/20\n",
      "500/500 [==============================] - 13s 25ms/step - loss: 0.2449 - val_loss: 0.4862\n"
     ]
    }
   ],
   "source": [
    "model.compile(optimizer=RMSprop(), loss='mae')\n",
    "history = model.fit_generator(train_gen,\n",
    "                              steps_per_epoch=500,\n",
    "                              epochs=20,\n",
    "                              validation_data=val_gen,\n",
    "                              validation_steps=val_steps)"
   ]
  },
  {
   "cell_type": "code",
   "execution_count": 16,
   "metadata": {},
   "outputs": [
    {
     "data": {
      "image/png": "[encoded data removed]",
      "text/plain": [
       "<Figure size 432x288 with 1 Axes>"
      ]
     },
     "metadata": {},
     "output_type": "display_data"
    }
   ],
   "source": [
    "loss = history.history['loss']\n",
    "val_loss = history.history['val_loss']\n",
    "\n",
    "epochs = range(len(loss))\n",
    "\n",
    "plt.plot(epochs, loss, 'b', label='Training loss')\n",
    "plt.plot(epochs, val_loss, 'r', label='Validation loss')\n",
    "plt.title('Training and validation loss')\n",
    "plt.legend()\n",
    "plt.grid()\n",
    "\n",
    "plt.show()"
   ]
  },
  {
   "cell_type": "code",
   "execution_count": 17,
   "metadata": {},
   "outputs": [
    {
     "name": "stdout",
     "output_type": "stream",
     "text": [
      "evaluate_generator took 0.88 and had a MAE of 0.4258499326556921\n"
     ]
    }
   ],
   "source": [
    "import time\n",
    "ti = time.time()\n",
    "retVal = model.evaluate_generator(test_gen, steps=100)\n",
    "tf = time.time()\n",
    "print(f'evaluate_generator took {round(tf - ti, 2)} and had a MAE of {retVal}')"
   ]
  },
  {
   "cell_type": "code",
   "execution_count": 18,
   "metadata": {},
   "outputs": [],
   "source": [
    "step = 3\n",
    "lookback = 720\n",
    "delay = 144\n",
    "\n",
    "train_gen = generator(float_data,\n",
    "                      lookback=lookback,\n",
    "                      delay=delay,\n",
    "                      min_index=0,\n",
    "                      max_index=200000,\n",
    "                      shuffle=True,\n",
    "                      step=step)\n",
    "val_gen = generator(float_data,\n",
    "                    lookback=lookback,\n",
    "                    delay=delay,\n",
    "                    min_index=200001,\n",
    "                    max_index=300000,\n",
    "                    step=step)\n",
    "test_gen = generator(float_data,\n",
    "                     lookback=lookback,\n",
    "                     delay=delay,\n",
    "                     min_index=300001,\n",
    "                     max_index=None,\n",
    "                     step=step)\n",
    "\n",
    "val_steps = (300000 - 200001 - lookback) // 128\n",
    "test_steps = (len(float_data) - 300001 - lookback) // 128"
   ]
  },
  {
   "cell_type": "code",
   "execution_count": 19,
   "metadata": {
    "scrolled": true
   },
   "outputs": [
    {
     "name": "stdout",
     "output_type": "stream",
     "text": [
      "_________________________________________________________________\n",
      "Layer (type)                 Output Shape              Param #   \n",
      "=================================================================\n",
      "conv1d_6 (Conv1D)            (None, None, 32)          2272      \n",
      "_________________________________________________________________\n",
      "max_pooling1d_4 (MaxPooling1 (None, None, 32)          0         \n",
      "_________________________________________________________________\n",
      "conv1d_7 (Conv1D)            (None, None, 32)          5152      \n",
      "_________________________________________________________________\n",
      "gru_1 (GRU)                  (None, 32)                6240      \n",
      "_________________________________________________________________\n",
      "dense_3 (Dense)              (None, 1)                 33        \n",
      "=================================================================\n",
      "Total params: 13,697\n",
      "Trainable params: 13,697\n",
      "Non-trainable params: 0\n",
      "_________________________________________________________________\n"
     ]
    }
   ],
   "source": [
    "model = Sequential()\n",
    "model.add(layers.Conv1D(32, 5, activation='relu',\n",
    "                        input_shape=(None, float_data.shape[-1])))\n",
    "model.add(layers.MaxPooling1D(3))\n",
    "model.add(layers.Conv1D(32, 5, activation='relu'))\n",
    "model.add(layers.GRU(32, dropout=0.1, recurrent_dropout=0.5))\n",
    "model.add(layers.Dense(1))\n",
    "model.summary()"
   ]
  },
  {
   "cell_type": "code",
   "execution_count": 20,
   "metadata": {
    "scrolled": true
   },
   "outputs": [
    {
     "name": "stdout",
     "output_type": "stream",
     "text": [
      "Epoch 1/20\n",
      "500/500 [==============================] - 79s 158ms/step - loss: 0.3435 - val_loss: 0.2836\n",
      "Epoch 2/20\n",
      "500/500 [==============================] - 78s 155ms/step - loss: 0.3053 - val_loss: 0.2762\n",
      "Epoch 3/20\n",
      "500/500 [==============================] - 78s 155ms/step - loss: 0.2938 - val_loss: 0.2767\n",
      "Epoch 4/20\n",
      "500/500 [==============================] - 76s 153ms/step - loss: 0.2841 - val_loss: 0.2761\n",
      "Epoch 5/20\n",
      "500/500 [==============================] - 76s 152ms/step - loss: 0.2770 - val_loss: 0.2863\n",
      "Epoch 6/20\n",
      "500/500 [==============================] - 76s 152ms/step - loss: 0.2698 - val_loss: 0.2976\n",
      "Epoch 7/20\n",
      "500/500 [==============================] - 76s 151ms/step - loss: 0.2650 - val_loss: 0.2933\n",
      "Epoch 8/20\n",
      "500/500 [==============================] - 76s 152ms/step - loss: 0.2594 - val_loss: 0.2904\n",
      "Epoch 9/20\n",
      "500/500 [==============================] - 76s 153ms/step - loss: 0.2543 - val_loss: 0.2798\n",
      "Epoch 10/20\n",
      "500/500 [==============================] - 76s 151ms/step - loss: 0.2512 - val_loss: 0.2798\n",
      "Epoch 11/20\n",
      "500/500 [==============================] - 75s 151ms/step - loss: 0.2467 - val_loss: 0.2836\n",
      "Epoch 12/20\n",
      "500/500 [==============================] - 76s 152ms/step - loss: 0.2432 - val_loss: 0.2980\n",
      "Epoch 13/20\n",
      "500/500 [==============================] - 76s 151ms/step - loss: 0.2394 - val_loss: 0.2929\n",
      "Epoch 14/20\n",
      "500/500 [==============================] - 76s 152ms/step - loss: 0.2386 - val_loss: 0.2921\n",
      "Epoch 15/20\n",
      "500/500 [==============================] - 76s 152ms/step - loss: 0.2355 - val_loss: 0.2992\n",
      "Epoch 16/20\n",
      "500/500 [==============================] - 77s 155ms/step - loss: 0.2333 - val_loss: 0.2961\n",
      "Epoch 17/20\n",
      "500/500 [==============================] - 75s 150ms/step - loss: 0.2310 - val_loss: 0.2944\n",
      "Epoch 18/20\n",
      "500/500 [==============================] - 45943s 92s/step - loss: 0.2285 - val_loss: 0.2942\n",
      "Epoch 19/20\n",
      "500/500 [==============================] - 79s 158ms/step - loss: 0.2265 - val_loss: 0.2951\n",
      "Epoch 20/20\n",
      "500/500 [==============================] - 73s 146ms/step - loss: 0.2249 - val_loss: 0.3000\n"
     ]
    }
   ],
   "source": [
    "model.compile(optimizer=RMSprop(), loss='mae')\n",
    "history = model.fit_generator(train_gen,\n",
    "                              steps_per_epoch=500,\n",
    "                              epochs=20,\n",
    "                              validation_data=val_gen,\n",
    "                              validation_steps=val_steps)"
   ]
  },
  {
   "cell_type": "code",
   "execution_count": 21,
   "metadata": {},
   "outputs": [
    {
     "data": {
      "image/png": "[encoded data removed]",
      "text/plain": [
       "<Figure size 432x288 with 1 Axes>"
      ]
     },
     "metadata": {},
     "output_type": "display_data"
    }
   ],
   "source": [
    "loss = history.history['loss']\n",
    "val_loss = history.history['val_loss']\n",
    "\n",
    "epochs = range(len(loss))\n",
    "\n",
    "plt.plot(epochs, loss, 'b', label='Training loss')\n",
    "plt.plot(epochs, val_loss, 'r', label='Validation loss')\n",
    "plt.title('Training and validation loss')\n",
    "plt.legend()\n",
    "plt.grid()\n",
    "\n",
    "plt.show()"
   ]
  },
  {
   "cell_type": "code",
   "execution_count": 22,
   "metadata": {},
   "outputs": [
    {
     "name": "stdout",
     "output_type": "stream",
     "text": [
      "evaluate_generator took 6.99 and had a MAE of 0.315469756051898\n"
     ]
    }
   ],
   "source": [
    "import time\n",
    "ti = time.time()\n",
    "retVal = model.evaluate_generator(test_gen, steps=250)\n",
    "tf = time.time()\n",
    "print(f'evaluate_generator took {round(tf - ti, 2)} and had a MAE of {retVal}')"
   ]
  }
 ],
 "metadata": {
  "kernelspec": {
   "display_name": "Python 3",
   "language": "python",
   "name": "python3"
  },
  "language_info": {
   "codemirror_mode": {
    "name": "ipython",
    "version": 3
   },
   "file_extension": ".py",
   "mimetype": "text/x-python",
   "name": "python",
   "nbconvert_exporter": "python",
   "pygments_lexer": "ipython3",
   "version": "3.6.5"
  }
 },
 "nbformat": 4,
 "nbformat_minor": 2
}
