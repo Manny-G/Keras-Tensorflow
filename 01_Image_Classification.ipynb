{
 "cells": [
  {
   "cell_type": "markdown",
   "metadata": {},
   "source": [
    "<a id='Title-Image-Classification'></a>\n",
    "<h1 style=\"color:SlateGray;\">Image Classification</h1>\n",
    "\n",
    "**Input dataset**\n",
    "\n",
    "MNIST: a set of 28x28 grayscale images of single, handwritten digits.\n",
    "\n",
    "**Output classification**\n",
    "\n",
    "Digit with the highest probability in the probability distribution of the 10 possible classes [0, 9].\n",
    "\n",
    "<h2 style=\"color:SlateGray;\">Background</h2>\n",
    "\n",
    "**Layers**\n",
    "\n",
    "<a id='Layers-Dense'></a>\n",
    "*Dense*\n",
    "\n",
    "Used for application of the associated activation function across all nodes, Dense layers tend to have \"natural classification\" properties.\n",
    "\n",
    "Dense layers are implemented as linear maps (one-to-one and onto) and in practice will map from one linear space to a smaller or equal sized one.\n",
    "\t\t\n",
    "**Activations**\n",
    "\n",
    "<a id='Activations-relu'></a>\n",
    "*relu*\n",
    "\n",
    "The default activation function when a clear situationally-specific activation function doesn't present itself. Converges well in general use cases and is computationally inexpensive.\n",
    "\t\t\n",
    "Implemented as the function $f(x) = max(x, 0)$, the source of its efficiency becomes self-evident retaining non-linearity, which is essential for learning complex features/concepts.\n",
    "\t\t\n",
    "<a id='Activations-softmax'></a>\n",
    "*softmax*\n",
    "\n",
    "Used in multi-class classification to generate probabilities for each of the classes.\n",
    "\t\t\n",
    "Normalizes the output vector such that the sum of its elements equals 1, thus, the output vector can be interpreted as a probability distribution.\n",
    "\t\t\n",
    "**Optimizers**\n",
    "\n",
    "<a id='Optimizers-rmsprop'></a>\n",
    "*rmsprop*\n",
    "\n",
    "Generally good optimization function with tunable learning rate parameters.\n",
    "\t\t\n",
    "Behaves similarly to gradient descent with momentum by normalizing the learning rate by a weighted, running average of the magnitudes of recent gradients.\n",
    "\t\t\n",
    "**Loss functions**\n",
    "\n",
    "<a id='Loss-functions-categorical_crossentropy'></a>\n",
    "*categorical_crossentropy*\n",
    "\n",
    "Measures the predictive performance of multi-class classification models.\n",
    "\t\t\n",
    "Implemented as the function $L = -\\mathbf{y} \\cdot log(\\hat{ \\mathbf{y} })$, when $\\mathbf{y}$ is the input label vector and $\\hat{ \\mathbf{y} }$ is the model's output \"prediction vector.\"\n",
    "\n",
    "<h2 style=\"color:SlateGray;\">Overview</h2>\n",
    "\n",
    "Multi-class image classification model predicting the most likely digit contained in the image.\n",
    "\n",
    "The model trains on 60,000 images through a 2-layer network and tests against 10,000 images. Images are converted from 28x28x1 $(l,w,d)$ arrays to 512x1x1 arrays"
   ]
  },
  {
   "cell_type": "code",
   "execution_count": 1,
   "metadata": {},
   "outputs": [
    {
     "name": "stderr",
     "output_type": "stream",
     "text": [
      "Using TensorFlow backend.\n"
     ]
    },
    {
     "data": {
      "text/plain": [
       "'2.2.2'"
      ]
     },
     "execution_count": 1,
     "metadata": {},
     "output_type": "execute_result"
    }
   ],
   "source": [
    "import keras\n",
    "keras.__version__"
   ]
  },
  {
   "cell_type": "code",
   "execution_count": 2,
   "metadata": {},
   "outputs": [],
   "source": [
    "from keras.datasets import mnist\n",
    "\n",
    "(train_images, train_labels), (test_images, test_labels) = mnist.load_data()"
   ]
  },
  {
   "cell_type": "code",
   "execution_count": 3,
   "metadata": {},
   "outputs": [],
   "source": [
    "from keras.utils import to_categorical\n",
    "\n",
    "train_images = train_images.reshape((60000, 28 * 28))\n",
    "train_images = train_images.astype('float32') / 255\n",
    "\n",
    "test_images = test_images.reshape((10000, 28 * 28))\n",
    "test_images = test_images.astype('float32') / 255\n",
    "\n",
    "train_labels = to_categorical(train_labels)\n",
    "test_labels = to_categorical(test_labels)"
   ]
  },
  {
   "cell_type": "code",
   "execution_count": 4,
   "metadata": {},
   "outputs": [
    {
     "name": "stdout",
     "output_type": "stream",
     "text": [
      "_________________________________________________________________\n",
      "Layer (type)                 Output Shape              Param #   \n",
      "=================================================================\n",
      "dense_1 (Dense)              (None, 512)               401920    \n",
      "_________________________________________________________________\n",
      "dense_2 (Dense)              (None, 10)                5130      \n",
      "=================================================================\n",
      "Total params: 407,050\n",
      "Trainable params: 407,050\n",
      "Non-trainable params: 0\n",
      "_________________________________________________________________\n"
     ]
    }
   ],
   "source": [
    "from keras import models\n",
    "from keras import layers\n",
    "\n",
    "network = models.Sequential()\n",
    "network.add(layers.Dense(512, activation='relu', input_shape=(28 * 28,)))\n",
    "network.add(layers.Dense(10, activation='softmax'))\n",
    "network.summary()"
   ]
  },
  {
   "cell_type": "code",
   "execution_count": 5,
   "metadata": {},
   "outputs": [],
   "source": [
    "network.compile(optimizer='rmsprop',\n",
    "                loss='categorical_crossentropy',\n",
    "                metrics=['accuracy'])"
   ]
  },
  {
   "cell_type": "code",
   "execution_count": 6,
   "metadata": {},
   "outputs": [
    {
     "name": "stdout",
     "output_type": "stream",
     "text": [
      "Epoch 1/5\n",
      "60000/60000 [==============================] - 4s 73us/step - loss: 0.2549 - acc: 0.9261\n",
      "Epoch 2/5\n",
      "60000/60000 [==============================] - 2s 30us/step - loss: 0.1034 - acc: 0.9692\n",
      "Epoch 3/5\n",
      "60000/60000 [==============================] - 2s 29us/step - loss: 0.0674 - acc: 0.9795\n",
      "Epoch 4/5\n",
      "60000/60000 [==============================] - 2s 32us/step - loss: 0.0495 - acc: 0.9854\n",
      "Epoch 5/5\n",
      "60000/60000 [==============================] - 2s 31us/step - loss: 0.0369 - acc: 0.9890\n"
     ]
    }
   ],
   "source": [
    "history = network.fit(train_images, train_labels,\n",
    "            epochs=5,\n",
    "            batch_size=128)"
   ]
  },
  {
   "cell_type": "code",
   "execution_count": 8,
   "metadata": {},
   "outputs": [
    {
     "data": {
      "image/png": "[encoded data removed]",
      "text/plain": [
       "<Figure size 432x288 with 1 Axes>"
      ]
     },
     "metadata": {},
     "output_type": "display_data"
    }
   ],
   "source": [
    "import matplotlib.pyplot as plt\n",
    "\n",
    "acc = history.history['acc']\n",
    "loss = history.history['loss']\n",
    "\n",
    "epochs = range(len(acc))\n",
    "\n",
    "plt.plot(epochs, acc, 'b', label='Training accuracy')\n",
    "plt.xlabel('Epochs')\n",
    "plt.ylabel('Accuracy')\n",
    "plt.legend()\n",
    "plt.grid()\n",
    "plt.show()"
   ]
  },
  {
   "cell_type": "code",
   "execution_count": 9,
   "metadata": {},
   "outputs": [
    {
     "data": {
      "image/png": "[encoded data removed]",
      "text/plain": [
       "<Figure size 432x288 with 1 Axes>"
      ]
     },
     "metadata": {},
     "output_type": "display_data"
    }
   ],
   "source": [
    "plt.figure()\n",
    "\n",
    "plt.plot(epochs, loss, 'b', label='Training loss')\n",
    "plt.xlabel('Epochs')\n",
    "plt.title('Loss')\n",
    "plt.legend()\n",
    "plt.grid()\n",
    "\n",
    "plt.show()"
   ]
  },
  {
   "cell_type": "code",
   "execution_count": 10,
   "metadata": {},
   "outputs": [
    {
     "name": "stdout",
     "output_type": "stream",
     "text": [
      "10000/10000 [==============================] - 0s 46us/step\n",
      "test_acc: 0.978\n"
     ]
    }
   ],
   "source": [
    "test_loss, test_acc = network.evaluate(test_images, test_labels)\n",
    "print('test_acc:', test_acc)"
   ]
  }
 ],
 "metadata": {
  "kernelspec": {
   "display_name": "Python 3",
   "language": "python",
   "name": "python3"
  },
  "language_info": {
   "codemirror_mode": {
    "name": "ipython",
    "version": 3
   },
   "file_extension": ".py",
   "mimetype": "text/x-python",
   "name": "python",
   "nbconvert_exporter": "python",
   "pygments_lexer": "ipython3",
   "version": "3.6.5"
  }
 },
 "nbformat": 4,
 "nbformat_minor": 2
}
